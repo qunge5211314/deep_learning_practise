{
 "cells": [
  {
   "cell_type": "markdown",
   "id": "magnetic-married",
   "metadata": {},
   "source": [
    "# MLP服饰识别"
   ]
  },
  {
   "cell_type": "raw",
   "id": "sophisticated-liverpool",
   "metadata": {},
   "source": [
    "基于fashion_mnist数据集，建立mlp模型，实现服饰图片十分类task：：\n",
    "\n",
    "1、实现图像数据加载、可视化\n",
    "2、进行数据预处理：维度转化，归一化、输出结果格式转化\n",
    "3、建立mlp模型，进行模型训练与预测，计算模型在训练、测试数据集的准确率\n",
    "4、选取一个测试样本，预测其类别\n",
    "5、选取测试集中9个样本，分别预测其类别\n",
    "\n",
    "模型结构：两层隐藏层（激活函数：relu），分别有392、196个神经元；输出层10类，激活函数softmax"
   ]
  },
  {
   "cell_type": "code",
   "execution_count": 64,
   "id": "stainless-drill",
   "metadata": {},
   "outputs": [],
   "source": [
    "# 依赖导入\n",
    "import numpy as np\n",
    "import pandas as pd\n",
    "import matplotlib.pyplot as plt\n",
    "from keras.datasets import fashion_mnist\n",
    "from keras.utils import to_categorical\n",
    "from keras.models import Sequential\n",
    "from keras.layers import Dense, Activation\n",
    "from sklearn.metrics import accuracy_score"
   ]
  },
  {
   "cell_type": "code",
   "execution_count": 67,
   "id": "micro-religion",
   "metadata": {},
   "outputs": [],
   "source": [
    "plt.rcParams['font.sans-serif'] = ['Songti SC']"
   ]
  },
  {
   "cell_type": "code",
   "execution_count": 18,
   "id": "floating-massage",
   "metadata": {},
   "outputs": [],
   "source": [
    "# 导入数据\n",
    "(x_train, y_train),(x_test, y_test) = fashion_mnist.load_data()"
   ]
  },
  {
   "cell_type": "code",
   "execution_count": 19,
   "id": "characteristic-insurance",
   "metadata": {},
   "outputs": [
    {
     "data": {
      "text/plain": [
       "<matplotlib.image.AxesImage at 0x7fe14e3d7790>"
      ]
     },
     "execution_count": 19,
     "metadata": {},
     "output_type": "execute_result"
    },
    {
     "data": {
      "image/png": "[encoded data removed]",
      "text/plain": [
       "<Figure size 216x216 with 1 Axes>"
      ]
     },
     "metadata": {
      "needs_background": "light"
     },
     "output_type": "display_data"
    }
   ],
   "source": [
    "# 样本可视化\n",
    "img1 = x_train[0]\n",
    "fig1 = plt.figure(figsize=(3,3))\n",
    "plt.title(y_train[0])\n",
    "plt.imshow(img1)"
   ]
  },
  {
   "cell_type": "code",
   "execution_count": 24,
   "id": "suspended-trinidad",
   "metadata": {},
   "outputs": [
    {
     "name": "stdout",
     "output_type": "stream",
     "text": [
      "784\n",
      "(60000, 784)\n",
      "(10000, 784)\n"
     ]
    }
   ],
   "source": [
    "# 输入数据的预处理\n",
    "feature_size = img1.shape[0] * img1.shape[1]\n",
    "x_train_format = x_train.reshape(x_train.shape[0], feature_size)\n",
    "x_test_format = x_test.reshape(x_test.shape[0], feature_size)\n",
    "print(feature_size)\n",
    "print(x_train_format.shape)\n",
    "print(x_test_format.shape)"
   ]
  },
  {
   "cell_type": "code",
   "execution_count": 21,
   "id": "sublime-passage",
   "metadata": {},
   "outputs": [],
   "source": [
    "# 数据的归一化处理\n",
    "x_train_normal = x_train_format / 255\n",
    "x_test_normal = x_test_format / 255"
   ]
  },
  {
   "cell_type": "code",
   "execution_count": 26,
   "id": "sonic-pocket",
   "metadata": {},
   "outputs": [
    {
     "name": "stdout",
     "output_type": "stream",
     "text": [
      "[0. 0. 0. 0. 0. 0. 0. 0. 0. 1.]\n",
      "9\n",
      "(60000, 10)\n"
     ]
    }
   ],
   "source": [
    "# 输出结果的数据预处理\n",
    "y_train_format = to_categorical(y_train)\n",
    "y_test_format = to_categorical(y_test)\n",
    "print(y_train_format[0])\n",
    "print(y_train[0])\n",
    "print(y_train_format.shape)"
   ]
  },
  {
   "cell_type": "code",
   "execution_count": 29,
   "id": "wound-congress",
   "metadata": {},
   "outputs": [
    {
     "name": "stdout",
     "output_type": "stream",
     "text": [
      "Model: \"sequential_1\"\n",
      "_________________________________________________________________\n",
      "Layer (type)                 Output Shape              Param #   \n",
      "=================================================================\n",
      "dense_1 (Dense)              (None, 392)               307720    \n",
      "_________________________________________________________________\n",
      "dense_2 (Dense)              (None, 196)               77028     \n",
      "_________________________________________________________________\n",
      "dense_3 (Dense)              (None, 10)                1970      \n",
      "=================================================================\n",
      "Total params: 386,718\n",
      "Trainable params: 386,718\n",
      "Non-trainable params: 0\n",
      "_________________________________________________________________\n"
     ]
    }
   ],
   "source": [
    "# 建立mlp模型\n",
    "mlp = Sequential()\n",
    "mlp.add(Dense(units=392, input_dim=feature_size, activation = \"relu\"))\n",
    "mlp.add(Dense(units=196, activation=\"relu\"))\n",
    "mlp.add(Dense(units=10, activation=\"softmax\"))\n",
    "mlp.summary()"
   ]
  },
  {
   "cell_type": "code",
   "execution_count": 31,
   "id": "charitable-manchester",
   "metadata": {},
   "outputs": [],
   "source": [
    "# 参数配置\n",
    "mlp.compile(optimizer=\"adam\", loss=\"categorical_crossentropy\", metrics=[\"categorical_accuracy\"])"
   ]
  },
  {
   "cell_type": "code",
   "execution_count": 33,
   "id": "optimum-procurement",
   "metadata": {},
   "outputs": [
    {
     "name": "stdout",
     "output_type": "stream",
     "text": [
      "Epoch 1/10\n",
      "60000/60000 [==============================] - 7s 118us/step - loss: 0.2123 - categorical_accuracy: 0.9189\n",
      "Epoch 2/10\n",
      "60000/60000 [==============================] - 7s 120us/step - loss: 0.2052 - categorical_accuracy: 0.9221\n",
      "Epoch 3/10\n",
      "60000/60000 [==============================] - 7s 125us/step - loss: 0.1976 - categorical_accuracy: 0.9242\n",
      "Epoch 4/10\n",
      "60000/60000 [==============================] - 9s 144us/step - loss: 0.1906 - categorical_accuracy: 0.9265\n",
      "Epoch 5/10\n",
      "60000/60000 [==============================] - 8s 135us/step - loss: 0.1841 - categorical_accuracy: 0.9290\n",
      "Epoch 6/10\n",
      "60000/60000 [==============================] - 7s 120us/step - loss: 0.1761 - categorical_accuracy: 0.9326\n",
      "Epoch 7/10\n",
      "60000/60000 [==============================] - 7s 115us/step - loss: 0.1719 - categorical_accuracy: 0.9343\n",
      "Epoch 8/10\n",
      "60000/60000 [==============================] - 7s 113us/step - loss: 0.1660 - categorical_accuracy: 0.9357\n",
      "Epoch 9/10\n",
      "60000/60000 [==============================] - 7s 114us/step - loss: 0.1622 - categorical_accuracy: 0.9379\n",
      "Epoch 10/10\n",
      "60000/60000 [==============================] - 7s 114us/step - loss: 0.1567 - categorical_accuracy: 0.9392\n"
     ]
    },
    {
     "data": {
      "text/plain": [
       "<keras.callbacks.callbacks.History at 0x7fe14e191610>"
      ]
     },
     "execution_count": 33,
     "metadata": {},
     "output_type": "execute_result"
    }
   ],
   "source": [
    "# 模型训练\n",
    "mlp.fit(x_train_normal, y_train_format, epochs=10)"
   ]
  },
  {
   "cell_type": "code",
   "execution_count": 35,
   "id": "tight-webcam",
   "metadata": {},
   "outputs": [],
   "source": [
    "# 结果预测\n",
    "y_train_predict = mlp.predict_classes(x_train_normal)"
   ]
  },
  {
   "cell_type": "code",
   "execution_count": 37,
   "id": "legal-australia",
   "metadata": {},
   "outputs": [
    {
     "name": "stdout",
     "output_type": "stream",
     "text": [
      "[9 0 0 3 0 2 7 2 5 5]\n"
     ]
    }
   ],
   "source": [
    "print(y_train_predict[:10])"
   ]
  },
  {
   "cell_type": "code",
   "execution_count": 41,
   "id": "polar-optimization",
   "metadata": {},
   "outputs": [
    {
     "data": {
      "text/plain": [
       "0.9489"
      ]
     },
     "execution_count": 41,
     "metadata": {},
     "output_type": "execute_result"
    }
   ],
   "source": [
    "# 表现评估\n",
    "accuracy_train = accuracy_score(y_train, y_train_predict)\n",
    "accuracy_train"
   ]
  },
  {
   "cell_type": "code",
   "execution_count": 42,
   "id": "acquired-grace",
   "metadata": {},
   "outputs": [],
   "source": [
    "y_test_predict = mlp.predict_classes(x_test_normal)"
   ]
  },
  {
   "cell_type": "code",
   "execution_count": 43,
   "id": "chubby-bahrain",
   "metadata": {},
   "outputs": [
    {
     "name": "stdout",
     "output_type": "stream",
     "text": [
      "[9 2 1 1 6 1 4 6 5 7]\n"
     ]
    }
   ],
   "source": [
    "print(y_test_predict[:10])"
   ]
  },
  {
   "cell_type": "code",
   "execution_count": 46,
   "id": "missing-console",
   "metadata": {},
   "outputs": [
    {
     "data": {
      "text/plain": [
       "0.8992"
      ]
     },
     "execution_count": 46,
     "metadata": {},
     "output_type": "execute_result"
    }
   ],
   "source": [
    "accuracy_test = accuracy_score(y_test, y_test_predict)\n",
    "accuracy_test"
   ]
  },
  {
   "cell_type": "code",
   "execution_count": 47,
   "id": "automotive-restaurant",
   "metadata": {},
   "outputs": [
    {
     "name": "stdout",
     "output_type": "stream",
     "text": [
      "{0: 'T shirt', 1: '裤子', 2: '套头衫', 3: '裙子', 4: '外套 ', 5: '凉鞋', 6: '衬衫', 7: '运动鞋', 8: '包 ', 9: '踝靴'}\n"
     ]
    }
   ],
   "source": [
    "# 创建结果标签字典\n",
    "label_dict={0:'T shirt',1:'裤子',2:'套头衫',3:'裙子',4:'外套 ',5:'凉鞋',6:'衬衫',7:'运动鞋',8:'包 ',9:'踝靴'}\n",
    "print(label_dict)"
   ]
  },
  {
   "cell_type": "code",
   "execution_count": 68,
   "id": "organic-egypt",
   "metadata": {},
   "outputs": [
    {
     "data": {
      "text/plain": [
       "<matplotlib.image.AxesImage at 0x7fe14b28ee50>"
      ]
     },
     "execution_count": 68,
     "metadata": {},
     "output_type": "execute_result"
    },
    {
     "data": {
      "image/png": "[encoded data removed]",
      "text/plain": [
       "<Figure size 216x216 with 1 Axes>"
      ]
     },
     "metadata": {
      "needs_background": "light"
     },
     "output_type": "display_data"
    }
   ],
   "source": [
    "# 样本可视化\n",
    "img1 = x_train[100]\n",
    "fig2 = plt.figure(figsize=(3,3))\n",
    "plt.title(label_dict.get(y_train_predict[100]))\n",
    "plt.imshow(img1)"
   ]
  },
  {
   "cell_type": "code",
   "execution_count": 72,
   "id": "gross-metro",
   "metadata": {},
   "outputs": [
    {
     "name": "stdout",
     "output_type": "stream",
     "text": [
      "[1, 2, 3, 4, 5, 6, 7, 8, 9]\n"
     ]
    },
    {
     "data": {
      "image/png": "[encoded data removed]",
      "text/plain": [
       "<Figure size 720x720 with 9 Axes>"
      ]
     },
     "metadata": {
      "needs_background": "light"
     },
     "output_type": "display_data"
    }
   ],
   "source": [
    "a = [i for i in range(1,10)]\n",
    "print(a)\n",
    "fig3 = plt.figure(figsize=(10,10))\n",
    "font2 = {'family': 'Songti SC'}\n",
    "\n",
    "\n",
    "for i in a:\n",
    "    plt.subplot(3,3,i)\n",
    "    plt.imshow(x_test[i])\n",
    "    plt.title('predict:{}'.format(label_dict[y_test_predict[i]]),font2)"
   ]
  },
  {
   "cell_type": "raw",
   "id": "sticky-maximum",
   "metadata": {},
   "source": [
    "Fashion_mnist图形分类实战summary：\n",
    "\n",
    "1、通过建立mlp模型，实现了基于10种类别的服饰图片自动识别分类；\n",
    "2、完成了图像数据的加载、可视化\n",
    "3、对mlp模型的输入、输出数据格式有了更深的认识，完成了数据预处理与格式转换\n",
    "4、建立了结构更为复杂的mlp模型，完成了预测及表现评估"
   ]
  }
 ],
 "metadata": {
  "kernelspec": {
   "display_name": "Python 3",
   "language": "python",
   "name": "python3"
  },
  "language_info": {
   "codemirror_mode": {
    "name": "ipython",
    "version": 3
   },
   "file_extension": ".py",
   "mimetype": "text/x-python",
   "name": "python",
   "nbconvert_exporter": "python",
   "pygments_lexer": "ipython3",
   "version": "3.7.8"
  }
 },
 "nbformat": 4,
 "nbformat_minor": 5
}
