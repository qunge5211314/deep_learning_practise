{
 "cells": [
  {
   "cell_type": "markdown",
   "id": "exposed-hampshire",
   "metadata": {},
   "source": [
    "任务：测试课程中将使用到的核心工具包，具体包括\n",
    "1、pandas本地数据读取与索引\n",
    "2、numpy基本的数组运算\n",
    "3、matplotlib进行数据可视化\n",
    "4、sklearn进行数据标准化\n",
    "5、keras建立一个基本的MLP模型"
   ]
  },
  {
   "cell_type": "code",
   "execution_count": 1,
   "id": "apart-student",
   "metadata": {},
   "outputs": [
    {
     "data": {
      "text/html": [
       "<div>\n",
       "<style scoped>\n",
       "    .dataframe tbody tr th:only-of-type {\n",
       "        vertical-align: middle;\n",
       "    }\n",
       "\n",
       "    .dataframe tbody tr th {\n",
       "        vertical-align: top;\n",
       "    }\n",
       "\n",
       "    .dataframe thead th {\n",
       "        text-align: right;\n",
       "    }\n",
       "</style>\n",
       "<table border=\"1\" class=\"dataframe\">\n",
       "  <thead>\n",
       "    <tr style=\"text-align: right;\">\n",
       "      <th></th>\n",
       "      <th>date</th>\n",
       "      <th>price</th>\n",
       "    </tr>\n",
       "  </thead>\n",
       "  <tbody>\n",
       "    <tr>\n",
       "      <th>0</th>\n",
       "      <td>1</td>\n",
       "      <td>167.5400</td>\n",
       "    </tr>\n",
       "    <tr>\n",
       "      <th>1</th>\n",
       "      <td>2</td>\n",
       "      <td>163.6601</td>\n",
       "    </tr>\n",
       "    <tr>\n",
       "      <th>2</th>\n",
       "      <td>3</td>\n",
       "      <td>159.6147</td>\n",
       "    </tr>\n",
       "    <tr>\n",
       "      <th>3</th>\n",
       "      <td>4</td>\n",
       "      <td>158.6385</td>\n",
       "    </tr>\n",
       "    <tr>\n",
       "      <th>4</th>\n",
       "      <td>5</td>\n",
       "      <td>157.4390</td>\n",
       "    </tr>\n",
       "  </tbody>\n",
       "</table>\n",
       "</div>"
      ],
      "text/plain": [
       "   date     price\n",
       "0     1  167.5400\n",
       "1     2  163.6601\n",
       "2     3  159.6147\n",
       "3     4  158.6385\n",
       "4     5  157.4390"
      ]
     },
     "execution_count": 1,
     "metadata": {},
     "output_type": "execute_result"
    }
   ],
   "source": [
    "# 导入数据\n",
    "import pandas as pd\n",
    "data = pd.read_csv(\"./GZMT_price.csv\")\n",
    "data.head()"
   ]
  },
  {
   "cell_type": "code",
   "execution_count": 2,
   "id": "discrete-singing",
   "metadata": {},
   "outputs": [
    {
     "data": {
      "text/plain": [
       "0    1\n",
       "1    2\n",
       "2    3\n",
       "3    4\n",
       "4    5\n",
       "Name: date, dtype: int64"
      ]
     },
     "execution_count": 2,
     "metadata": {},
     "output_type": "execute_result"
    }
   ],
   "source": [
    "# x, y 赋值\n",
    "x = data.loc[:, \"date\"]\n",
    "x.head()"
   ]
  },
  {
   "cell_type": "code",
   "execution_count": 3,
   "id": "occupied-annotation",
   "metadata": {},
   "outputs": [
    {
     "data": {
      "text/plain": [
       "0    167.5400\n",
       "1    163.6601\n",
       "2    159.6147\n",
       "3    158.6385\n",
       "4    157.4390\n",
       "Name: price, dtype: float64"
      ]
     },
     "execution_count": 3,
     "metadata": {},
     "output_type": "execute_result"
    }
   ],
   "source": [
    "y = data.loc[:, \"price\"]\n",
    "y.head()"
   ]
  },
  {
   "cell_type": "code",
   "execution_count": 4,
   "id": "minimal-vegetation",
   "metadata": {},
   "outputs": [
    {
     "name": "stdout",
     "output_type": "stream",
     "text": [
      "<class 'pandas.core.series.Series'>\n",
      "<class 'numpy.ndarray'>\n"
     ]
    }
   ],
   "source": [
    "# 数据类型转换\n",
    "import numpy as np\n",
    "x_array = np.array(x)\n",
    "print(type(x))\n",
    "print(type(x_array))"
   ]
  },
  {
   "cell_type": "code",
   "execution_count": 5,
   "id": "supported-disorder",
   "metadata": {},
   "outputs": [
    {
     "data": {
      "text/plain": [
       "(1219, 1)"
      ]
     },
     "execution_count": 5,
     "metadata": {},
     "output_type": "execute_result"
    }
   ],
   "source": [
    "x_array = x_array.reshape(-1,1)\n",
    "x_array.shape"
   ]
  },
  {
   "cell_type": "code",
   "execution_count": 6,
   "id": "black-punishment",
   "metadata": {},
   "outputs": [
    {
     "data": {
      "text/plain": [
       "(1, 1219)"
      ]
     },
     "execution_count": 6,
     "metadata": {},
     "output_type": "execute_result"
    }
   ],
   "source": [
    "# x_array的转置\n",
    "x_array_t = x_array.T\n",
    "x_array_t.shape"
   ]
  },
  {
   "cell_type": "code",
   "execution_count": 7,
   "id": "wound-genetics",
   "metadata": {},
   "outputs": [
    {
     "name": "stdout",
     "output_type": "stream",
     "text": [
      "[[      1       2       3 ...    1217    1218    1219]\n",
      " [      2       4       6 ...    2434    2436    2438]\n",
      " [      3       6       9 ...    3651    3654    3657]\n",
      " ...\n",
      " [   1217    2434    3651 ... 1481089 1482306 1483523]\n",
      " [   1218    2436    3654 ... 1482306 1483524 1484742]\n",
      " [   1219    2438    3657 ... 1483523 1484742 1485961]]\n"
     ]
    },
    {
     "data": {
      "text/plain": [
       "(1219, 1219)"
      ]
     },
     "execution_count": 7,
     "metadata": {},
     "output_type": "execute_result"
    }
   ],
   "source": [
    "# 矩阵乘法\n",
    "temp = x_array * x_array_t\n",
    "print(temp)\n",
    "temp.shape"
   ]
  },
  {
   "cell_type": "code",
   "execution_count": 8,
   "id": "loved-chest",
   "metadata": {},
   "outputs": [],
   "source": [
    "from matplotlib import pyplot as plt"
   ]
  },
  {
   "cell_type": "code",
   "execution_count": 9,
   "id": "novel-generic",
   "metadata": {},
   "outputs": [
    {
     "data": {
      "image/png": "[encoded data removed]",
      "text/plain": [
       "<Figure size 432x288 with 1 Axes>"
      ]
     },
     "metadata": {
      "needs_background": "light"
     },
     "output_type": "display_data"
    }
   ],
   "source": [
    "fig1 = plt.figure()\n",
    "plt.scatter(x_array, y)\n",
    "plt.show()"
   ]
  },
  {
   "cell_type": "code",
   "execution_count": 10,
   "id": "future-membrane",
   "metadata": {},
   "outputs": [
    {
     "data": {
      "text/plain": [
       "array([[-1.13519511],\n",
       "       [-1.14830961],\n",
       "       [-1.16198351],\n",
       "       ...,\n",
       "       [ 2.18417088],\n",
       "       [ 2.26034745],\n",
       "       [ 2.25099265]])"
      ]
     },
     "execution_count": 10,
     "metadata": {},
     "output_type": "execute_result"
    }
   ],
   "source": [
    "# 数据标准化\n",
    "from sklearn.preprocessing import StandardScaler\n",
    "std = StandardScaler()\n",
    "y_std = std.fit_transform(np.array(y).reshape(-1,1))\n",
    "y_std"
   ]
  },
  {
   "cell_type": "code",
   "execution_count": 11,
   "id": "funky-sample",
   "metadata": {},
   "outputs": [
    {
     "data": {
      "image/png": "[encoded data removed]",
      "text/plain": [
       "<Figure size 432x288 with 1 Axes>"
      ]
     },
     "metadata": {
      "needs_background": "light"
     },
     "output_type": "display_data"
    }
   ],
   "source": [
    "fig2 = plt.figure()\n",
    "plt.scatter(x_array, y_std)\n",
    "plt.show()"
   ]
  },
  {
   "cell_type": "code",
   "execution_count": 12,
   "id": "satellite-astrology",
   "metadata": {},
   "outputs": [
    {
     "name": "stderr",
     "output_type": "stream",
     "text": [
      "Using TensorFlow backend.\n"
     ]
    }
   ],
   "source": [
    "# 创建MLP模型\n",
    "from keras.models import Sequential\n",
    "from keras.layers import Dense\n",
    "model = Sequential()"
   ]
  },
  {
   "cell_type": "code",
   "execution_count": 13,
   "id": "completed-router",
   "metadata": {},
   "outputs": [
    {
     "name": "stdout",
     "output_type": "stream",
     "text": [
      "Model: \"sequential_1\"\n",
      "_________________________________________________________________\n",
      "Layer (type)                 Output Shape              Param #   \n",
      "=================================================================\n",
      "dense_1 (Dense)              (None, 5)                 10        \n",
      "_________________________________________________________________\n",
      "dense_2 (Dense)              (None, 1)                 6         \n",
      "=================================================================\n",
      "Total params: 16\n",
      "Trainable params: 16\n",
      "Non-trainable params: 0\n",
      "_________________________________________________________________\n"
     ]
    }
   ],
   "source": [
    "# 添加相应层\n",
    "model.add(Dense(units=5, input_dim=1, activation=\"sigmoid\"))\n",
    "# 添加输出层\n",
    "model.add(Dense(units=1, activation=\"sigmoid\"))\n",
    "model.summary()"
   ]
  },
  {
   "cell_type": "markdown",
   "id": "known-original",
   "metadata": {},
   "source": [
    "Summary：\n",
    "\n",
    "1、完成了深度学习开发核心环境配置：anaconda、jupyter、各类工具包（pandas、numpy\n",
    "matplotlib、sklearn、keras）的安装与配置；\n",
    "2、实现了各个核心工具包的快速测试；\n",
    "3、搭建了一个基础的MLP模型"
   ]
  },
  {
   "cell_type": "code",
   "execution_count": null,
   "id": "nuclear-active",
   "metadata": {},
   "outputs": [],
   "source": []
  }
 ],
 "metadata": {
  "kernelspec": {
   "display_name": "Python 3",
   "language": "python",
   "name": "python3"
  },
  "language_info": {
   "codemirror_mode": {
    "name": "ipython",
    "version": 3
   },
   "file_extension": ".py",
   "mimetype": "text/x-python",
   "name": "python",
   "nbconvert_exporter": "python",
   "pygments_lexer": "ipython3",
   "version": "3.7.9"
  }
 },
 "nbformat": 4,
 "nbformat_minor": 5
}
