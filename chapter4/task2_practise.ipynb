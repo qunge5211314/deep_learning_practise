{
 "cells": [
  {
   "cell_type": "markdown",
   "id": "forty-conspiracy",
   "metadata": {},
   "source": [
    "# LSTM文本生成"
   ]
  },
  {
   "cell_type": "raw",
   "id": "spanish-inspection",
   "metadata": {},
   "source": [
    "任务：基于task2_data，建立LSTM模型，生成文本：\n",
    "\n",
    "1、加载本地文本数据，生成字典\n",
    "2、数据预处理：将数据转化为符合LSTM模型输入要求的数据，确认数据结构；\n",
    "3、建立LSTM模型，进行模型训练，计算模型在训练、测试数据集的准确率\n",
    "4、预测” Artificial intelligence (AI), sometimes called machine intelligence, is intelligence demonstrated by machines”的后续字符\n",
    "\n",
    "模型结构：单层LSTM，30神经元\n",
    "每次使用前30个字符预测第31个字符"
   ]
  },
  {
   "cell_type": "code",
   "execution_count": 44,
   "id": "checked-transportation",
   "metadata": {},
   "outputs": [],
   "source": [
    "# 依赖导入\n",
    "import numpy as np\n",
    "import pandas as pd\n",
    "import matplotlib.pyplot as plt\n",
    "from tensorflow.keras.models import Sequential\n",
    "from tensorflow.keras.layers import Dense, LSTM\n",
    "from tensorflow.keras.utils import to_categorical\n",
    "from sklearn.model_selection import train_test_split\n",
    "from sklearn.metrics import accuracy_score"
   ]
  },
  {
   "cell_type": "code",
   "execution_count": 3,
   "id": "literary-vegetable",
   "metadata": {},
   "outputs": [
    {
     "data": {
      "text/plain": [
       "'Artificial intelligence (AI), sometimes called machine intelligence, is intelligence demonstrated by machines, unlike the natural intelligence displayed by humans and animals. Leading AI textbooks define the field as the study of \"intelligent agents\": any device that perceives its environment and takes actions that maximize its chance of successfully achieving its goals.Artificial intelligence (AI), sometimes called machine intelligence, is intelligence demonstrated by machines, unlike the natural intelligence displayed by humans and animals. Leading AI textbooks define the field as the study of \"intelligent agents\": any device that perceives its environment and takes actions that maximize its chance of successfully achieving its goals.Artificial intelligence (AI), sometimes called machine intelligence, is intelligence demonstrated by machines, unlike the natural intelligence displayed by humans and animals. Leading AI textbooks define the field as the study of \"intelligent agents\": any device that perceives its environment and takes actions that maximize its chance of successfully achieving its goals.Artificial intelligence (AI), sometimes called machine intelligence, is intelligence demonstrated by machines, unlike the natural intelligence displayed by humans and animals. Leading AI textbooks define the field as the study of \"intelligent agents\": any device that perceives its environment and takes actions that maximize its chance of successfully achieving its goals.Artificial intelligence (AI), sometimes called machine intelligence, is intelligence demonstrated by machines, unlike the natural intelligence displayed by humans and animals. Leading AI textbooks define the field as the study of \"intelligent agents\": any device that perceives its environment and takes actions that maximize its chance of successfully achieving its goals.Artificial intelligence (AI), sometimes called machine intelligence, is intelligence demonstrated by machines, unlike the natural intelligence displayed by humans and animals. Leading AI textbooks define the field as the study of \"intelligent agents\": any device that perceives its environment and takes actions that maximize its chance of successfully achieving its goals.Artificial intelligence (AI), sometimes called machine intelligence, is intelligence demonstrated by machines, unlike the natural intelligence displayed by humans and animals. Leading AI textbooks define the field as the study of \"intelligent agents\": any device that perceives its environment and takes actions that maximize its chance of successfully achieving its goals.Artificial intelligence (AI), sometimes called machine intelligence, is intelligence demonstrated by machines, unlike the natural intelligence displayed by humans and animals. Leading AI textbooks define the field as the study of \"intelligent agents\": any device that perceives its environment and takes actions that maximize its chance of successfully achieving its goals.Artificial intelligence (AI), sometimes called machine intelligence, is intelligence demonstrated by machines, unlike the natural intelligence displayed by humans and animals. Leading AI textbooks define the field as the study of \"intelligent agents\": any device that perceives its environment and takes actions that maximize its chance of successfully achieving its goals.Artificial intelligence (AI), sometimes called machine intelligence, is intelligence demonstrated by machines, unlike the natural intelligence displayed by humans and animals. Leading AI textbooks define the field as the study of \"intelligent agents\": any device that perceives its environment and takes actions that maximize its chance of successfully achieving its goals.Artificial intelligence (AI), sometimes called machine intelligence, is intelligence demonstrated by machines, unlike the natural intelligence displayed by humans and animals. Leading AI textbooks define the field as the study of \"intelligent agents\": any device that perceives its environment and takes actions that maximize its chance of successfully achieving its goals.Artificial intelligence (AI), sometimes called machine intelligence, is intelligence demonstrated by machines, unlike the natural intelligence displayed by humans and animals. Leading AI textbooks define the field as the study of \"intelligent agents\": any device that perceives its environment and takes actions that maximize its chance of successfully achieving its goals.Artificial intelligence (AI), sometimes called machine intelligence, is intelligence demonstrated by machines, unlike the natural intelligence displayed by humans and animals. Leading AI textbooks define the field as the study of \"intelligent agents\": any device that perceives its environment and takes actions that maximize its chance of successfully achieving its goals.Artificial intelligence (AI), sometimes called machine intelligence, is intelligence demonstrated by machines, unlike the natural intelligence displayed by humans and animals. Leading AI textbooks define the field as the study of \"intelligent agents\": any device that perceives its environment and takes actions that maximize its chance of successfully achieving its goals.Artificial intelligence (AI), sometimes called machine intelligence, is intelligence demonstrated by machines, unlike the natural intelligence displayed by humans and animals. Leading AI textbooks define the field as the study of \"intelligent agents\": any device that perceives its environment and takes actions that maximize its chance of successfully achieving its goals.Artificial intelligence (AI), sometimes called machine intelligence, is intelligence demonstrated by machines, unlike the natural intelligence displayed by humans and animals. Leading AI textbooks define the field as the study of \"intelligent agents\": any device that perceives its environment and takes actions that maximize its chance of successfully achieving its goals.Artificial intelligence (AI), sometimes called machine intelligence, is intelligence demonstrated by machines, unlike the natural intelligence displayed by humans and animals. Leading AI textbooks define the field as the study of \"intelligent agents\": any device that perceives its environment and takes actions that maximize its chance of successfully achieving its goals.Artificial intelligence (AI), sometimes called machine intelligence, is intelligence demonstrated by machines, unlike the natural intelligence displayed by humans and animals. Leading AI textbooks define the field as the study of \"intelligent agents\": any device that perceives its environment and takes actions that maximize its chance of successfully achieving its goals.Artificial intelligence (AI), sometimes called machine intelligence, is intelligence demonstrated by machines, unlike the natural intelligence displayed by humans and animals. Leading AI textbooks define the field as the study of \"intelligent agents\": any device that perceives its environment and takes actions that maximize its chance of successfully achieving its goals.Artificial intelligence (AI), sometimes called machine intelligence, is intelligence demonstrated by machines, unlike the natural intelligence displayed by humans and animals. Leading AI textbooks define the field as the study of \"intelligent agents\": any device that perceives its environment and takes actions that maximize its chance of successfully achieving its goals.Artificial intelligence (AI), sometimes called machine intelligence, is intelligence demonstrated by machines, unlike the natural intelligence displayed by humans and animals. Leading AI textbooks define the field as the study of \"intelligent agents\": any device that perceives its environment and takes actions that maximize its chance of successfully achieving its goals.Artificial intelligence (AI), sometimes called machine intelligence, is intelligence demonstrated by machines, unlike the natural intelligence displayed by humans and animals. Leading AI textbooks define the field as the study of \"intelligent agents\": any device that perceives its environment and takes actions that maximize its chance of successfully achieving its goals.Artificial intelligence (AI), sometimes called machine intelligence, is intelligence demonstrated by machines, unlike the natural intelligence displayed by humans and animals. Leading AI textbooks define the field as the study of \"intelligent agents\": any device that perceives its environment and takes actions that maximize its chance of successfully achieving its goals.Artificial intelligence (AI), sometimes called machine intelligence, is intelligence demonstrated by machines, unlike the natural intelligence displayed by humans and animals. Leading AI textbooks define the field as the study of \"intelligent agents\": any device that perceives its environment and takes actions that maximize its chance of successfully achieving its goals.Artificial intelligence (AI), sometimes called machine intelligence, is intelligence demonstrated by machines, unlike the natural intelligence displayed by humans and animals. Leading AI textbooks define the field as the study of \"intelligent agents\": any device that perceives its environment and takes actions that maximize its chance of successfully achieving its goals.Artificial intelligence (AI), sometimes called machine intelligence, is intelligence demonstrated by machines, unlike the natural intelligence displayed by humans and animals. Leading AI textbooks define the field as the study of \"intelligent agents\": any device that perceives its environment and takes actions that maximize its chance of successfully achieving its goals.Artificial intelligence (AI), sometimes called machine intelligence, is intelligence demonstrated by machines, unlike the natural intelligence displayed by humans and animals. Leading AI textbooks define the field as the study of \"intelligent agents\": any device that perceives its environment and takes actions that maximize its chance of successfully achieving its goals.Artificial intelligence (AI), sometimes called machine intelligence, is intelligence demonstrated by machines, unlike the natural intelligence displayed by humans and animals. Leading AI textbooks define the field as the study of \"intelligent agents\": any device that perceives its environment and takes actions that maximize its chance of successfully achieving its goals.Artificial intelligence (AI), sometimes called machine intelligence, is intelligence demonstrated by machines, unlike the natural intelligence displayed by humans and animals. Leading AI textbooks define the field as the study of \"intelligent agents\": any device that perceives its environment and takes actions that maximize its chance of successfully achieving its goals.Artificial intelligence (AI), sometimes called machine intelligence, is intelligence demonstrated by machines, unlike the natural intelligence displayed by humans and animals. Leading AI textbooks define the field as the study of \"intelligent agents\": any device that perceives its environment and takes actions that maximize its chance of successfully achieving its goals.'"
      ]
     },
     "execution_count": 3,
     "metadata": {},
     "output_type": "execute_result"
    }
   ],
   "source": [
    "# 文本数据加载(本地数据)\n",
    "raw_data = open(\"./task2_data\").read()\n",
    "# 移除换行符\n",
    "data = raw_data.replace(\"\\n\", \"\").replace(\"\\r\", \"\")\n",
    "data"
   ]
  },
  {
   "cell_type": "code",
   "execution_count": 6,
   "id": "studied-skill",
   "metadata": {},
   "outputs": [
    {
     "name": "stdout",
     "output_type": "stream",
     "text": [
      "['k', '\"', 'f', 'z', 'x', ' ', 'I', 't', 'd', 'p', ':', 'y', 'm', 'a', 'L', '.', 'r', 'v', 's', 'h', 'o', 'b', 'n', ',', 'e', 'l', ')', 'c', 'u', 'g', 'i', '(', 'A']\n",
      "33\n"
     ]
    }
   ],
   "source": [
    "# 字母字符的去重处理\n",
    "letters = list(set(data))\n",
    "print(letters)\n",
    "features = len(letters)\n",
    "print(features)"
   ]
  },
  {
   "cell_type": "code",
   "execution_count": 11,
   "id": "boring-twins",
   "metadata": {},
   "outputs": [
    {
     "name": "stdout",
     "output_type": "stream",
     "text": [
      "{0: 'k', 1: '\"', 2: 'f', 3: 'z', 4: 'x', 5: ' ', 6: 'I', 7: 't', 8: 'd', 9: 'p', 10: ':', 11: 'y', 12: 'm', 13: 'a', 14: 'L', 15: '.', 16: 'r', 17: 'v', 18: 's', 19: 'h', 20: 'o', 21: 'b', 22: 'n', 23: ',', 24: 'e', 25: 'l', 26: ')', 27: 'c', 28: 'u', 29: 'g', 30: 'i', 31: '(', 32: 'A'}\n",
      "{'k': 0, '\"': 1, 'f': 2, 'z': 3, 'x': 4, ' ': 5, 'I': 6, 't': 7, 'd': 8, 'p': 9, ':': 10, 'y': 11, 'm': 12, 'a': 13, 'L': 14, '.': 15, 'r': 16, 'v': 17, 's': 18, 'h': 19, 'o': 20, 'b': 21, 'n': 22, ',': 23, 'e': 24, 'l': 25, ')': 26, 'c': 27, 'u': 28, 'g': 29, 'i': 30, '(': 31, 'A': 32}\n"
     ]
    }
   ],
   "source": [
    "# 建立字典\n",
    "# 数字:字符字典：\n",
    "int_to_char = {a: b for a, b in enumerate(letters)}\n",
    "print(int_to_char)\n",
    "# 字符:数字字典\n",
    "char_to_int = {b: a for a, b in enumerate(letters)}\n",
    "print(char_to_int)"
   ]
  },
  {
   "cell_type": "code",
   "execution_count": 13,
   "id": "matched-seventh",
   "metadata": {},
   "outputs": [],
   "source": [
    "# time_step\n",
    "time_step = 30"
   ]
  },
  {
   "cell_type": "code",
   "execution_count": 14,
   "id": "viral-settle",
   "metadata": {},
   "outputs": [],
   "source": [
    "#滑动窗口提取数据\n",
    "def extract_data(data, slide):    \n",
    "    x = []\n",
    "    y = []    \n",
    "    for i in range(len(data) - slide):\n",
    "        x.append([a for a in data[i:i+slide]])\n",
    "        y.append(data[i+slide])        \n",
    "    return x,y"
   ]
  },
  {
   "cell_type": "code",
   "execution_count": 15,
   "id": "portuguese-manhattan",
   "metadata": {},
   "outputs": [],
   "source": [
    "#字符到数字的批量转化\n",
    "def char_to_int_Data(x,y, char_to_int):    \n",
    "    x_to_int = []\n",
    "    y_to_int = []\n",
    "    for i in range(len(x)):\n",
    "        x_to_int.append([char_to_int[char] for char in x[i]])\n",
    "        y_to_int.append([char_to_int[char] for char in y[i]])    \n",
    "    return x_to_int, y_to_int"
   ]
  },
  {
   "cell_type": "code",
   "execution_count": 16,
   "id": "developing-madagascar",
   "metadata": {},
   "outputs": [],
   "source": [
    "#实现输入字符文章的批量处理，输入整个字符、滑动窗口大小、转化字典\n",
    "def data_preprocessing(data, slide, num_letters, char_to_int):    \n",
    "    char_Data = extract_data(data, slide)\n",
    "    int_Data = char_to_int_Data(char_Data[0], char_Data[1], char_to_int)\n",
    "    Input = int_Data[0]\n",
    "    Output = list(np.array(int_Data[1]).flatten())\n",
    "    Input_RESHAPED = np.array(Input).reshape(len(Input), slide)\n",
    "    new = np.random.randint(0,10,size=[Input_RESHAPED.shape[0],Input_RESHAPED.shape[1],num_letters])\n",
    "    for i in range(Input_RESHAPED.shape[0]):\n",
    "        for j in range(Input_RESHAPED.shape[1]):\n",
    "            new[i,j,:] = to_categorical(Input_RESHAPED[i,j],num_classes=num_letters)\n",
    "    return new, Output"
   ]
  },
  {
   "cell_type": "code",
   "execution_count": 21,
   "id": "external-oriental",
   "metadata": {},
   "outputs": [],
   "source": [
    "# 字符串处理\n",
    "x, y = data_preprocessing(data, time_step, features, char_to_int)"
   ]
  },
  {
   "cell_type": "code",
   "execution_count": 26,
   "id": "grave-climb",
   "metadata": {},
   "outputs": [
    {
     "name": "stdout",
     "output_type": "stream",
     "text": [
      "(11160, 30, 33) 11160\n"
     ]
    }
   ],
   "source": [
    "print(x.shape, len(y))"
   ]
  },
  {
   "cell_type": "code",
   "execution_count": 29,
   "id": "composed-knitting",
   "metadata": {},
   "outputs": [],
   "source": [
    "x_train, x_test, y_train, y_test = train_test_split(x,y, test_size=0.1, random_state=0)"
   ]
  },
  {
   "cell_type": "code",
   "execution_count": 30,
   "id": "constitutional-identification",
   "metadata": {},
   "outputs": [
    {
     "name": "stdout",
     "output_type": "stream",
     "text": [
      "(11160, 30, 33) (10044, 30, 33) (1116, 30, 33)\n"
     ]
    }
   ],
   "source": [
    "print(x.shape, x_train.shape, x_test.shape)"
   ]
  },
  {
   "cell_type": "code",
   "execution_count": 32,
   "id": "martial-arnold",
   "metadata": {},
   "outputs": [],
   "source": [
    "# 输出结果的格式转化\n",
    "y_train_category = to_categorical(y_train, features)"
   ]
  },
  {
   "cell_type": "code",
   "execution_count": 35,
   "id": "english-binary",
   "metadata": {},
   "outputs": [
    {
     "name": "stdout",
     "output_type": "stream",
     "text": [
      "Model: \"sequential_1\"\n",
      "_________________________________________________________________\n",
      "Layer (type)                 Output Shape              Param #   \n",
      "=================================================================\n",
      "lstm_1 (LSTM)                (None, 30)                7680      \n",
      "_________________________________________________________________\n",
      "dense_1 (Dense)              (None, 33)                1023      \n",
      "=================================================================\n",
      "Total params: 8,703\n",
      "Trainable params: 8,703\n",
      "Non-trainable params: 0\n",
      "_________________________________________________________________\n"
     ]
    }
   ],
   "source": [
    "# 建立LSTM模型\n",
    "lstm_model = Sequential()\n",
    "# LSTM层\n",
    "lstm_model.add(LSTM(units=30, input_shape=(30, 33), activation=\"relu\"))\n",
    "# 输出层\n",
    "lstm_model.add(Dense(units=features, activation=\"softmax\"))\n",
    "lstm_model.summary()"
   ]
  },
  {
   "cell_type": "code",
   "execution_count": 36,
   "id": "comparative-circulation",
   "metadata": {},
   "outputs": [],
   "source": [
    "# 核心参数配置\n",
    "lstm_model.compile(optimizer=\"adam\", loss=\"categorical_crossentropy\", metrics=[\"accuracy\"])"
   ]
  },
  {
   "cell_type": "code",
   "execution_count": 74,
   "id": "unusual-juice",
   "metadata": {},
   "outputs": [
    {
     "name": "stdout",
     "output_type": "stream",
     "text": [
      "Epoch 1/150\n",
      "11/11 [==============================] - 1s 54ms/step - loss: 0.0443 - accuracy: 0.9976\n",
      "Epoch 2/150\n",
      "11/11 [==============================] - 1s 55ms/step - loss: 0.0415 - accuracy: 0.9973\n",
      "Epoch 3/150\n",
      "11/11 [==============================] - 1s 54ms/step - loss: 0.0396 - accuracy: 0.9983\n",
      "Epoch 4/150\n",
      "11/11 [==============================] - 1s 53ms/step - loss: 0.0393 - accuracy: 0.9993\n",
      "Epoch 5/150\n",
      "11/11 [==============================] - 1s 53ms/step - loss: 0.0380 - accuracy: 0.9977\n",
      "Epoch 6/150\n",
      "11/11 [==============================] - 1s 53ms/step - loss: 0.0362 - accuracy: 0.9994\n",
      "Epoch 7/150\n",
      "11/11 [==============================] - 1s 53ms/step - loss: 0.0359 - accuracy: 0.9990\n",
      "Epoch 8/150\n",
      "11/11 [==============================] - 1s 52ms/step - loss: 0.0347 - accuracy: 1.0000\n",
      "Epoch 9/150\n",
      "11/11 [==============================] - 1s 55ms/step - loss: 0.0317 - accuracy: 1.0000\n",
      "Epoch 10/150\n",
      "11/11 [==============================] - 1s 53ms/step - loss: 0.0311 - accuracy: 0.9997\n",
      "Epoch 11/150\n",
      "11/11 [==============================] - 1s 52ms/step - loss: 1.9226 - accuracy: 0.6145\n",
      "Epoch 12/150\n",
      "11/11 [==============================] - 1s 55ms/step - loss: 3.3293 - accuracy: 0.1776\n",
      "Epoch 13/150\n",
      "11/11 [==============================] - 1s 53ms/step - loss: 3.3303 - accuracy: 0.1517\n",
      "Epoch 14/150\n",
      "11/11 [==============================] - 1s 53ms/step - loss: 3.2899 - accuracy: 0.1479\n",
      "Epoch 15/150\n",
      "11/11 [==============================] - 1s 55ms/step - loss: 3.2513 - accuracy: 0.1511\n",
      "Epoch 16/150\n",
      "11/11 [==============================] - 1s 53ms/step - loss: 3.2172 - accuracy: 0.1585\n",
      "Epoch 17/150\n",
      "11/11 [==============================] - 1s 52ms/step - loss: 3.1869 - accuracy: 0.1590\n",
      "Epoch 18/150\n",
      "11/11 [==============================] - 1s 53ms/step - loss: 3.1586 - accuracy: 0.1618\n",
      "Epoch 19/150\n",
      "11/11 [==============================] - 1s 53ms/step - loss: 3.1308 - accuracy: 0.1588\n",
      "Epoch 20/150\n",
      "11/11 [==============================] - 1s 53ms/step - loss: 3.1013 - accuracy: 0.1611\n",
      "Epoch 21/150\n",
      "11/11 [==============================] - 1s 55ms/step - loss: 3.0624 - accuracy: 0.1504\n",
      "Epoch 22/150\n",
      "11/11 [==============================] - 1s 54ms/step - loss: 3.0066 - accuracy: 0.1093\n",
      "Epoch 23/150\n",
      "11/11 [==============================] - 1s 52ms/step - loss: 2.9685 - accuracy: 0.1444\n",
      "Epoch 24/150\n",
      "11/11 [==============================] - 1s 53ms/step - loss: 2.9429 - accuracy: 0.1747\n",
      "Epoch 25/150\n",
      "11/11 [==============================] - 1s 53ms/step - loss: 2.9257 - accuracy: 0.1999\n",
      "Epoch 26/150\n",
      "11/11 [==============================] - 1s 52ms/step - loss: 2.9136 - accuracy: 0.2033\n",
      "Epoch 27/150\n",
      "11/11 [==============================] - 1s 53ms/step - loss: 2.9049 - accuracy: 0.1913\n",
      "Epoch 28/150\n",
      "11/11 [==============================] - 1s 53ms/step - loss: 2.8973 - accuracy: 0.1936\n",
      "Epoch 29/150\n",
      "11/11 [==============================] - 1s 56ms/step - loss: 2.8917 - accuracy: 0.2046\n",
      "Epoch 30/150\n",
      "11/11 [==============================] - 1s 54ms/step - loss: 2.8849 - accuracy: 0.2156\n",
      "Epoch 31/150\n",
      "11/11 [==============================] - 1s 55ms/step - loss: 2.8782 - accuracy: 0.2148\n",
      "Epoch 32/150\n",
      "11/11 [==============================] - 1s 53ms/step - loss: 2.8723 - accuracy: 0.2110\n",
      "Epoch 33/150\n",
      "11/11 [==============================] - 1s 53ms/step - loss: 2.8663 - accuracy: 0.2019\n",
      "Epoch 34/150\n",
      "11/11 [==============================] - 1s 53ms/step - loss: 2.8607 - accuracy: 0.1991\n",
      "Epoch 35/150\n",
      "11/11 [==============================] - 1s 54ms/step - loss: 2.8549 - accuracy: 0.2031\n",
      "Epoch 36/150\n",
      "11/11 [==============================] - 1s 53ms/step - loss: 2.8485 - accuracy: 0.2050\n",
      "Epoch 37/150\n",
      "11/11 [==============================] - 1s 53ms/step - loss: 2.8427 - accuracy: 0.2063\n",
      "Epoch 38/150\n",
      "11/11 [==============================] - 1s 54ms/step - loss: 2.8366 - accuracy: 0.2073\n",
      "Epoch 39/150\n",
      "11/11 [==============================] - 1s 55ms/step - loss: 2.8290 - accuracy: 0.2099\n",
      "Epoch 40/150\n",
      "11/11 [==============================] - 1s 55ms/step - loss: 2.8224 - accuracy: 0.2126\n",
      "Epoch 41/150\n",
      "11/11 [==============================] - 1s 55ms/step - loss: 2.8150 - accuracy: 0.2138\n",
      "Epoch 42/150\n",
      "11/11 [==============================] - 1s 54ms/step - loss: 2.8100 - accuracy: 0.2137\n",
      "Epoch 43/150\n",
      "11/11 [==============================] - 1s 56ms/step - loss: 2.7987 - accuracy: 0.2158\n",
      "Epoch 44/150\n",
      "11/11 [==============================] - 1s 53ms/step - loss: 2.7889 - accuracy: 0.2162\n",
      "Epoch 45/150\n",
      "11/11 [==============================] - 1s 53ms/step - loss: 2.7785 - accuracy: 0.2161\n",
      "Epoch 46/150\n",
      "11/11 [==============================] - 1s 52ms/step - loss: 2.7677 - accuracy: 0.2150\n",
      "Epoch 47/150\n",
      "11/11 [==============================] - 1s 53ms/step - loss: 2.7534 - accuracy: 0.2169\n",
      "Epoch 48/150\n",
      "11/11 [==============================] - 1s 52ms/step - loss: 2.7372 - accuracy: 0.2213\n",
      "Epoch 49/150\n",
      "11/11 [==============================] - 1s 52ms/step - loss: 2.7196 - accuracy: 0.2228\n",
      "Epoch 50/150\n",
      "11/11 [==============================] - 1s 53ms/step - loss: 2.7012 - accuracy: 0.2282\n",
      "Epoch 51/150\n",
      "11/11 [==============================] - 1s 53ms/step - loss: 2.6783 - accuracy: 0.2396\n",
      "Epoch 52/150\n",
      "11/11 [==============================] - 1s 53ms/step - loss: 2.6559 - accuracy: 0.2398\n",
      "Epoch 53/150\n",
      "11/11 [==============================] - 1s 53ms/step - loss: 2.6222 - accuracy: 0.2546\n",
      "Epoch 54/150\n",
      "11/11 [==============================] - 1s 53ms/step - loss: 2.6018 - accuracy: 0.2542\n",
      "Epoch 55/150\n",
      "11/11 [==============================] - 1s 53ms/step - loss: 2.5624 - accuracy: 0.2673\n",
      "Epoch 56/150\n",
      "11/11 [==============================] - 1s 54ms/step - loss: 2.5366 - accuracy: 0.2702\n",
      "Epoch 57/150\n",
      "11/11 [==============================] - 1s 54ms/step - loss: 2.4950 - accuracy: 0.2824\n",
      "Epoch 58/150\n",
      "11/11 [==============================] - 1s 55ms/step - loss: 2.4549 - accuracy: 0.2883\n",
      "Epoch 59/150\n",
      "11/11 [==============================] - 1s 54ms/step - loss: 2.4086 - accuracy: 0.2951\n",
      "Epoch 60/150\n",
      "11/11 [==============================] - 1s 54ms/step - loss: 2.3505 - accuracy: 0.3039\n",
      "Epoch 61/150\n",
      "11/11 [==============================] - 1s 56ms/step - loss: 2.2814 - accuracy: 0.3160\n",
      "Epoch 62/150\n",
      "11/11 [==============================] - 1s 54ms/step - loss: 2.2034 - accuracy: 0.3380\n",
      "Epoch 63/150\n",
      "11/11 [==============================] - 1s 53ms/step - loss: 2.1133 - accuracy: 0.3564\n",
      "Epoch 64/150\n",
      "11/11 [==============================] - 1s 54ms/step - loss: 2.0090 - accuracy: 0.3857\n",
      "Epoch 65/150\n",
      "11/11 [==============================] - 1s 54ms/step - loss: 1.8977 - accuracy: 0.4013\n",
      "Epoch 66/150\n",
      "11/11 [==============================] - 1s 54ms/step - loss: 1.7872 - accuracy: 0.4359\n",
      "Epoch 67/150\n",
      "11/11 [==============================] - 1s 54ms/step - loss: 1.7247 - accuracy: 0.4603\n",
      "Epoch 68/150\n",
      "11/11 [==============================] - 1s 54ms/step - loss: 1.6306 - accuracy: 0.4837\n",
      "Epoch 69/150\n",
      "11/11 [==============================] - 1s 54ms/step - loss: 1.5617 - accuracy: 0.5005\n",
      "Epoch 70/150\n",
      "11/11 [==============================] - 1s 54ms/step - loss: 1.4549 - accuracy: 0.5324\n",
      "Epoch 71/150\n",
      "11/11 [==============================] - 1s 56ms/step - loss: 1.3997 - accuracy: 0.5526\n",
      "Epoch 72/150\n",
      "11/11 [==============================] - 1s 54ms/step - loss: 1.4206 - accuracy: 0.5580\n",
      "Epoch 73/150\n",
      "11/11 [==============================] - 1s 55ms/step - loss: 2.0579 - accuracy: 0.4028\n",
      "Epoch 74/150\n",
      "11/11 [==============================] - 1s 54ms/step - loss: 1.8132 - accuracy: 0.4551\n",
      "Epoch 75/150\n",
      "11/11 [==============================] - 1s 55ms/step - loss: 1.5290 - accuracy: 0.5045\n",
      "Epoch 76/150\n",
      "11/11 [==============================] - 1s 57ms/step - loss: 1.3550 - accuracy: 0.5576\n",
      "Epoch 77/150\n",
      "11/11 [==============================] - 1s 54ms/step - loss: 1.2564 - accuracy: 0.5775\n",
      "Epoch 78/150\n",
      "11/11 [==============================] - 1s 54ms/step - loss: 1.1982 - accuracy: 0.5921\n",
      "Epoch 79/150\n",
      "11/11 [==============================] - 1s 53ms/step - loss: 1.1011 - accuracy: 0.6281\n",
      "Epoch 80/150\n",
      "11/11 [==============================] - 1s 54ms/step - loss: 1.0337 - accuracy: 0.6580\n",
      "Epoch 81/150\n",
      "11/11 [==============================] - 1s 54ms/step - loss: 0.9529 - accuracy: 0.6818\n",
      "Epoch 82/150\n"
     ]
    },
    {
     "name": "stdout",
     "output_type": "stream",
     "text": [
      "11/11 [==============================] - 1s 52ms/step - loss: 0.8740 - accuracy: 0.7096\n",
      "Epoch 83/150\n",
      "11/11 [==============================] - 1s 53ms/step - loss: 0.8304 - accuracy: 0.7144\n",
      "Epoch 84/150\n",
      "11/11 [==============================] - 1s 53ms/step - loss: 0.7719 - accuracy: 0.7426\n",
      "Epoch 85/150\n",
      "11/11 [==============================] - 1s 52ms/step - loss: 0.6867 - accuracy: 0.7728\n",
      "Epoch 86/150\n",
      "11/11 [==============================] - 1s 52ms/step - loss: 0.6308 - accuracy: 0.7985\n",
      "Epoch 87/150\n",
      "11/11 [==============================] - 1s 53ms/step - loss: 0.5697 - accuracy: 0.8203\n",
      "Epoch 88/150\n",
      "11/11 [==============================] - 1s 53ms/step - loss: 0.5591 - accuracy: 0.8217\n",
      "Epoch 89/150\n",
      "11/11 [==============================] - 1s 53ms/step - loss: 0.4828 - accuracy: 0.8531\n",
      "Epoch 90/150\n",
      "11/11 [==============================] - 1s 55ms/step - loss: 0.4224 - accuracy: 0.8696\n",
      "Epoch 91/150\n",
      "11/11 [==============================] - 1s 53ms/step - loss: 0.3943 - accuracy: 0.8789\n",
      "Epoch 92/150\n",
      "11/11 [==============================] - 1s 55ms/step - loss: 0.3523 - accuracy: 0.8981\n",
      "Epoch 93/150\n",
      "11/11 [==============================] - 1s 58ms/step - loss: 0.3083 - accuracy: 0.9067\n",
      "Epoch 94/150\n",
      "11/11 [==============================] - 1s 57ms/step - loss: 0.2840 - accuracy: 0.9233\n",
      "Epoch 95/150\n",
      "11/11 [==============================] - 1s 55ms/step - loss: 0.2588 - accuracy: 0.9305\n",
      "Epoch 96/150\n",
      "11/11 [==============================] - 1s 54ms/step - loss: 0.2208 - accuracy: 0.9470\n",
      "Epoch 97/150\n",
      "11/11 [==============================] - 1s 53ms/step - loss: 0.2052 - accuracy: 0.9515\n",
      "Epoch 98/150\n",
      "11/11 [==============================] - 1s 54ms/step - loss: 0.2097 - accuracy: 0.9493\n",
      "Epoch 99/150\n",
      "11/11 [==============================] - 1s 56ms/step - loss: 0.2050 - accuracy: 0.9472\n",
      "Epoch 100/150\n",
      "11/11 [==============================] - 1s 54ms/step - loss: 0.1417 - accuracy: 0.9769\n",
      "Epoch 101/150\n",
      "11/11 [==============================] - 1s 54ms/step - loss: 0.1187 - accuracy: 0.9880\n",
      "Epoch 102/150\n",
      "11/11 [==============================] - 1s 53ms/step - loss: 0.1163 - accuracy: 0.9839\n",
      "Epoch 103/150\n",
      "11/11 [==============================] - 1s 53ms/step - loss: 0.1546 - accuracy: 0.9688\n",
      "Epoch 104/150\n",
      "11/11 [==============================] - 1s 53ms/step - loss: 0.1125 - accuracy: 0.9864\n",
      "Epoch 105/150\n",
      "11/11 [==============================] - 1s 54ms/step - loss: 0.1504 - accuracy: 0.9678\n",
      "Epoch 106/150\n",
      "11/11 [==============================] - 1s 54ms/step - loss: 0.1145 - accuracy: 0.9836\n",
      "Epoch 107/150\n",
      "11/11 [==============================] - 1s 53ms/step - loss: 0.1088 - accuracy: 0.9842\n",
      "Epoch 108/150\n",
      "11/11 [==============================] - 1s 53ms/step - loss: 0.0994 - accuracy: 0.9848\n",
      "Epoch 109/150\n",
      "11/11 [==============================] - 1s 53ms/step - loss: 0.0782 - accuracy: 0.9961\n",
      "Epoch 110/150\n",
      "11/11 [==============================] - 1s 52ms/step - loss: 0.0630 - accuracy: 0.9982\n",
      "Epoch 111/150\n",
      "11/11 [==============================] - 1s 54ms/step - loss: 0.0510 - accuracy: 0.9987\n",
      "Epoch 112/150\n",
      "11/11 [==============================] - 1s 53ms/step - loss: 0.0442 - accuracy: 0.9994\n",
      "Epoch 113/150\n",
      "11/11 [==============================] - 1s 53ms/step - loss: 0.0394 - accuracy: 0.9988\n",
      "Epoch 114/150\n",
      "11/11 [==============================] - 1s 54ms/step - loss: 0.0355 - accuracy: 0.9993\n",
      "Epoch 115/150\n",
      "11/11 [==============================] - 1s 52ms/step - loss: 0.0321 - accuracy: 1.0000\n",
      "Epoch 116/150\n",
      "11/11 [==============================] - 1s 53ms/step - loss: 0.0289 - accuracy: 1.0000\n",
      "Epoch 117/150\n",
      "11/11 [==============================] - 1s 53ms/step - loss: 0.0297 - accuracy: 1.0000\n",
      "Epoch 118/150\n",
      "11/11 [==============================] - 1s 53ms/step - loss: 0.0255 - accuracy: 1.0000\n",
      "Epoch 119/150\n",
      "11/11 [==============================] - 1s 53ms/step - loss: 0.0231 - accuracy: 1.0000\n",
      "Epoch 120/150\n",
      "11/11 [==============================] - 1s 53ms/step - loss: 0.0219 - accuracy: 1.0000\n",
      "Epoch 121/150\n",
      "11/11 [==============================] - 1s 54ms/step - loss: 0.0213 - accuracy: 1.0000\n",
      "Epoch 122/150\n",
      "11/11 [==============================] - 1s 54ms/step - loss: 0.0199 - accuracy: 1.0000\n",
      "Epoch 123/150\n",
      "11/11 [==============================] - 1s 55ms/step - loss: 0.0191 - accuracy: 1.0000\n",
      "Epoch 124/150\n",
      "11/11 [==============================] - 1s 56ms/step - loss: 0.0187 - accuracy: 1.0000\n",
      "Epoch 125/150\n",
      "11/11 [==============================] - 1s 56ms/step - loss: 0.0178 - accuracy: 0.9995\n",
      "Epoch 126/150\n",
      "11/11 [==============================] - 1s 55ms/step - loss: 0.0165 - accuracy: 1.0000\n",
      "Epoch 127/150\n",
      "11/11 [==============================] - 1s 55ms/step - loss: 0.0150 - accuracy: 1.0000\n",
      "Epoch 128/150\n",
      "11/11 [==============================] - 1s 54ms/step - loss: 0.0145 - accuracy: 1.0000\n",
      "Epoch 129/150\n",
      "11/11 [==============================] - 1s 53ms/step - loss: 0.0135 - accuracy: 1.0000\n",
      "Epoch 130/150\n",
      "11/11 [==============================] - 1s 54ms/step - loss: 0.0122 - accuracy: 1.0000\n",
      "Epoch 131/150\n",
      "11/11 [==============================] - 1s 56ms/step - loss: 0.0121 - accuracy: 1.0000\n",
      "Epoch 132/150\n",
      "11/11 [==============================] - 1s 55ms/step - loss: 0.0127 - accuracy: 1.0000\n",
      "Epoch 133/150\n",
      "11/11 [==============================] - 1s 55ms/step - loss: 0.0111 - accuracy: 1.0000\n",
      "Epoch 134/150\n",
      "11/11 [==============================] - 1s 57ms/step - loss: 0.0109 - accuracy: 1.0000\n",
      "Epoch 135/150\n",
      "11/11 [==============================] - 1s 56ms/step - loss: 0.0100 - accuracy: 1.0000\n",
      "Epoch 136/150\n",
      "11/11 [==============================] - 1s 56ms/step - loss: 0.0095 - accuracy: 1.0000\n",
      "Epoch 137/150\n",
      "11/11 [==============================] - 1s 57ms/step - loss: 0.0091 - accuracy: 1.0000\n",
      "Epoch 138/150\n",
      "11/11 [==============================] - 1s 55ms/step - loss: 0.0088 - accuracy: 1.0000\n",
      "Epoch 139/150\n",
      "11/11 [==============================] - 1s 55ms/step - loss: 0.0083 - accuracy: 1.0000\n",
      "Epoch 140/150\n",
      "11/11 [==============================] - 1s 52ms/step - loss: 0.0080 - accuracy: 1.0000\n",
      "Epoch 141/150\n",
      "11/11 [==============================] - 1s 55ms/step - loss: 0.0077 - accuracy: 1.0000\n",
      "Epoch 142/150\n",
      "11/11 [==============================] - 1s 55ms/step - loss: 0.0075 - accuracy: 1.0000\n",
      "Epoch 143/150\n",
      "11/11 [==============================] - 1s 54ms/step - loss: 0.0075 - accuracy: 1.0000\n",
      "Epoch 144/150\n",
      "11/11 [==============================] - 1s 53ms/step - loss: 0.0070 - accuracy: 1.0000\n",
      "Epoch 145/150\n",
      "11/11 [==============================] - 1s 53ms/step - loss: 0.0068 - accuracy: 1.0000\n",
      "Epoch 146/150\n",
      "11/11 [==============================] - 1s 54ms/step - loss: 0.0066 - accuracy: 1.0000\n",
      "Epoch 147/150\n",
      "11/11 [==============================] - 1s 54ms/step - loss: 0.0063 - accuracy: 1.0000\n",
      "Epoch 148/150\n",
      "11/11 [==============================] - 1s 53ms/step - loss: 0.0060 - accuracy: 1.0000\n",
      "Epoch 149/150\n",
      "11/11 [==============================] - 1s 52ms/step - loss: 0.0058 - accuracy: 1.0000\n",
      "Epoch 150/150\n",
      "11/11 [==============================] - 1s 50ms/step - loss: 0.0057 - accuracy: 1.0000\n"
     ]
    },
    {
     "data": {
      "text/plain": [
       "<tensorflow.python.keras.callbacks.History at 0x7ff64c56f910>"
      ]
     },
     "execution_count": 74,
     "metadata": {},
     "output_type": "execute_result"
    }
   ],
   "source": [
    "# 模型训练\n",
    "lstm_model.fit(x_train, y_train_category, batch_size=1000, epochs=150)"
   ]
  },
  {
   "cell_type": "code",
   "execution_count": 75,
   "id": "tired-shield",
   "metadata": {},
   "outputs": [
    {
     "data": {
      "text/plain": [
       "array([24, 24,  5, ..., 24, 22,  8])"
      ]
     },
     "execution_count": 75,
     "metadata": {},
     "output_type": "execute_result"
    }
   ],
   "source": [
    "# 训练数据的预测\n",
    "y_train_predict = np.argmax(lstm_model.predict(x_train), axis=-1)\n",
    "y_train_predict"
   ]
  },
  {
   "cell_type": "code",
   "execution_count": 76,
   "id": "underlying-figure",
   "metadata": {},
   "outputs": [
    {
     "name": "stdout",
     "output_type": "stream",
     "text": [
      "['e', 'e', ' ', ' ', 'i', ' ', 'i', 'g', 'c', 's', 'a', 'e', 'a', ' ', 'e', ' ', 'e', 'e', 'o', 'k', 'g', 'l', 'l', 't', 'n', 'A', ' ', 'n', 's', 'i', 'a', ' ', 'l', 'g', 'b', 's', 'e', 'e', 'c', 'o', 't', 'i', 'i', ' ', 'a', 'n', 'e', 'r', 'e', ' ', 's', ' ', 'i', 'a', ',', ' ', 'n', 'l', 'e', 'm', 'i', 'i', 'f', 'l', 'f', 's', 'p', 'L', 'o', ' ', ' ', 'e', 's', 'n', 'f', 'b', ' ', 'g', ' ', 'i', 'i', 'o', 'e', 'e', ' ', 'i', 'u', 'g', 'h', 'n', 't', 'e', 'i', 'd', ':', ' ', ' ', 'e', ' ', 'i', 'i', 'i', 'I', 'l', 'c', 'l', 'd', 's', 'n', 'i', 'x', 'v', 'x', 'v', ' ', 'm', 'c', 's', 'a', 'v', ' ', 'c', 's', 'a', 'n', ' ', 'a', 'h', 'u', 'A', 's', ' ', 'e', 'a', 'n', ' ', 'o', ' ', 'e', 'd', 'e', 'c', 'n', '(', 'k', 't', 'u', 'd', 'k', 'i', 't', 'u', ' ', 'n', 't', 't', ' ', ' ', 's', 'd', 'i', 't', 'n', 'l', 'd', 'I', 'e', 'e', 'e', 'm', 'n', ' ', 'i', 'n', 'n', ' ', 'r', 'm', 'g', 's', 'x', ' ', 'a', 'a', 'm', 'c', ' ', 's', 'i', 'm', 'l', 't', 'i', ' ', ' ', ' ', 'd', ' ', 'd', ' ', 'e', 's', 'e', 't', 'n', 't', 'e', 'n', 'f', 'e', 'm', ' ', 'n', 'n', 'p', 'e', ' ', 't', 's', 'n', 'o', 'i', 's', 'p', 'x', 'i', 't', 'm', ' ', 'z', '\"', 'y', ' ', 'm', 'r', 'n', 'b', ' ', '\"', ' ', 'n', 'e', 'y', ' ', 't', 'o', ' ', 'o', 'a', ' ', ' ', 'k', 'n', 'e', 's', 'h', ' ', 'v', 'i', 't', ' ', 'u', 's', '.', 's', 'n', 't', 'e', ' ', 'm', '.', 't', 'l', 'h', ',', 's', 'i', 'm', 'n', 'n', 'g', ' ', ' ', 'e', 's', 'n', 'd', 't', 'e', ' ', 'h', 'n', 'd', 'i', 'n', 's', 'h', 't', 'l', 'a', 'e', 'l', 'n', 'i', 'i', 't', 's', 'c', 'e', 'p', 's', ' ', 't', 'n', 'e', 'y', 'r', 't', 'a', 'o', 'v', ',', 'l', 'n', 'e', 'i', 'u', 'd', 'p', 'c', 'f', 'i', 'e', ' ', 'r', 'r', 'o', 's', ' ', ' ', 'A', 'g', ',', 's', 'g', 'e', 's', 'i', ' ', 'i', ' ', 'g', 'h', 'o', 'a', 'e', 'e', '.', 'i', 'r', 'c', ' ', 'm', ' ', ' ', 'e', 'a', 't', 'n', 'd', 'l', 'e', 'o', 't', 'a', 'k', 't', 'c', 'e', ' ', 'g', 'n', 'i', 'a', 'e', 'n', 'l', 'e', 't', 'n', 't', 'y', 'd', ' ', 'e', 'e', 'd', 'n', 'c', 'n', 'k', ' ', 'm', 'l', 'o', ' ', 't', ':', 'l', 'I', 's', 'n', 'e', 'm', ' ', 'I', 'n', 'k', 'h', ' ', 's', 'i', 'n', 'h', ' ', 't', 'o', ' ', 'k', 'a', 't', ' ', 'e', 's', 'I', 'i', 'l', 'a', ' ', 'c', ' ', 'o', 'a', 'd', ' ', 'e', 'o', 'i', 's', 'i', 'd', ':', 'n', 'a', 'i', 'n', 'u', 'e', 'd', 'a', 'u', 's', 'u', 'e', 'i', ' ', ' ', '.', 'c', 's', 't', 'o', 'n', 's', 'l', 'e', 'l', 'i', 'h', 'g', ' ', 'b', 'd', 'd', ' ', 'g', 'e', 't', 'I', 'i', 'k', 'e', 'i', 's', 'y', 'a', '(', 'i', 'o', 's', 'r', 'e', ' ', 'i', 'm', ' ', 't', 'g', 'g', 'e', 't', 's', 'l', 'a', 'i', 'e', 't', 'e', 'i', 's', 't', 'a', 'l', 'A', 'I', 'e', ' ', 'a', 'e', 'i', 't', 'e', 'm', 'e', 'u', 'e', 'h', 'b', 't', 'f', ' ', 'n', ' ', 'o', 's', 'c', 'i', 'h', 'h', 'm', 'm', 'a', ' ', 'l', 'v', 'e', 'm', 'o', 'o', 'u', 'e', ' ', 'n', 'e', 'y', 'g', 'e', ' ', 'o', 'm', 'v', 'l', 'y', ',', 'n', 'l', ' ', 'p', 'i', 'l', 'l', 'v', 'i', 'e', 'n', 'A', ' ', 'e', 't', 'e', 's', 'a', 'n', 'l', 'l', 'c', 'u', 'i', 'h', 'i', 'i', 'h', 't', 'n', ' ', 'n', 'c', 'r', 's', 'h', 't', 'n', 's', 'a', 'a', 'a', 'h', 'u', 'n', 'y', 'n', 'l', 'i', ' ', 'h', ' ', 'd', 'o', 'r', 'i', ' ', 'i', 'a', 't', 'l', 'n', ' ', 't', 'e', 'k', 'n', ' ', 'c', 'f', 'e', 'c', 's', 'h', 't', 'u', 'l', 'c', 'e', 'l', 'h', 'y', 'e', 'r', 'n', 'd', ' ', 'e', ' ', 'l', 'n', 'a', 'n', 'e', 'a', 'l', 'a', 'n', 'n', 'i', '\"', 'u', 'c', 't', 'n', 'g', 'n', 'n', 'l', ' ', 'l', '(', 't', ' ', 'h', 'I', 'm', 't', 'd', 'e', 'y', ' ', 'k', ' ', 't', 'y', 'a', 'i', 't', 'a', 's', 'o', 'n', 'n', 'A', 'd', 'e', 'g', 's', 'r', 'c', 't', 'd', 's', 'm', 'v', 'e', 'i', 'c', 'u', 'm', 't', 'a', 'a', 'r', 'h', '\"', 'k', 'l', 'a', 'd', 'e', 'n', 'l', 'g', 'a', 's', 's', 'c', ' ', 'I', 'h', 'f', 'e', 'i', 'a', 'a', 'n', ' ', 'x', 'k', 'm', 'i', 'a', 'l', 'l', 'l', 't', ',', 't', 'n', 'e', 's', 'i', 'm', 'h', 'g', ' ', 'l', ' ', 'f', ' ', 'r', ' ', ' ', 'a', 's', 'a', 'a', 'l', 'a', 'l', 't', 'e', 't', ' ', 'l', 'a', '\"', 'e', 'b', 'n', 'p', 'a', 'n', 'i', 'n', 'o', 'n', 'i', 's', 'i', 'i', 'u', 'i', 'n', 't', 'c', 'n', 'y', 'm', 'o', 'n', ' ', ',', 't', 'e', ' ', 'l', 'a', 'n', 's', 'i', 'c', 's', ' ', ':', 'h', ' ', 'y', 'e', 't', 'd', 'e', 'o', 'f', 't', 's', 'l', 'a', 'o', ' ', 'r', ' ', 'h', 't', 'l', 'e', 'e', 'a', 'A', 'i', 'i', 'o', 'a', ' ', 't', 'f', 'a', 'f', 'u', 'e', 's', 'x', 'i', 'g', 'n', 'o', 'd', 'n', 'e', 'a', 'i', 'x', 's', 't', 'r', 'o', 'z', 'n', 'n', 'd', 'n', ' ', 'y', 'i', 's', 'r', 'g', 'n', 'e', ' ', 'u', 'e', 'i', 's', 'm', 'o', 'l', 'l', 'a', 's', ' ', 'e', 'n', 'm', 'a', 'i', 'o', 'i', 'I', 'h', 'd', 'a', 's', ' ', 'y', 'm', 'e', 'd', 'l', 'I', 't', 's', 't', 'e', ' ', 'e', 's', ' ', ' ', 'g', 'i', 'h', 'f', 'o', 'e', ' ', 'u', 'i', 'i', 'y', ' ', 'c', 'g', 'h', ' ', 'v', 'g', 'i', 'e', 'e', 't', 'o', '\"', 'i', 'e', 't', 's', 'n', 'A', ' ', 'a', 'a', 'e', 'e', 'o', ' ', 'b', ' ', 't', 'e', 'e', 'f', 'r', 'n', ' ', 'e', 'n', 't', 'e', 'e', 'i', 'y', 'y', ' ', 'i', 'n', 'i', 'm', ' ', 't', 'x', 'a', 's', 'e', 'o', 'n', 'y', 'e', 'i', 'e', ' ', ' ', 'i', 'm', 'i', 'h', 't', 'i', 'a', 'y', ' ', 'i', 'i', 'e', 't', 'h', 'e', 'k', 'h', 'a', 't', ' ', 'A', 'i', 'i', 'e', 'c', 'n', 'd', 'e', 'n', 'g', ' ', 't', 's', 'l', 'k', 'c', 'e', 'a', ' ', 'k', 'e', 'c', 'e', 'e', ',', 'i', 'n', 's', 'n', 'l', ' ', ' ', 'a', 'b', 'm', 'r', 'I', 'k', 'a', 'c', 'n', ' ', 'v', 'a', 'd', 'a', 'o', 'x', 'c', ' ', 'e', 'a', 'e', 'e', 'u', 'g', '\"', 'l', 'o', 'h', 'i', 'e', 't', 't', 'l', 't', 's', 'm', 'u', 'd', 't', 'v', '.', 'a', 'e', 'i', 'a', 'e', 'e', 'm', 'e', ' ', ' ', 'a', 'a', ' ', 'c', 'A', 't', 'l', 'i', '\"', ' ', 'I', 'i', 'n', 'a', 't', 'l', 'd', 'e', 'n', 'd', 'y', ' ', ':', 'g', ' ', 's', 'i', 'l', ' ', ' ', 'i', 'l', 't', 'a', 'm', 'n', 'l', 'n', 't', 'm', 'l', 'o', ' ', 't', 'n', 'e', 'e', 'a', 'e', 'n', 'y', ' ', ' ', 'a', 'm', 'u', 'a', 'd', 'e', 'd', 'h', ' ', 's', 'g', 'x', 'a', ' ', 'e', 'l', 's', 'c', 'd', 'n', ' ', 'a', 'i', 'x', ' ', 's', 'i', 'f', 'a', 'h', 'e', 'r', 'd', 't', 'f', 's', 'k', ' ', 'd', 'm', '(', 'f', 's', 'l', 'm', 'n', ' ', 's', 'd', 'i', 'l', 'a', 'i', 's', 'i', 'e', 'i', ' ', ' ', 'a', 'e', 'e', 'h', 'e', ' ', ' ', ' ', ' ', ' ', 'e', ' ', ' ', 'v', 'e', 'e', 'i', 't', ' ', 's', 'a', 'n', ' ', 'n', 'r', 'n', ' ', ' ', 'm', 'k', 'e', 'g', 'l', '.', 'f', 't', 'r', 'b', 'l', 'u', 's', 'e', 'a', 'e', 'a', 'e', 'v', 'i', 't', 'k', 'c', 'c', ' ', 'A', 'h', ' ', ' ', 't', 'a', 'e', '.', 'l', 'e', ' ', 'n', ' ', 'a', 'm', 'l', 't', 'y', '.', 'x', 'h', 's', 't', ' ', 'o', 'e', 'o', 'e', ' ', 't', 'I', 'u', 't', ' ', 'e', 'd', ' ', ' ', 'h', 'c', 't', ' ', 'g', 'c', 'n', 'c', ' ', ' ', 'h', 'e', 'c', 'e', 'r', ' ', 'e', 'e', 't', 'o', ' ', 'c', 'r', 'r', 't', 'g', 's', 'm', 'n', 'l', 'e', 'L', 'n', 'y', 'p', 'm', 'z', 'e', 't', ' ', 'p', 'e', 'g', 'd', 'i', 'a', '\"', 'a', 't', 'e', 'n', 't', 'g', 'm', ' ', 'c', ' ', 'n', 'v', ' ', 'l', 'l', ' ', 'e', 'c', 'o', 'f', 'e', 'c', 'n', 'l', 'e', 'd', 'i', 'd', 'a', ' ', 'm', ' ', 'f', 'h', 'n', 'a', 'l', 'c', 't', 'i', 'h', 'i', 'h', 'n', 's', 's', 'm', 'g', 'l', ' ', 'f', 'n', 'e', 'h', 'c', 't', 'h', ' ', 'l', 'r', 'm', 's', 'g', 'a', 'a', 'a', 'e', 'c', 'l', 't', 's', 'n', 'A', 'g', ' ', 'a', 'm', 'd', 'c', 'n', 'g', 'h', 'c', 's', ')', 'o', 'e', 'i', 's', 'l', 'l', ' ', 'd', ' ', 'i', 'g', ' ', ' ', 'n', 'a', 'e', 'c', 'e', 'l', ' ', 't', 'i', 'c', 't', ' ', 'f', 's', 'e', 'l', 't', ')', '\"', 'i', 's', 'I', 'h', 't', ' ', 's', 'f', ' ', 'l', 'g', 'e', 'I', 's', 'e', 'p', 'e', 'e', 'k', 'o', 'c', 'a', 'u', 'p', ' ', 'i', 'a', 'A', 's', 'g', 'h', 'e', 'd', 'n', 't', 'c', 'a', 'g', ' ', ' ', 'I', 't', 'e', '.', 'h', 'd', 'h', ' ', 'e', 'i', 'l', 'n', ' ', ' ', 'l', 'd', 'n', 's', 'c', 'a', 'i', ':', 'p', 'a', 'e', ' ', 'e', 't', 'i', 't', 'n', 'e', 'n', 'y', 'i', 'n', ',', ' ', 'l', 's', 'e', 'e', 'e', 's', 'e', 'o', 'n', 'n', 'n', 'e', ' ', 's', 'i', 'i', 'e', ' ', 'e', 'n', 'e', 'i', 'i', 'e', '\"', ' ', 'c', ' ', 'y', 'o', 'e', 't', 'n', 'l', 't', 'c', 'a', 'n', 'n', ' ', 's', ' ', 'o', 'l', ',', 'l', 'v', 'h', 'g', ' ', 'c', 'v', ' ', 'o', 'a', 'm', 'e', 's', 'o', 'f', 'e', 't', 'd', 'l', 'c', ' ', 'e', 'a', ' ', 'u', 'n', 'e', 'i', 'u', ' ', ' ', 'i', 'g', ' ', 'u', ' ', 'L', ' ', 't', 'e', 'i', 'e', 'l', 'n', 's', 't', ' ', 'v', ' ', 'd', 'c', 'c', 'g', 'a', 's', '(', 'h', 'v', 'c', 'g', 'e', ' ', 'f', 'k', 'c', 't', 'c', 'h', 'c', ' ', 'a', 'l', ' ', 's', 's', 's', 'u', 't', 'e', ' ', 't', 'i', 'a', ' ', 'n', 'd', 'n', 'g', 'z', 'i', 'v', 't', 'l', 'n', 'f', 'e', 'a', 'b', 'n', 'e', 'f', 'c', 't', ' ', 'l', 'r', ' ', 'a', ' ', 'f', 's', 's', ' ', 'l', 'd', 'b', ')', 'i', 'i', 'a', 'c', 'L', 'i', 'd', 'r', 's', 'e', ' ', 'c', 't', 'e', 'h', 'c', 's', 'f', 'e', 'i', 't', 'e', 'e', 'u', 'e', 'a', 't', 'n', 'a', 'l', 'f', 'a', 'a', 'i', ' ', 'd', 'e', 'i', 'u', ' ', 'c', 'e', 'e', 'n', 'h', 'o', 'd', 'u', 'm', 't', 'e', ' ', 'i', 'e', 'n', 'e', 'l', 'a', 'i', 't', 'i', 'd', 'e', ')', ')', ' ', 'e', 'a', 'i', 'e', 'e', 'n', 'e', ' ', 's', 'e', 't', 'i', 'x', 't', ' ', ' ', 'i', 'e', 'l', 'y', 'e', 'n', 'm', 'a', 'i', 'm', 'h', 'f', 't', 'v', 't', ' ', 's', 'a', 'e', 't', 'e', 'c', 'i', 's', '.', 'a', 'a', 'l', 's', 'r', ' ', 'u', 'c', ',', 'l', 'l', 'n', ' ', 'L', 'e', 'I', 'i', ' ', ' ', ' ', ' ', 'u', 'L', ' ', ' ', 'e', 'd', 't', ' ', 't', 'n', 'i', 'a', 'e', 'y', 'n', 'e', 'l', 's', 'x', 't', 'u', 'i', 'a', 'f', 'c', ' ', 'i', ' ', ',', 'i', 's', 'g', 'g', 'i', 'c', ' ', 'a', ' ', '.', 'd', 'a', 'c', 'e', 'd', 'a', 'o', 't', ' ', 'e', 't', 'd', 'e', 'a', 'l', 'c', ' ', 'd', ' ', 'a', 'a', ' ', 'e', ')', 't', 'e', 'i', 't', ' ', 'h', ' ', ' ', 'i', 'a', 't', 'e', 'n', 'l', 'a', 'd', 's', 'y', 'u', 'i', ' ', 'a', 'e', ':', 's', 'e', 't', 'n', ' ', ' ', '\"', 'y', ' ', 'n', 'e', ' ', 'i', 'r', 'n', 'e', 'l', 'l', 'n', 'a', '\"', 'k', 's', 'a', 'r', ' ', 'n', 'f', ' ', 'e', 'r', 's', 'y', ',', 'l', 'n', 'k', 'f', 'a', 'f', ' ', 's', 'e', 'c', 'r', 's', ' ', ' ', ' ', 'a', 'f', 'i', 'f', ' ', 'x', 'i', 'i', 's', ' ', 't', ' ', 'c', 'i', 'i', 'i', 'l', ' ', 't', 'i', 'e', ' ', ' ', 'n', 'n', 'm', ' ', 's', 'd', 'g', ' ', 'c', 'm', 't', 'c', 'y', 'b', ' ', 'i', ' ', 'o', 's', 'e', 'n', 'n', 't', 'e', 't', 'm', 's', 'c', 'i', 'i', 'n', 'l', ' ', ' ', 't', 'e', 'b', ' ', 'n', 'i', 'A', 'f', 'i', 'e', 'a', ' ', 'o', 'e', 'e', ' ', 'a', 's', 'm', 's', ' ', 'g', 'i', 'a', 's', 'g', 'd', 'm', 't', ' ', ' ', 'i', 'o', 'e', 'f', 'u', ' ', 's', 'e', 'n', ' ', ' ', 'c', 'i', 'f', 'e', 's', 'a', ' ', 'c', ' ', 'm', 's', 'f', ',', 'h', ')', 't', 'a', 'a', 'y', 'e', 'g', 's', 'e', 'd', 'u', 'e', 'A', 'e', ' ', 'f', ',', 'e', ' ', 'a', 't', ' ', 'l', 'e', 'm', 'i', ' ', ' ', 't', 'e', 'd', 'd', 'f', ' ', 'e', ' ', 't', 'l', ' ', 'i', 'x', 'c', 's', 'n', 'i', 't', 'e', 'e', 't', ' ', 'i', 'n', 'e', 'n', 'y', 't', 'e', 'y', 'o', 'f', 'l', 'e', ' ', 'a', 'i', 'n', ' ', 'i', ' ', 't', 'c', 'g', 't', ')', 's', 'i', 's', 'e', 'd', 'x', ' ', 'l', 'n', ' ', 'g', 'e', 'e', 'a', 's', ' ', 'g', 'v', 'a', 'e', ' ', 'n', 'n', ' ', 'a', 's', 'l', 'e', 't', 's', 'h', ' ', 'i', 'a', 'a', 't', 'n', 'i', 'e', 'm', ' ', 'a', 'o', 'i', 'd', ' ', 'y', 'c', 'n', 't', 'l', ' ', ' ', 'a', 'm', 'e', 'o', 'e', ' ', 'a', 'i', 'o', 't', 'e', 't', 'c', ' ', ' ', 't', 'n', 'a', 'l', 'i', 'e', ' ', ' ', 't', 'l', 'e', 'o', 'a', 's', ' ', 'n', 'i', 's', 'e', ' ', 't', 'u', 'c', 'n', 'a', 't', 'b', 'h', 'c', ' ', 't', 't', 't', 'e', 'y', 't', 'a', 'i', 'c', 'i', 'a', 'e', 'g', 'd', 's', 'e', 'i', 'c', 'a', 'e', 'n', 'c', 'n', 'a', 'u', 'o', 't', 'v', 'k', 's', 'e', 'l', 'n', 's', 'n', ' ', 'e', 'i', ' ', 'i', 'e', 'a', 'n', 't', 'n', ' ', 'a', 's', 'f', 'a', 'a', ' ', 'i', 'a', ' ', 'i', 'r', 'l', 'l', 'a', 'i', ' ', 'm', 'l', 'i', 't', 'i', 'r', 'A', ':', 'i', 'h', 'A', 'i', 'A', ' ', 'h', 'i', 'c', 'l', 't', 'c', 'i', 'i', ' ', 'e', 'y', 'm', 'e', 'i', 'g', ' ', 'a', 'i', 'i', 'g', 'a', 't', 'i', 'i', 'e', 'e', 'e', 's', 'e', 'i', 'n', ',', 'n', 'n', 'u', 's', ',', 's', 'i', ' ', 'r', 'a', 'h', ' ', 'l', 'e', 'z', 'e', 'a', ' ', 'i', 's', 'e', 'c', 'e', 'e', 's', 'h', 'e', 'd', 'a', ' ', 'm', 'f', 'e', ' ', 'i', 'c', 'n', ' ', ' ', '\"', 'l', 'e', 'n', 'h', 'c', 'e', 'c', 't', 'o', 't', 'e', 'b', ' ', 'h', 'a', 'n', 'a', 'r', ' ', 'h', ' ', '\"', 'f', ' ', 'e', 'l', ' ', ' ', 'd', 'd', 'i', 'a', ' ', 'e', 'e', 'l', 's', ' ', 'e', 'm', 'v', 'I', 'p', 's', ',', 'n', 'i', 'e', '\"', 'i', 's', 'c', 'l', 'e', 'g', 's', ' ', 'g', 'p', 'h', 'a', 't', 'n', 'i', 'g', ' ', 'i', 'e', ' ', 'h', 'i', 'A', 'k', 'e', 't', 'i', 'c', 'n', 'l', 'a', 'a', 'a', 'n', 'l', 'a', 'l', ' ', ' ', '.', ' ', 'n', 'i', 'o', 'u', '\"', 't', 'n', 'v', 'i', 'o', 'f', ' ', ' ', 's', ' ', 'a', 'e', 'g', 'e', 'e', 'c', 'g', 'b', 'g', 'o', 'n', 'e', 't', 'a', 'g', 't', ' ', 'c', 'h', 's', '\"', 'n', 'e', 't', 'l', 'e', 's', 'a', 'd', 't', ' ', 'y', 'e', 'i', 'e', 'n', 'i', 'o', 'u', 'a', 't', 'g', 't', ' ', 'c', 'u', 'h', ' ', '\"', 't', 'c', 'n', 's', 'h', 'e', 'e', 'n', 'c', 's', 'i', 'd', 's', 'a', ' ', 'e', 't', 'i', 'i', 'c', 't', 'i', 'c', 'c', 'a', 'i', ' ', ' ', 'y', 's', 'm', 't', 't', 'u', ' ', ' ', 'e', 'd', 'c', 'a', 'n', 'i', 'e', 'n', ' ', 'h', 'l', 'i', ' ', 's', ' ', 'm', 'e', 't', 'm', 'e', ' ', 't', 't', 'i', 'e', 'a', 'h', ' ', 'e', 'o', 'i', 'i', 'm', 'o', 'r', 'e', 'n', 'd', 'c', 'e', 'n', 'd', 'p', ' ', 'd', 'n', ' ', 'n', ' ', 'e', ' ', ' ', 'I', 'e', 'a', 't', 's', 't', ')', 'a', '.', 's', 'l', 'u', 'n', ' ', 'c', 'e', 'd', 'y', 'l', 'm', 'f', ' ', 'e', 'u', 'a', 'a', 'n', 'e', 'e', 'l', 't', 'i', 'h', 'h', 'i', 'e', 'g', 'e', 'n', 'i', 'a', ')', 'n', 'a', ' ', 'g', 'f', 'e', 'p', 't', ' ', 'c', 's', 'l', ' ', ' ', 'y', ' ', 'e', 'i', 'n', 'h', 'a', 'e', 'd', 'g', ' ', 'a', ' ', 'I', 'c', 'e', 'o', 'i', 'n', 'n', 'i', 'i', 'i', 'g', 'b', 'o', 'n', 'i', 'a', 'e', 's', 'o', ' ', 'p', ',', ' ', 'i', ' ', 'n', 'i', ' ', 'o', 'o', 'n', ' ', 's', 'r', ' ', 'e', 'd', 'h', 'm', 'a', 's', 'c', '.', ' ', 'a', 'c', ' ', 'z', 'i', 'a', 'a', 'n', '(', ' ', 'l', 'i', 'e', ' ', 'e', 'e', 'a', 'l', 'e', 'c', 'a', 'i', ' ', 'l', 'h', 'f', 'l', 'a', 't', ' ', 'r', ' ', 'a', 'n', 'i', ' ', 'e', 'y', 'l', 'e', 'n', ' ', ' ', '.', 'e', 'e', ' ', 'i', 'e', ' ', '.', 't', 'e', 'a', 'h', 'I', 'b', 'n', 'p', 'i', 'y', 'n', ' ', 'i', ' ', ':', 'e', 'e', 'n', 't', 'n', ':', ' ', ' ', 'u', 'm', 'o', 'f', 'i', 'A', 'a', 'n', 'l', ' ', 'e', 'c', 'n', 'e', 'n', 'e', 't', 'd', 'l', 'e', 'n', 's', 'y', 'n', 'I', ' ', 'i', 'f', 'c', ' ', 'a', 'c', ' ', 'A', 's', 'd', 'i', 't', ' ', ' ', 's', 'g', 'e', ' ', 'a', 's', ',', ' ', 'f', 'v', 'I', 'v', ',', '\"', 'z', 'e', 's', 'u', 'i', 'n', 'n', 'm', 'm', 'e', 's', ' ', 'l', 's', ' ', 's', 's', '\"', 'f', 'a', 'm', 'm', ' ', ' ', 'f', 'i', 's', 'e', 'h', 'i', 'p', ' ', 'n', 'l', 'a', 'l', 'm', 'e', 'e', ' ', ' ', 'u', 'r', 'd', 'n', 's', 'l', 'e', 'v', 'u', 's', 'n', ' ', 'h', 'e', 's', ' ', '(', 'e', 'e', 'l', 'a', 'l', ' ', 't', 'h', 'n', 'h', 'z', 't', 'c', 'a', ' ', 'c', ' ', ' ', 'i', ' ', 's', 'r', 'l', 'l', 'n', 'i', 'm', 'i', 'o', 'e', 'n', 'e', 't', 'c', ' ', 's', 'd', 'i', 'd', 'c', 'd', 't', 'i', '\"', 'a', 'n', 'c', 's', 'e', 'n', 'c', 't', 'b', 'i', 'i', 'm', 's', 'L', 'h', 'n', 't', 's', 't', 't', 'a', 'a', 'l', 'e', 'i', 'l', 'l', 'i', 'z', 'i', 't', 'a', ' ', 's', 'f', 's', 's', 'm', 'c', 't', 'm', 'l', 'l', 'n', 'l', ' ', 'n', 'n', 'g', '\"', 'i', 't', 'r', 'd', 'f', 'l', ' ', ' ', 'i', 't', 'c', 'u', 'n', 'I', ' ', 'c', 'e', 'b', 'i', 'x', 'n', 'u', 'e', 'm', 'a', 't', 'i', ' ', 'y', 'e', ' ', 'e', 'n', 'e', ' ', 'h', 'l', 's', 'v', 'a', 'c', ' ', 'a', 's', 'a', 't', 't', 'g', ')', 'e', 'l', 'z', 'y', 'r', 's', 'e', 'e', 's', 'h', 'e', ' ', 'p', 'c', ' ', 'p', 't', 'i', 't', 't', ' ', 'n', 'm', 'a', 'h', 'y', 'r', 'a', 'g', 'n', 'o', 'e', '(', 'e', 's', ' ', 'e', ' ', 'n', 's', 'o', 'l', 't', 'h', ' ', ' ', 'e', 'i', ' ', 't', ' ', 'd', 'a', 'i', 'v', 'e', 't', 'e', 'v', 't', 'e', 't', 'f', 'l', ' ', 'i', 'r', 'r', 'c', 'e', 't', 'n', 'c', 'v', 'b', 'f', ' ', 'l', 'e', 'e', ' ', 'e', 'm', 'g', ',', ' ', ' ', 'n', 'e', 'e', 'e', 'a', ' ', ' ', 'e', '\"', 'n', 'p', '.', 'k', 'c', 'i', 'a', 'i', 'c', ' ', 't', 's', 's', '.', 'b', 'm', 'n', 'l', 'n', 'd', ' ', 'k', '(', 'g', 't', 'e', 'i', 'b', 'a', ' ', ' ', ' ', 'y', 'h', 'l', 'f', 's', ' ', ' ', 'e', 's', 'A', 'u', 't', 'l', 'e', 'b', '(', 'n', 'A', ' ', 'i', 'i', 'a', 'i', ' ', 't', 'l', 'n', 'r', ' ', 't', 'l', 't', 'n', 'v', 'h', 'n', 'n', 't', ' ', 'b', 'g', 'i', 'd', 'y', ' ', 'a', 'f', 'i', 'n', 'm', 't', 'a', 't', 'p', 'n', 'u', 'g', 'e', 'y', 'g', 'g', 'r', 'f', 'n', 'l', 'e', 'f', 'm', 'n', 'n', 'n', ' ', ',', ' ', 's', 'i', 'n', 'e', ' ', 'y', ' ', ' ', 'l', ' ', 'i', 'l', 'e', 'e', 'e', 'e', 'a', 'e', 't', 'h', 'i', 'e', 't', 'n', 'd', 'a', 't', 's', 'i', 'd', ' ', 'e', 's', 'l', 'i', 'e', 'n', 'e', 's', ' ', 'a', 'o', 'e', 'a', 'e', 'o', 'i', 'i', 't', 'h', 'o', 'o', 'c', '(', 't', 't', 's', 'l', 't', 'l', 'r', 't', 'd', ' ', 'o', 'p', 't', 'c', ' ', 'd', 's', ' ', 'f', 'e', 'o', 'n', 'n', 'h', 'c', 'c', 'a', 'h', 't', 'k', ' ', 'f', 'o', ' ', 's', 's', 'd', ' ', 'i', 'i', 's', 'e', ' ', 'e', 'g', 'a', ' ', ' ', 'i', ' ', ' ', '.', ' ', 't', 'l', 'a', 'p', ' ', 'e', 'd', 'i', 'n', ' ', 'e', ' ', ' ', 'a', 'c', 'c', 'i', 'v', 'e', 's', 't', 'c', 't', 'h', ',', '\"', 'n', 'n', 't', 't', ' ', ' ', 'e', 'n', 'n', 'a', 'i', 'm', 'n', 's', ' ', 'c', 's', ' ', 'e', 'n', 'e', 't', 'a', 'y', 't', 'e', 'o', 'd', 'd', 'o', 'd', 'd', 'n', 'n', 'e', 's', 'e', 'n', 'a', 'n', 'i', 'e', 'L', 't', 'm', 'y', 't', 'i', 'a', 'n', 'e', 'g', 'y', 'i', 'A', 'e', ' ', 's', 'n', 'c', ' ', ' ', 'a', 'y', 'h', 's', 'e', ' ', 'm', 'i', 't', ' ', 't', 'm', 'a', ' ', 'g', 'i', 'm', 'e', 'a', ' ', 'n', 'u', 't', 'e', ',', 'e', 'n', 't', 'e', 'f', 'l', 'g', 's', 'p', 't', ' ', ' ', 'i', 'd', 'i', 't', 'm', 'i', 'o', ' ', 'd', 'a', 'e', 'e', 'i', ' ', 'e', 'y', 's', 'a', 's', 'i', ' ', 'b', 'h', 'g', 'b', 'r', 'e', ' ', 's', 'a', 'a', ',', 'v', 'y', 'i', 'i', 'i', 't', 'g', 'e', 'a', 'a', 'n', 't', 'n', ' ', 's', 'n', 'l', 'c', 's', 'l', 'A', ' ', 't', 'g', 'c', 'h', 't', 'i', 'e', 'e', 'n', ' ', 'l', 'i', ' ', 'e', 't', ' ', 'x', 'v', 'e', 's', 'I', 'u', 'i', 's', 'n', 'c', 'b', ' ', ' ', 'e', 'i', ' ', ' ', 'h', 'n', 'e', 'm', '(', 'i', 'i', ' ', 'e', 'm', 'g', 'n', 'm', 'n', ' ', 'a', 'a', 'i', 's', 'g', 'i', 's', 'a', 't', 'a', 'm', 'u', 's', 't', 'a', 'n', ' ', 'h', 't', ' ', 'i', 't', 't', 'n', 'i', 'a', 'e', 'e', 'h', 't', 'a', ' ', ' ', 's', 't', 'o', 'y', 't', 'f', 'c', 'e', 'm', ' ', 's', 'm', 'n', 'a', 's', 'n', 'c', 'd', 't', 'i', 'e', 'a', ' ', 'u', 'c', 'i', 't', 'a', 'e', 'e', 's', 'g', 's', 'k', 'n', 'n', 'a', 'o', ' ', 'e', 'c', 'a', 'm', 'u', 'l', 'e', 't', ',', 'o', ' ', 'n', 'l', 'e', ' ', ' ', 'b', 'k', '\"', 'e', 'e', 'h', 't', 't', 's', 'o', 't', 's', 'x', 'o', 'm', 't', 'i', 'e', ' ', 'o', 'p', 'e', 's', 'e', 'e', 'e', 'g', 'n', 'i', 'e', 'n', 'h', 'o', '.', 'e', 'l', ' ', 'd', 'i', 'n', 'L', 'f', ',', 'v', 'e', 'a', ' ', 's', 'y', 'g', 'o', 'i', 'i', 'e', 'a', '(', ' ', 'c', 'f', 'h', 's', 'i', 't', 'u', 'a', 'a', 'y', 'i', 't', 'e', ' ', 't', 'v', 'n', 'n', 't', 'm', ' ', 't', 'e', 'a', 'g', 't', 'h', 'a', 'n', 'c', 't', 'a', ',', ' ', 'c', 'a', 'i', 'n', 'd', ' ', 'u', 'e', 't', 't', 'i', 'a', ' ', ' ', 'o', 'f', 'i', 'n', 'b', 'i', 'y', ' ', 'l', 'n', 't', 'f', 'i', 'i', 'b', 'i', 'g', 'i', 'r', 't', 'n', 'h', 'a', 'l', ' ', 'a', 's', 'm', 'e', ' ', 'n', 'n', 'c', 'h', 'e', 'l', 't', ' ', 'I', ' ', 'e', ' ', 'f', 't', 'e', ' ', 'e', 'l', 'e', 'o', 's', 'a', 'l', 'l', 's', 's', 'e', 'i', 'e', ' ', 'o', 'a', 'l', 'g', 'n', 'a', 'l', 'e', 'l', 'x', 'd', 'e', ' ', 'e', 'p', ' ', 'r', 'n', '\"', 'c', 't', 'e', 'c', 'A', 'n', 'l', 'h', 'n', 't', 'n', 'l', 'I', ' ', ' ', 'd', 'e', 'r', ' ', 'n', 'c', 'p', 'l', ' ', 'o', 'i', 'h', 'c', ' ', 'i', 'e', 'L', 'f', 'n', 'l', 'l', 'd', 'b', 'e', 't', 'l', 't', 'a', 'i', 'n', 'l', 'a', 'e', 'o', 'l', 'e', 's', 'm', 'y', 's', 'd', ' ', 'k', 'n', 'a', ' ', 'e', 'e', ' ', 'd', ' ', 'l', 't', 'a', 'e', 'k', 'd', 'a', ' ', 'e', 'e', ' ', 'e', 'e', '.', ' ', 'c', 'e', 'g', 't', 'l', 'c', 'y', 'y', '.', 'e', 'i', 'i', 'e', 'o', 'a', 'x', ' ', 'h', 's', 't', 'c', 'c', 'y', 'h', 's', 's', 't', 'e', 'n', 'f', 'e', '.', 'e', 'c', 'u', ' ', 'r', 'r', 'n', ' ', 'y', 'c', 's', 'i', 'e', 'e', 'e', 'h', ',', 'n', 's', ' ', ' ', 's', 'i', 'h', 'e', 'g', 'n', ',', 'i', 'a', ' ', 'n', 't', 'e', 'e', 'i', 'n', ' ', 'l', 's', 'i', 'a', 'c', 'e', 'e', 'y', 't', 'a', 's', 'l', 'c', ':', 'e', ' ', ' ', 'l', ' ', 'n', 'u', 't', 'n', 'a', 'i', 'p', 'd', 't', 'o', 'n', 'a', 'd', 't', 'n', 'd', 'p', 'i', 'n', 'b', 'v', 'a', 'n', ' ', 'n', ' ', 'i', 'i', 'e', 'h', 'l', 'n', 't', 'a', ' ', 'a', 'e', 'm', 'c', 'l', 'l', 'k', 'e', 'a', 'e', ' ', 's', 'e', 'i', ' ', ' ', 'n', 'e', 'n', ' ', 'n', ' ', 's', 't', ' ', 'c', ':', 'n', ' ', 'i', 'i', 'a', 'n', 'e', 't', 'i', 'i', 'i', 'i', 'e', 'm', 'n', 'a', 't', 'e', 't', 'k', 'c', 'i', ' ', 'c', 'c', 'l', 'i', 'b', 'A', 'x', 's', 'n', 'e', 'n', 'n', 'u', 't', 'a', '\"', 'a', 'a', 'n', 'i', ' ', 'o', 'a', 'c', 'i', 'c', 'c', 'l', 'b', 'i', 'm', 'm', 'r', 'l', 'e', ' ', 'e', 'l', ')', 'e', 'l', 't', ' ', 'l', 'i', 'e', 'n', 't', 't', ' ', 'a', 't', 'v', ' ', 't', 'm', 'i', 'c', 'e', 'd', 'l', 'e', ' ', 'm', 'n', 'd', ' ', 'n', 'r', 'i', 'n', 'd', 'A', 'e', 'e', 'l', 'r', 'f', 't', 'a', 'g', 't', 'i', 'o', 'l', 'f', ' ', 'c', 'c', 'i', ' ', 's', 'e', 'n', 't', 'n', 'i', 'i', 'e', 'd', 'e', 'e', ' ', 'i', ' ', 'i', '\"', 'g', 'o', 'c', 'i', 't', 's', 'a', 'e', 'a', 'A', 'e', 'e', 't', 'm', 'l', 's', 'c', '(', 'g', 'u', ' ', 'v', 'n', 't', 'i', 's', 'y', 'm', 'c', 'l', 'c', 'a', ' ', '\"', 'h', 'c', 's', '\"', 't', 'm', 'l', ' ', ' ', 's', 'o', ',', 'a', 'l', 'h', 's', 'e', 'f', 'l', 'i', 'l', 'i', 'n', 'c', 'e', 'n', 'a', 'v', 't', 'v', 'e', 'e', '(', 'd', 'c', ' ', 'c', 's', 'e', 'm', ' ', 'e', 'a', 'h', 'p', 'e', '(', 'n', 's', 'l', 't', ' ', 'a', 't', 'i', ' ', 'l', 'e', 'c', 'e', ' ', 'i', 'm', 'i', 'v', ' ', 'n', 'm', 'a', 'd', 's', 'e', 'a', ' ', 'a', 's', '.', 'b', 's', ' ', 'a', 'o', 't', 'o', 'e', 'e', 'r', 'u', 'i', 'e', 't', ' ', 's', 't', 'e', 'm', 'c', 'u', 'e', 'i', 'e', 'e', 'n', 'o', 'd', 't', ' ', 's', 'l', ' ', 'k', 'i', 'i', ' ', 'e', 'd', ' ', 's', ' ', 'i', 'd', ' ', 'c', 'h', 'e', ' ', 'd', 'g', ' ', 't', ' ', 'n', 'e', 'z', 'n', 'm', 'r', 'n', 'u', 'e', 'h', 'a', 'e', 'e', 'y', 'e', 'u', 'a', ' ', 'a', '\"', ',', 'y', 'A', ' ', 'e', 't', 'i', 'i', ',', 'i', 'a', 'g', 's', 'e', 'i', ' ', 'e', 'm', 't', 'n', 'e', 'i', 'e', 'a', ' ', 'e', 'e', 'a', 'd', 's', 'e', 'i', ',', 'm', 't', 'g', 'a', ' ', 's', 'g', 't', 't', ' ', 'a', 'a', 'o', 'i', 'a', 'a', 'd', 'A', 'e', 'I', 'e', 'u', 'e', 's', 't', 'o', 'e', 's', ' ', 't', ' ', 'c', 't', 'd', 't', 'd', 's', 'n', ' ', 'e', 'i', 'u', 'i', 'o', 'a', 'l', 'o', 's', 'e', 'l', 's', 'o', 'i', 's', 'y', 'n', 's', 'c', 'v', 's', ' ', 'e', 'o', 'r', 'e', ' ', 'a', 'i', 'g', ' ', ' ', ' ', ' ', 't', 'n', ' ', 'e', 'f', 'c', 'c', 's', 'c', 'a', ' ', 'l', 'c', 't', 's', 'c', ' ', 'g', ' ', 'l', 'r', 'i', 't', 'a', 'e', 'h', 'm', 'i', 'h', 'n', ' ', 'n', 'n', 'a', 'y', 'l', 'o', 'h', 'c', 'x', 's', 'e', 'a', 'd', 'e', 'e', 'l', ' ', 'f', 'd', 's', 'i', 'b', 't', 'e', 'r', 'a', 't', 'c', 't', 'i', ' ', 'i', 's', 'l', 'i', 's', 'u', 'a', ' ', 'o', 'l', ' ', 'a', 'e', 't', 'i', 'i', 'i', '\"', ' ', 'e', 'u', 'e', ' ', 'n', 'A', 'i', 'e', ' ', 'e', ' ', ' ', ' ', 't', 'u', 'l', 'c', 'l', 'c', 'n', ' ', 'l', 'n', ' ', 'a', 'c', 'c', 'n', 'l', 'y', 'n', 's', 'h', 's', ' ', 'a', ' ', ' ', 'o', 'k', 'm', 'i', 'n', 'i', 'n', 's', 'g', 'c', 'i', 'o', 'i', 'h', 'h', 'g', 'e', 'e', 'i', 'e', 'y', ' ', 'l', 'n', ',', 'e', 'i', 't', 'l', 'o', 'h', 'l', 'd', 'c', 'i', ' ', 'f', 'l', 'i', 'h', 'y', 's', 'z', 'r', 'e', ' ', ' ', 'e', 'i', 'n', 'y', 's', ' ', 'e', 'g', 't', 's', 'a', ' ', ' ', 's', 't', 'a', 'n', 'm', 'd', 'a', 'l', 'l', 'A', 't', '\"', ' ', 't', 'd', 'a', ' ', 'c', 'm', 'm', 'l', 'd', 't', 'd', 'r', 'i', 'c', 'e', 'e', 'i', 'n', 'f', 'i', 'o', 'e', 's', 'g', 's', 'f', 'i', 'f', 'e', 'e', ' ', ' ', 'e', ' ', 'u', 'n', 'I', 'e', 't', 'p', 'i', ' ', 'i', 'h', 'u', 'h', 'e', 'l', ',', 'm', 't', 'r', 'i', 'A', 's', 'a', 'e', 'a', 'n', 'c', 'g', 'a', 'c', 'm', ' ', ' ', 'e', 'h', 'f', 'I', 's', ' ', 'e', ',', 'n', 'g', 'c', 'e', 'n', 'i', 'f', 'e', 'g', 'k', 'z', 't', 'a', 'a', 'i', 'i', 'o', 'l', 'g', 'h', 'i', 'e', 'd', 'n', 'e', 'a', 'l', 't', ' ', ' ', 'a', 'c', 'i', 'h', 'A', 'm', 'b', '\"', 'i', ' ', 'a', 's', 'h', 'e', 'n', 'g', 'y', 'i', 'c', 'a', 'm', 'i', 'm', 'a', ',', 'a', 'n', ' ', ' ', 'a', ')', 'l', ' ', 'h', 'i', '.', 'i', 'o', 'o', 's', 'y', 'i', 'e', 'd', 'l', 'a', 'o', 't', 'l', 'e', 'i', 'o', 'i', 'e', 's', 'n', ' ', 'r', ' ', 'h', 's', 'e', 'i', 't', ' ', 'd', 'l', 's', 'o', 'e', 'i', ' ', ' ', 'a', ' ', 't', 't', 't', 'o', 'c', 'e', 'A', 'd', 'r', ' ', 'e', ' ', ' ', 'l', 'e', 'd', ' ', 'o', 'i', ' ', 'i', 'i', ' ', 'c', 'a', 'h', 's', 'I', 'c', 'm', 't', 'o', 'e', 's', 'i', 'e', 'k', 'g', 'u', 't', 'e', 's', ' ', 'a', ' ', 'n', 't', 'd', 'r', 'l', 'n', 's', 'i', 'm', 'i', 'n', 'a', 'i', 'n', 'r', 'e', 'a', 's', 'i', 'i', 'n', 'u', 'i', 'n', 'e', ' ', 'n', 'l', ' ', 'a', ' ', 'v', 's', 'a', 'n', 'a', ' ', 's', ' ', 'A', ' ', 'i', 'n', 't', 'f', 'g', 'k', 'a', 'l', 'n', 'r', '.', ' ', 'b', 'n', 'a', 't', 'l', 'y', 's', 'e', 'e', ',', 'e', 'A', 'A', 't', 'd', 's', 'l', 'g', ' ', ' ', 'e', 'l', ' ', 'h', 's', 'l', 'e', 'k', ' ', 'n', 't', ' ', ' ', 'h', 'l', 'c', 's', 'i', 'n', 'e', 'o', 'o', 'h', 'i', 'e', 'a', 'e', 'h', 'i', 'n', 'g', ',', 'p', 'c', 'e', 'a', 'y', 'm', 'n', 'e', ',', 'l', 'l', 'o', 's', 'g', ' ', 'e', 'i', 'n', 'h', 'A', 's', 't', 'n', 'd', 's', 'l', 'b', 'h', 'i', 'c', 'd', 'e', 'd', 'e', 'n', 'x', 'n', 'l', 'i', 'l', 's', 'e', 'a', ' ', ' ', 's', 'u', 't', 'i', 't', 'i', 'g', 's', 'L', 'o', 'c', 'c', ' ', 'n', ',', 'A', 'e', ' ', ' ', 's', 'n', 'c', 'e', 'e', 'n', 's', 'm', 'i', 'a', 'y', 'e', 's', 'd', 's', 'd', 'a', ',', ' ', 'h', 'e', 'd', 'f', ' ', 't', 't', 'u', 'l', 'm', 'a', ' ', 'n', ' ', ' ', 'e', 's', 'o', 'm', 't', 's', 'l', 't', 'h', 'i', 'a', 'l', 'i', 'L', 'i', 'n', 'e', 'e', 'g', 'h', 'c', ' ', 'l', 'e', 'e', 't', 'h', ' ', 't', 'm', 's', 'a', 'e', 'i', 't', 'e', 'c', 'm', 'm', ' ', 'a', 'i', 'n', 'e', 'i', 't', 'c', 'd', 'l', 'l', 'e', 'e', 'e', 'e', 'g', 'e', ' ', ' ', 't', 's', 't', 'e', 'e', 'i', 'l', 'n', 'i', 'l', 'o', 'n', 'c', 'l', 'e', 'h', 'u', 'o', 'u', 'a', 'y', 'i', 'i', 's', 'e', 'e', 'h', 'l', 'm', 'n', 'v', ' ', ' ', ' ', 't', 'l', 'e', 's', 'o', 'l', 'h', 'i', 's', 'm', 'a', 'm', 'i', 'm', 'n', 's', 'h', 's', 'i', 'e', 's', 'i', 'n', 'e', 's', 'a', 'a', 'a', 'e', 'a', 'i', 'e', 'd', 'n', 'u', 't', 'm', 'l', ')', 'u', 'k', 'c', 'n', ' ', 't', 'e', 'e', 'n', 'l', 'n', 'a', ' ', 'a', 't', 'n', 'f', 't', 'k', 'd', 'a', 'c', 'm', 'y', 'i', ' ', 'h', 'e', 'n', 'u', ' ', 'i', 'y', 'e', 's', ' ', ' ', 'n', ' ', 'f', 'o', 'l', 'i', 'd', 's', 'e', 'c', 't', 'i', 'e', 'm', 's', 's', 'z', 't', 'n', ' ', 'l', 'c', 'n', 'l', ' ', 'd', 'e', 'c', 'e', 'e', 'u', 'a', 'a', ' ', 'e', 't', 'f', 'A', 'i', 'v', 'l', 'g', 'i', 'a', 'y', 't', 'e', 'i', 'm', 'l', 'i', ' ', 'a', 'e', 'g', 't', 'a', 'h', 'e', 'm', 'a', 'd', ' ', 't', 'e', 'i', 'e', 'l', 'n', 'c', 'i', 'p', 'g', 'd', 'm', ' ', 'l', 't', 'u', 's', 'k', 'm', 'l', 'i', ' ', 'd', 'i', 'e', ' ', 'm', 'n', 'd', 'l', 'n', 'i', 'n', 't', 'g', 'f', 'a', 'e', 'l', ' ', 'n', 'n', 'e', ' ', 'a', 'a', 'a', 's', 'a', 't', 'e', 't', 'm', 'd', ' ', 'l', 'i', 'h', ' ', 'e', 'm', 'u', 't', 's', 'r', 'r', 'f', 'i', 's', 'l', 'u', 'A', 'e', 'i', 'm', 'i', 'i', 'p', 'g', 'c', 's', 'e', 't', ' ', 'n', 'c', 'e', 'g', ' ', 'l', 'o', ' ', 'u', 'a', ':', 'y', 'c', 's', 'c', 's', 'c', 'v', 'a', 'a', 'e', 'a', 's', 'e', 'e', 'i', ' ', 'c', 'e', 't', 'o', 'a', 'm', ' ', ' ', 'e', 'i', 'l', 'l', 'n', 'e', '\"', 'i', ')', 't', 'i', 'y', 'e', ' ', 's', 't', 'd', 'l', ' ', 'e', 'i', 'h', 'd', 'm', 'l', 'n', 't', 'o', ' ', 'v', 'm', 'a', 'n', 't', 't', 'v', ' ', 'c', 'k', 'e', 'r', 'e', 'l', 'n', 'l', '.', ' ', 's', 'g', 'd', 'g', 'p', 'g', 'n', 'm', ' ', 'i', ' ', 'n', 't', 'a', 'n', 'e', ' ', ' ', 't', ' ', 'h', ' ', 'a', 'i', 'c', 'e', 'e', 't', ' ', 'n', 'e', 't', 'g', 's', ' ', 'l', 'u', ')', 'l', 'm', ' ', 'n', 'l', 'c', 'c', 't', 't', 'y', 'm', 't', ' ', 'c', 't', ' ', 's', 'i', ':', 'm', 't', 'r', 'n', 't', 'n', 'e', 'e', 'g', 's', 'k', 's', 'a', 'l', 'c', ' ', 'r', 't', 's', 's', 'c', 'd', ' ', 'l', 'e', 't', 'v', 'h', 'h', 'a', 'e', 'x', 'a', ' ', ' ', ' ', ':', ' ', 'i', ' ', 's', 'h', 'a', 'l', 'm', 'e', 'c', 'a', '\"', 'l', ' ', 'd', ' ', 's', 'c', 'e', 'i', 'n', 'i', 't', 'i', 'e', 'i', 's', 'e', 't', 'd', 't', 't', 'e', 'n', ' ', 'l', 's', 'h', 't', 'i', 'e', 'a', 'o', 'd', 'n', 'i', 'e', ' ', 'b', 'n', 'g', 'v', 'a', 'g', 's', 'm', 'e', 'a', 'h', 'm', 'm', 'c', 'c', 'n', 'h', 'c', ' ', 'h', 'g', 'm', 'z', 'f', 'c', 'y', 'v', 'n', 'i', 'g', 'g', 'n', 'e', 'c', 'e', 's', 't', ' ', 'e', 'e', 'f', 't', ' ', 't', 'f', 'e', 'i', 'I', 'n', 'd', 'n', ',', 'e', 'i', 't', 'i', ' ', ' ', 'i', 'l', 't', 'l', ' ', ' ', 's', 'a', 'g', 'e', '.', 't', 'e', 'i', 't', 'l', ' ', 'i', 'n', 'n', 'e', ' ', 'a', 'g', ',', 'I', 't', 'o', 'i', ' ', 't', 's', ' ', ' ', 's', 'i', 'i', ' ', 'o', 'l', 'g', 'e', 'd', 'L', 'n', 'd', ' ', 'i', 'n', 'e', 'u', 'l', 'n', 'n', 's', 'i', 'e', 's', 'e', ' ', 'e', 'o', 'c', 'x', 'd', 'e', 'e', 'u', 'i', 'i', 'a', 't', 's', 't', 'l', ' ', 's', ' ', 'n', ' ', 'n', 'a', 'n', 'n', 's', 'i', 'i', 'e', 's', 'l', 'c', 'r', 'm', 'i', ' ', 'k', 'y', 'd', 'm', ' ', ' ', 's', 't', 'o', '\"', 'e', 'i', 's', 'k', 'x', 'u', 'l', 'l', 'p', 'y', 't', 'i', 'n', ' ', 'h', 'n', 'd', ' ', 's', 't', 'l', 'a', 'y', 'e', 't', 'e', ' ', 'd', 'e', 'g', 't', '.', 'r', 'i', 'i', 'l', 'l', 'l', 'c', 'a', 'c', ' ', 'c', 'i', 'r', 'i', 'a', 'e', 'e', ' ', 's', 'n', 'a', 'l', 'n', 'g', 'v', 'n', 'e', 'e', 'e', 'e', 'l', 'b', 't', ' ', 'i', 'a', ' ', 'l', ' ', 'o', 'i', 'n', 'n', 'n', ' ', 's', 'i', 't', 'o', 'i', ' ', ',', ' ', 'v', 'e', 'a', 'i', 'i', 'k', ' ', 't', 't', 'e', ' ', 'i', 'd', 'd', ' ', ' ', 'e', 'r', ' ', 's', 'o', 'n', 'c', 's', 'a', 'g', 'A', 'e', 'e', ' ', 'A', 'e', ' ', 'l', 'e', 'g', 'd', 'g', 'I', 'n', 'i', 't', 's', 'b', 'a', 'd', 't', 'n', 't', 'n', 's', 'r', 't', 'o', ' ', 'e', ' ', ' ', ' ', 'l', ' ', 'i', 'a', 'e', 'l', 'n', 'e', 'v', 'i', 'i', '.', '.', 'm', 'a', 'n', 't', 'n', ' ', ' ', 'g', 'n', 'l', 'n', 'n', 'e', 'l', 'l', 'v', 'e', 'e', 'n', 'l', 'g', 'p', 'a', 'o', 'a', 'v', 'i', 'e', 'h', 'i', 'l', 'a', 'a', 's', 'v', 's', 'h', 'n', '(', ',', 's', ' ', 'n', 'e', 's', 'n', 't', 'i', 'e', 'i', 'd', 'a', 'e', 'a', 'e', 'f', 'm', 's', 'd', 'i', 's', 'g', 'h', 'g', 'e', 'i', 'n', 'r', 'i', ' ', 's', ' ', 'u', ' ', ' ', 'e', ' ', 't', 'h', ',', 'e', ' ', '.', 'd', 'e', 't', ' ', 'a', 'y', 'a', 'l', 'n', 'h', ' ', 'o', 'h', 'g', 'l', 't', 't', 'r', 'n', 's', 'e', 't', 'm', 'e', 'l', 't', 's', 'i', 'd', 'c', 'v', ' ', 'x', 'l', 'e', 'i', ' ', 'e', 'n', 'a', 't', 'i', ',', 't', 'a', 'l', 'L', 'l', 'e', ' ', ' ', 'l', 'c', 'd', 'n', 'e', 'e', 'i', ')', 'h', ' ', 'd', 'm', 'i', ' ', 'i', 'm', ',', 'f', 't', 'e', 'x', 'c', 'm', ' ', 'e', 'u', 'm', ' ', ' ', 'a', 'g', 'n', 'g', 'a', 'r', 'f', 'e', 's', 'g', 'e', ' ', 't', ' ', 'A', 'e', 'a', 'n', 'c', ' ', 'd', 's', 'u', 'e', 'm', ' ', 'h', ' ', 'i', 'u', 'l', 'e', 'e', 't', 'l', 'o', 'n', 's', 'h', ' ', 'z', 'e', 'e', 'r', 'a', 'g', 'a', 'l', ' ', 'b', 'e', 'l', 'e', 't', 'o', 's', ' ', 'l', 'n', ' ', 'i', 'n', 'i', ' ', 'e', 't', ' ', 'a', 'l', ' ', 'l', 'u', 'e', 'g', ' ', 'u', 't', 'I', 'i', 'e', 'i', 'n', '\"', 's', 't', 'l', 'o', 't', 'o', 's', ' ', 'i', 'e', ' ', 't', ',', ' ', ' ', 'L', ' ', 'e', 'a', 'g', 'l', 'f', 'o', 't', 't', 'e', 't', 'e', 'l', 's', 'L', 'a', 'k', 'd', 'i', 't', 'd', 'e', 'i', 'a', ' ', ' ', 'c', ' ', 't', 'c', 'e', '\"', 'e', 'g', 'n', 't', 's', 'e', 'h', 'm', 'n', 'a', 't', 's', 'e', ')', 'e', 'n', ' ', ' ', ' ', 'n', 't', 's', 't', 't', 'c', 't', ' ', 'i', ' ', 'e', 'g', 'a', 'c', 'y', 'i', 'g', 'a', 'a', 'f', 'c', 'i', 'i', 'e', 'n', 'u', 'y', 'd', ' ', 'i', 'h', 'n', 'n', 'i', 'c', 'e', 'u', 'i', ' ', 'e', 'y', 'o', 'e', 'c', 'i', 'e', ' ', 'a', 's', 'a', 'n', 'c', 'l', ' ', ' ', 'y', 'k', 't', 'v', 'A', 'a', ' ', 'm', 'i', 'e', 'a', ' ', ' ', 'c', 'n', 't', 's', 'g', 'g', 'c', 'i', ' ', 'n', 'i', '.', 'n', 'a', ' ', 's', 'i', 's', 'n', 'e', 'e', 'i', ' ', '\"', 'e', 'l', 'e', 'c', 'i', 't', 't', ' ', 't', 'e', 'a', ' ', 'h', ' ', 'a', 't', 's', 's', 'c', ' ', 'm', 'h', 'p', 'A', 'e', 'm', ' ', ' ', ' ', ' ', 'l', ' ', 'i', 'm', 's', 'n', 'a', 't', 'e', 'i', 'm', 'd', 'u', 's', 's', 'n', 'a', 'e', 'c', 'o', 'n', 'a', 'e', 's', 'd', 'n', 'g', 'n', 't', 'f', 'l', 'a', 'e', 'r', 's', 'o', 'r', ' ', 'r', '.', 'e', 'e', ' ', ' ', 'e', 'y', 's', 'i', 't', 'i', 'i', 'e', ' ', 's', 'l', 'n', 'd', 'f', 'e', 'e', ' ', 'i', 'n', 'm', 'e', 'r', 's', ' ', ' ', 'i', ' ', 'h', 'e', 'i', 'd', 'a', '.', 'a', 'i', 'h', 's', 'i', ' ', ' ', 's', 'a', 't', 'a', ':', 'l', 'b', ' ', 'e', 'z', ' ', 'n', 't', 't', 'i', 'n', 'x', 'i', ' ', 't', 'e', 'm', ' ', 'o', 'c', 'i', 'n', 't', 'I', 'i', 'i', 'n', 'n', 'b', 'z', 'm', 'e', 'i', 'e', 'l', 'f', 'a', 'i', 'm', 'g', 'n', 'e', 's', 's', 'n', 'a', ' ', 't', 'a', 'e', 'n', 'l', 'n', 'i', 'a', 'o', 't', 'h', 'm', 'f', 'o', 'n', 'e', 't', 'n', 't', 'a', 'e', 'i', 'i', '.', 'n', 's', 'y', ':', 's', 'n', ' ', 'i', 'a', 's', 'f', 'i', ',', 'u', 'c', 's', 'e', 'i', 'z', 'l', 'd', 'a', 'n', ' ', 'a', 's', 'g', 'e', 'e', 's', 'a', 'I', 'a', 'a', 'l', 'i', 'm', 'a', 'l', ' ', 'x', ' ', 'a', 'e', 'e', 'e', 'n', ' ', 'i', 'b', 't', 'l', 's', 'i', ' ', 'i', 'h', 'a', 'n', 'n', 'e', ' ', 'a', 'i', 'e', 'h', 'e', ' ', 'l', ' ', ' ', 'A', 'n', 'A', '.', 'a', 'e', ' ', 'm', ' ', 'e', ' ', ' ', ' ', 'z', '\"', 'n', 't', 'g', ' ', 'f', 'd', 't', 'g', 'a', 's', ' ', 'y', 'd', 'g', 't', 'e', 'u', 'n', 'a', 'n', '.', ' ', 'r', 'i', '.', 'h', 'e', 'o', 'i', 'l', 'l', 'n', 't', 'h', ' ', ' ', 'l', 't', ' ', 't', 'l', 'd', 't', 't', 'g', 'n', ' ', ' ', 'c', 'i', 'i', 'i', 'c', 'b', 'i', 'n', 'i', 'b', ' ', 'e', 't', 'e', 'c', 't', 'l', 's', 'n', 'g', 'n', 'm', 'e', 'l', 't', 'e', 'a', 'l', 'i', ' ', ' ', 'A', 'i', 'i', 'n', 'h', ' ', 'n', 'e', 'e', 'n', 'e', 'g', 'h', ' ', 'l', 'i', 't', ' ', ' ', 'a', ' ', ' ', ' ', 's', 'a', 'c', 'f', 's', 'i', 'g', 'i', 'i', 'n', 'd', 't', 'n', 'c', 'g', 'i', 'e', 'e', 'e', 'h', 'l', 'c', 'f', 'i', 'i', 'i', 'a', 'e', 's', ' ', 't', 't', 'n', 'c', ')', 'e', 't', 't', 't', 'i', ' ', 'u', 'c', ' ', 'm', 'x', 'e', 'a', 'n', 't', ' ', 'i', 'n', 'i', 's', 'r', 'e', 'l', ' ', 'g', 'l', 'h', ' ', 'c', ' ', 'l', ',', 'e', 'n', 's', 'i', 'l', 'e', 'l', 'o', 'u', 'n', 'i', 'o', 'n', 'f', 'i', ' ', ' ', 'g', 'n', 'e', 't', 'e', 'e', 'n', 'e', 'y', 'o', 'e', 's', 'a', 'e', 'i', 'd', 's', 'y', 'n', 'e', 't', 's', 'a', 'f', ' ', 'h', 'g', 't', 's', 'i', 'l', 'g', ' ', 'A', 'u', 'o', 'e', 'l', 'l', 'l', 'h', 't', 'e', 'e', 'd', ' ', 'n', 'x', 'i', 'a', ' ', 's', 'h', 'u', ' ', 'k', 'v', 'e', 'i', 'z', 'a', 'e', 'n', 'i', 'g', 'g', ' ', 'i', 'e', 'l', 'i', 'o', 't', 'i', 'f', 'h', 't', 't', 'I', 'd', 'e', 'c', ' ', 's', 'a', 'n', 'i', 'l', 'e', 'k', 'l', 'e', 'e', 'd', 'c', 'm', 'e', 'h', 'e', 't', 'l', 'i', 's', 'x', 'a', ' ', 'g', 'e', 'n', 'e', ' ', ' ', 'l', 'e', 't', ' ', 'e', 'y', ' ', 'e', 't', 'i', '\"', 't', ' ', 'v', 'f', 'e', 'c', ' ', 't', 'l', 'l', 'a', 'c', ' ', 'c', 'i', 'c', 'a', 'l', 't', ' ', 't', 't', 'a', ',', ' ', ',', 'o', 's', 'i', 'i', 'h', 'e', 'c', 'n', ' ', 'b', 'e', '\"', '.', 'e', 'h', 'n', 'y', 'I', 'n', ')', 'k', 'i', 'i', 'l', 'h', 'h', 'y', 'e', 's', 'l', 'r', ' ', 'u', 'e', 'c', 'e', 'h', 'h', 's', 'e', 'e', 'c', 't', 'e', 'c', 'A', 'e', 'a', ' ', 't', 'e', ' ', 'd', 'A', 'e', 'm', 'o', 'i', '\"', 'e', 'a', 'c', '(', ' ', ' ', 'a', 's', 'l', 'm', 'g', 'a', 'e', 't', 'b', ' ', 'a', 'a', 'l', 'l', 'b', 'i', 'r', 'e', 'i', 'e', 'u', 'z', 'g', ' ', 'l', 'g', 'u', 'n', 'i', 's', 'n', ' ', 'i', ' ', 'i', 'm', 'd', ')', 'n', 'e', 't', 'c', 'c', 'a', 'e', 'e', 'e', 'o', 'n', 'a', ' ', 'a', 'i', 's', 'e', 'l', 'd', 'h', 't', 't', 'y', 'o', 't', ' ', 'a', 'd', 'e', ' ', ' ', 'e', ' ', 'k', 't', 'c', 'i', ' ', 'm', 'l', 'n', ' ', 'e', 'h', 't', 'e', 's', 'e', 'e', 's', ' ', ' ', 'd', 'm', 's', 'a', 'h', 'n', 'h', 'e', 't', 't', 'c', 'o', 'f', 'h', 'i', 'a', 't', 'e', 's', 'u', 'i', 'e', 'i', 'v', 'a', 'm', 'h', 'o', 'g', ' ', 'i', 'i', 'z', 'o', 'l', ',', 'u', 'h', 's', 'n', 'c', 'i', 'o', ' ', 's', 'n', ' ', 's', 'h', 'g', 'e', 'y', 'a', 'a', 'l', 'e', 'd', 'i', ' ', 'i', 's', 'n', 'f', ' ', 'n', 'e', 'h', 'n', 'i', 'o', 's', ' ', 'm', 'u', 't', 's', 'l', 'i', 'u', 's', 'e', 'i', 'i', ' ', 'e', 'l', 'k', ' ', 'c', 'l', ' ', 'i', ' ', ' ', 'A', ' ', 'a', 'u', 't', 'l', 'k', 'c', 'y', ' ', 'e', ' ', 'o', ' ', 'e', 'm', '\"', 'a', 'g', 'I', 'h', 'b', 't', 'l', 'a', 'A', 't', 'f', 'i', 'c', 'd', 'e', 'I', 'f', 'g', 'e', 's', 'a', 'o', 't', ' ', 'l', 'v', 'e', 't', 'n', 'y', 'c', ' ', 's', ')', 'a', 'b', ',', ' ', ' ', 's', 'e', ' ', 'o', 'u', 'n', 'e', 'e', ' ', 'e', 'd', 't', 'm', 'a', 'n', 'g', 'g', 'l', 't', 'n', 'n', 'i', 'e', 'e', 'i', 'n', ' ', 'h', 's', 'h', 'i', 'l', 'v', 'n', 'e', 'c', ',', 'c', 'n', 'c', ' ', 'I', 'e', 'm', 'l', 'n', 'v', 'l', 'n', 'c', 'i', 'n', 'y', 'e', 'e', 'd', 'i', 'k', 't', 'e', 'n', 'f', 'e', 'i', 'e', 'a', 'a', 'd', ' ', 'a', 'e', 'n', 'z', 'a', 'e', 't', 'd', 'n', 'f', 'i', 'i', 't', ' ', 'u', 'i', 'm', ' ', 'y', 'i', 'l', ' ', 'n', 'i', 'e', 'l', 'a', 'u', ' ', 't', 'h', 'l', ',', 'a', 'i', 's', 'r', 'r', 'e', 'i', 'r', 'f', 'y', 'e', 'u', 'n', 'b', 'a', 'c', 'i', 'g', 'y', ' ', 'n', 'a', 'a', 'e', 't', 'l', 'm', 'h', 'n', 'l', 't', 'e', ' ', 't', 'o', 'y', 'n', 'a', 't', 'e', 's', 's', 'i', 't', 'e', 'm', 'y', 't', 'n', 'l', '\"', 'h', 'g', 'o', 'e', 'i', 'a', ' ', ',', 'n', 't', 'l', 's', 'i', 'v', 's', 'e', 's', 'i', ' ', 's', 'i', 't', 'c', 's', 'x', 'c', 'a', 's', 'e', 's', 'm', 'd', ' ', ')', 'l', 'l', 't', 'n', ' ', 'l', 'e', 'u', '.', 'e', 't', 'e', 'e', 'f', 'c', ' ', ' ', 't', 'r', ' ', 'e', 'e', 'k', ' ', 'u', ' ', ' ', ' ', 'b', '\"', ' ', 'e', 't', 'e', 'e', 'd', 'c', 'l', 'x', 'e', 'k', 'n', 's', 'b', 'd', 'm', ' ', 'm', 's', 'a', 'd', ' ', 'm', 'p', 'f', 'e', 'n', 'r', 'n', 's', 'r', 't', 'i', 'i', 'n', 'c', 'd', 'l', 'p', 'l', ' ', 'v', 'd', 't', 'c', ' ', 'r', 's', 'u', 'L', 'n', 'n', 'i', 'v', 'a', 'i', ' ', 'k', ' ', 'i', 'u', ' ', 'v', 'f', 'h', 'n', 't', 'n', 's', 'r', 'n', ' ', 'v', 'u', 'a', 't', 'e', 'e', 'n', ' ', 't', 'n', 'i', 'l', 'a', 'a', 't', ' ', ' ', ' ', 'd', ' ', 'l', ' ', 'h', 'g', ' ', 'm', 'e', 'd', 't', ' ', 'a', 'x', 'n', ' ', 'a', ' ', 'n', 't', 't', 'h', 't', 'b', 'e', 's', 'n', 't', 'g', 'a', 'a', 'e', ' ', 's', 'l', 'x', ',', 'h', 'g', ' ', 'i', 'm', 'g', 'i', 'i', 'i', 'e', 'f', 'f', 'o', 'a', 'l', 'i', 'i', 'o', 's', 'i', 's', 'e', 'c', 'e', 'i', 'c', 'l', 'i', 'l', 't', 'l', 'e', 's', 'l', 'e', 's', 'i', 'e', 'g', 'o', 'n', 'h', ' ', ' ', 's', 'i', 'l', 't', 's', 't', 'c', 'a', 'n', 'i', 'c', 's', 'a', 'e', ' ', 'm', ' ', 's', 'n', 'z', 'm', 'i', 'd', 'a', ' ', 'd', ' ', 'e', 'o', 'l', 'd', 'b', 'e', 'i', 'n', 'm', ' ', 's', ' ', 'r', 'i', 'f', 'e', 'a', 'd', 'n', 'c', 'b', 'n', 'm', 'u', ' ', 'm', 't', 's', 'u', 'e', 'l', 'g', 'e', 'c', 'c', ' ', 'i', 'e', 'd', 'd', ' ', 'a', 'e', 'p', 't', 's', 'm', 'h', ' ', 't', 'u', 'd', 'a', ' ', 'i', 'e', 'u', 't', 'o', 'e', 'l', 'i', 'k', 'e', 'l', 'e', 'e', 'o', 't', ' ', ' ', 'y', ' ', 'c', ' ', 'g', 'k', 'i', 'n', 'h', 's', 'e', 't', 'l', 'h', 'c', 't', ' ', 'e', 'i', ' ', 'i', ' ', 'c', 'o', 'y', 's', 'a', 'd', 'g', 'm', ' ', 'n', 'n', 's', 'c', 'a', 'l', ' ', 'e', 'b', 'n', 'e', 'l', ' ', 't', 'c', 'c', 'o', 'e', 'A', 'v', 'a', 'a', 't', 'n', ' ', 'i', 'r', 'n', 's', 's', ' ', ' ', 'h', 'l', ' ', 'k', 'k', 'c', 't', 'e', 'b', 'n', 'h', 'n', ' ', ' ', 'u', 'l', 'f', 'l', 'o', 'r', 'i', 't', 'e', ' ', 'i', 'c', 't', 'i', 'i', 'i', 'e', 'g', 'e', 't', 'e', ' ', ' ', 'e', ' ', 'e', 'o', 'e', 'a', 'c', 'i', 'c', ' ', 's', 'l', 'e', 'e', ' ', 'e', 't', ' ', 'v', 'y', 'm', ' ', 'a', 's', 'r', 'l', 'e', 'k', 'v', ' ', ' ', 'c', ' ', 's', 'd', 'i', 'i', 'e', ')', 'n', 't', 'n', 'c', '\"', ' ', ' ', 't', 'm', ' ', 'i', 'o', 'h', 'n', 's', 'k', 'd', 'r', 'i', 'a', 'r', 'u', 'e', 'n', 'd', ' ', 'd', 'a', ' ', ' ', ' ', 't', 'o', 'n', 'n', 'v', 'i', 'v', 'a', 'm', 'a', 'v', 'a', 'A', ' ', 'n', 'h', 't', 'l', 'i', ' ', 's', 'p', 'c', ' ', 'l', 't', 'e', 'e', 'a', 'h', 't', ' ', 'e', 'a', 'd', ' ', 'i', 'o', 'm', ' ', 't', 'c', 'l', 'L', ' ', 'l', 'e', 'c', 'a', 'g', 'a', 'o', 'e', 'm', 'y', 'm', ':', 'e', ' ', 'x', 'A', 'e', 'l', 'a', 'a', 'n', 'l', 'e', 't', 'a', 'i', 'i', 'i', 'c', 'a', 'e', ',', 's', 'l', 'n', ' ', 'n', 's', 'h', 'c', 'n', 'h', ' ', 'n', 'n', 't', 'e', 't', 'l', ' ', 'n', 'e', 'g', ' ', ' ', 'r', 'n', 'g', 'y', 'l', 'i', 'f', 'i', 'a', 'u', 'u', ' ', 'i', ' ', ' ', 'o', 'd', 'c', 't', 'l', 's', 'b', 'c', 'y', 'o', 'l', 'n', 's', ' ', 'i', ':', 'h', 'h', 'e', 'd', 'f', 'a', 'e', 'm', 'l', 'i', 'n', 'i', 'e', 'o', 'x', 'e', 'y', 'f', 'd', 'i', 'i', 'c', 'v', 's', 'c', 'e', 't', 'a', 'd', 'h', 'd', 't', 't', 'i', ' ', 'e', 'i', 'f', 'i', 'g', 's', 't', 'n', 'a', 'e', 'c', 'h', ' ', 'e', 't', 'd', ' ', 'a', 'a', 'i', 'l', 'm', ' ', 'i', 'e', 'e', ' ', 's', 'd', 'd', ' ', 'g', 'h', 'n', ' ', 'l', 's', 's', ' ', ' ', 'e', 's', 'l', 'i', 't', 'n', 'a', 'e', ' ', ' ', ' ', 'y', 'm', 'n', 'b', 'a', 'd', 'n', 't', 't', ' ', 'a', 'h', 'm', 'g', 'f', ' ', 'c', 's', 'v', 'a', 'a', 't', 'd', ' ', 'a', ' ', 'l', 'i', 'd', 'i', 'i', 't', 'i', 'r', '.', 't', 's', 't', 'y', 'v', 'i', 'c', ' ', 'k', 'y', ' ', 't', 'e', 'n', 'd', 'h', 'f', 'i', 'i', 'n', ' ', 'l', 'n', 't', 'a', ',', 'n', ' ', 'l', 't', 'a', ' ', 'n', 'y', 'o', 'n', 's', 't', 'c', 'i', 'e', 'a', 'n', 't', 'b', 'n', 'i', 'i', 'v', 'a', 'm', 'd', 'l', 'e', ' ', 't', 'o', 'd', 'n', 'n', 'h', 'k', ' ', 'l', 'n', 'h', 'm', 'g', 'e', 'd', 'n', 't', 'h', 's', 'I', ' ', 'a', 'i', 'n', 't', 'i', 'd', 'y', 'h', 'e', 'l', 'n', 't', '(', 't', ',', ' ', 'n', 'n', 't', 'e', 'a', 'n', 'i', 'h', 'l', 'y', ',', 'd', ',', 't', 'd', 'A', ',', ' ', 'e', ' ', 's', ' ', 'p', 'e', 'i', 'm', 'o', 'e', ' ', 'd', 'e', ' ', ' ', 'y', 'n', 'k', 'y', 'c', 'e', 't', ' ', 'i', 'e', 'i', 'a', 't', 'L', 'i', ' ', 'c', 'e', 't', ' ', 'l', 'a', 't', ' ', 'i', 'n', 'g', 'n', 'n', 'a', 'e', 'h', 't', 't', 'm', 't', 't', 'i', 'n', 'n', 'd', 'f', 'n', ' ', ':', 'h', 'a', 'e', 'i', 'u', 'd', 's', 'n', 'e', 't', 'A', 'f', 'A', 'r', 'a', 'A', 'n', 't', '\"', 'm', 'e', 'e', ' ', 't', ' ', 'a', 'I', 'n', 'a', 'p', 'n', 'e', 'i', 'n', ' ', 'n', 'i', 'g', 'i', 't', ' ', 'h', 'm', 'l', 's', 'c', 'd', 'a', 'e', 'n', 'c', 'n', 'e', 'm', ' ', 'r', 'l', ' ', 'n', '(', ' ', 'g', 'u', 'e', 'i', 'a', 'i', 'i', 'e', '.', 'e', 'A', 'e', 'c', 'n', 'd', 'n', ' ', 'o', 'e', ' ', 'g', 'd', ' ', 'g', 'c', 'I', 'i', 'u', 'I', 'i', 's', 'n', ')', 'c', 'l', 'd', 'l', 'o', 'c', 'i', 'h', 'l', 'c', ' ', 'g', 't', 't', 'm', 's', 'h', 'l', 'i', ' ', 's', 's', 'f', 'n', 't', 'e', 'n', 'i', 'i', 't', 'c', ',', 's', 'o', 'e', 'x', 'y', 'k', 'c', 'c', 'l', 'y', 'h', 'o', 'p', 'l', 'd', 'a', 'e', 'c', ' ', ' ', 'b', 'm', 't', 'h', 'e', 't', 't', 'A', 'a', 'g', ' ', ' ', 'r', 'e', 'n', 'i', 'o', 's', ':', 'i', 'm', 's', 's', 'i', 'e', 'h', 'a', 'i', 'n', 'h', 's', 'n', 'e', 't', 'a', 'g', 't', 'v', 's', 'd', 't', 'h', 't', 'h', 'i', 't', 'n', 't', 'e', 's', 'i', ' ', ' ', 'm', 'n', 'n', 'z', 'd', 'a', 'A', 'i', 'd', ' ', 'a', 'a', 'd', 'e', 's', 'c', ',', 's', 's', 'r', 'c', 'e', ' ', 'g', 'c', 'f', 'i', 'e', ' ', 'i', 'g', 'y', 'a', 'd', 'i', 'i', 'n', 'e', 't', 'n', 'n', ' ', 'i', 'e', 'r', 'i', 't', 'e', 's', ' ', 's', ' ', 's', 'm', ' ', 'e', 'o', 'e', 'o', 'i', 'o', 't', 'a', 'e', 'e', 'l', 'i', 'e', 't', ' ', 'i', 'e', 'e', 'f', 'k', 'i', 'l', ' ', 'e', 'a', 'a', '(', 'c', 'g', ' ', 'd', ' ', 'n', 'l', 'g', 't', 'e', 's', 'l', 'e', 's', '(', 'f', 'e', 'v', 'i', 'c', 't', 'e', 'e', 'l', 'i', 'e', 'c', 'n', 'a', 's', 'u', 'o', 's', 's', ' ', ' ', 'l', 'h', 'l', ' ', ' ', 'c', 'n', 'e', 'v', 'i', 'd', 'l', 'a', 'i', 'e', 'l', 't', 'm', 't', 'c', 'd', 'o', 'e', 'n', 'A', 'e', ' ', 's', 'i', ' ', 'a', 'o', 'o', 'e', 'e', 'i', 's', 'd', 'l', 'e', 'a', ' ', 'm', 'I', ' ', 'i', 'e', 'l', 't', 'a', ' ', 'h', 't', 'd', 's', 'n', ' ', 't', 'a', 's', 'l', ')', 'n', 's', 'l', ')', 'x', ' ', 'v', 'd', 'y', 'n', 'm', 'n', 's', 'n', 'l', ' ', 'm', 's', ')', 'a', 'a', 'n', 'e', ' ', 'i', ' ', 'n', '(', 'e', ',', ' ', 'v', 'o', 'd', 'c', 'n', 't', 'f', 'e', ' ', ' ', 'f', 't', 'l', ' ', 'e', 'e', 't', 'b', ' ', 't', 's', 'y', 'c', 'i', 'e', 's', 'v', 'n', 's', 'a', 't', 'h', 'r', 'c', 'e', 'a', 'v', '\"', 'e', 'c', 'f', 'm', 'e', 'g', 'n', 'd', 'g', 'i', 'e', 't', ' ', 'i', 'l', 'l', 'l', 'l', ' ', ' ', 'e', 'n', ' ', 'g', 'f', 't', 't', 'e', ' ', 't', ' ', 'i', 's', 's', 'v', 'd', 'u', 's', 'n', 'e', 's', 'l', 'l', 'c', 'v', 'n', '(', 'o', 'v', 'r', ' ', 'd', 'n', ' ', 'e', 'r', ' ', 'l', 's', 'f', 't', 'l', 'i', 'u', 'l', 'g', 'u', 'r', 's', 'f', 'u', ' ', '(', 'd', 'o', 'n', 'r', 'c', 'o', 'l', 't', 'l', 'e', 's', 'i', 'e', 't', 'i', 'b', 'h', 'i', 'x', 'a', 'o', 'c', 'o', 'e', 'i', 't', 'f', 'a', 'e', 'y', 'e', 'e', 'A', 'i', 'l', 'd', ' ', 't', 'n', 'c', 'd', 's', 'y', 'i', 'k', 'd', ' ', 'i', 'n', 's', 'p', 'a', 't', 'l', 'r', ' ', 's', 'e', ' ', 's', 't', 't', ' ', 'l', 's', 'k', 'a', 'e', ' ', 'd', ' ', 't', 'l', ' ', 'd', 'b', 'd', 'b', 's', 'y', ':', 'i', 'i', 'e', 'h', ' ', 's', 'd', ',', ' ', ' ', 'i', 'n', 'a', 'd', 's', 'a', 'e', 'n', ' ', 'h', 's', 'c', 'a', 'h', 'd', 'i', ' ', ' ', 'y', ',', 'n', ' ', 'c', 'c', 'c', ' ', 'y', 'y', 'g', 'a', 'i', 'a', 'n', 'd', 'n', 'h', 'e', 's', 'u', 'l', 'a', 'L', ' ', ' ', 'c', 's', ' ', ' ', 'a', 's', 'e', 'e', 'c', 'c', 'i', 'l', 'i', 'h', 'a', 'i', '.', 'i', 'i', 's', 'c', 'a', 't', 'l', 'y', 'f', 'n', 'e', 's', 'e', 's', ' ', 't', 'd', 'd', 'o', 't', 's', 't', 'a', ' ', 'c', 's', 'u', '.', 'm', 'a', 'v', 's', 't', 'i', 't', 'e', 't', 'A', 'e', 't', 'i', ' ', 'n', 'i', 'l', ' ', 's', 'e', 'e', ' ', ' ', 'i', '\"', 'e', 'a', 'e', 'c', 'e', 'c', 'c', ' ', 'n', 'y', ' ', 'a', ' ', ' ', 'v', 'a', 'g', 'm', 'I', 'a', 'f', 'l', 'y', ' ', 'c', ' ', 'f', 'k', 'c', 'i', 'l', 'A', 'c', 'v', 's', 'o', 'c', 'p', 'e', 'l', 'n', '(', 'e', 'l', 's', 'a', 'o', 'n', 'e', 'c', 'c', 'n', 'e', 'e', 'x', ' ', 'u', 't', 'i', 't', 'm', 'l', 'e', 'a', 'I', 'c', 'i', 'i', 'e', 'a', 'y', 'b', 'e', 'c', 's', 'i', 't', 'a', ' ', 't', 'n', 'u', 'a', 'l', 'c', 'i', ' ', 'n', 'e', 'i', 'e', ' ', 'o', 'g', 'l', '(', ' ', ' ', ',', 'd', 'n', 's', 'l', 'y', 't', 'i', 'l', 'c', ' ', 'n', 's', ' ', 'e', 'l', 'm', 'n', 'i', 't', 't', 'a', 'l', 'n', 'n', ' ', 's', 't', 'i', 'p', 'c', 'i', 'i', 'a', 'u', 'y', 'o', 'n', '\"', 'e', 'c', 't', 'f', 'a', 'k', 'm', ' ', 'u', ' ', ' ', ' ', ' ', 'e', 'd', 'r', ' ', ' ', 'a', 'e', 'i', ' ', 'c', 'a', 'i', 'l', 'a', ' ', 'e', 'a', ' ', 'e', 'd', 'o', ' ', 'g', 'r', 'l', 'x', 's', 'i', 'e', ' ', 'e', 't', 'd', 'i', ' ', 'l', 'l', 's', 'i', 't', ' ', 'e', ' ', 'i', 'd', 't', 'l', 't', 'e', 'l', 'r', 'e', 'o', 's', 'a', 'm', 't', ' ', 'p', 'c', 'p', 's', ' ', 'o', 'a', 'e', 't', 'i', 'a', 'i', 's', 'c', ' ', 'l', 'e', ' ', 'a', 'm', ' ', 'g', 't', 'i', 't', 'e', 'e', 'c', 'i', ' ', 'i', 'z', 's', 'd', ' ', 'i', 'i', 'b', 't', 's', 'a', 'r', 'c', ' ', 'o', 'e', 'i', 'l', 'n', ' ', 'n', 'y', 's', 'a', ' ', 'd', 'a', 'e', 'n', ' ', '\"', 'c', 'c', 'A', 'b', 'o', 't', ',', 'l', 'i', 'i', 's', ' ', 'l', 'n', 't', 't', 'e', 'e', ' ', 's', 'o', 'e', 'm', 'b', ' ', 't', ' ', 'x', 'o', ' ', 't', ' ', 'e', 'c', 'h', 'i', 's', 'l', 'n', 'n', ' ', 'i', 'e', ' ', 'n', 'b', 'f', 'a', 'n', 'y', 'k', 'e', 'i', ':', 'L', 't', 'n', 'i', 'a', 'e', 'u', 'd', ' ', 'n', 'l', 'A', 'i', 'l', 'i', 'n', ' ', 'f', ',', 'L', 'c', 'i', ' ', 's', 't', 'v', 'l', 'f', 'i', 'n', 't', ' ', 's', 't', 'd', 't', 's', 't', 'n', 'm', ' ', 'e', 'c', 'i', 'l', 'y', 'l', 'k', 'f', 'g', 'e', '.', 'c', 'h', 'n', 'd', 't', 'c', 'n', 'e', 'e', 's', 'i', 'i', 'c', ' ', 'r', ' ', 'd', 'i', 'a', 'e', ' ', 'l', 'y', 'e', 'm', 'n', 'h', 'i', 'i', 'i', 'a', ':', '.', 'e', 'A', 'u', 'i', 'm', 'o', 'g', 'a', ' ', 'i', 'a', ' ', 'u', 'b', 'l', 'n', 'e', 'a', 'l', 'n', 'l', 't', 'd', 'd', 'g', 'b', 't', 'o', ' ', 'v', ' ', 'e', 'n', 't', 'i', 't', 'i', 'c', 'i', 'l', 't', 'n', 'c', 'd', 'e', 'c', 'l', 'y', 'I', 'e', 'i', 'u', ' ', 'e', 'e', 'e', ' ', ' ', 'e', 'l', 'n', ' ', 'i', 'e', 'e', 'd', 's', 'x', 'a', 'n', 'a', 'a', 'n', 'c', 'i', 't', ' ', 's', 'a', 'o', 'm', ' ', 's', ' ', 'f', 'e', ':', 'v', 'a', ' ', ' ', 'l', 'e', 'y', 'c', ' ', 'n', 'b', 'o', 'a', ' ', 'o', ' ', 't', 'i', 'a', ' ', 'i', 's', 'g', 't', 'd', 'i', ' ', 'c', '.', ',', 'i', 'i', 'n', 'h', 'd', 'l', 't', 'h', ' ', 'i', 'o', ')', 'c', 's', 'c', ' ', ' ', 'a', 'e', ' ', 'd', 'r', 'y', 'n', 'a', 'n', 'n', 'e', 't', 'h', 'e', ' ', 'a', 'n', 'a', 'i', 's', 'd', 't', ',', ' ', 'i', 'l', '\"', 'a', 'a', 'l', ' ', 'i', 'e', 'h', 'e', 'n', ' ', 'i', 'l', 'l', 'a', 'a', 'n', 'a', 'n', 'e', 'n', 'L', 't', 'n', 't', 'f', 'e', 'h', 'o', 'v', '\"', 'i', 't', 'e', 'f', 'p', 'l', 'y', 'i', 'i', 'f', 's', 'a', 's', 'i', '\"', 'i', ' ', ' ', 'm', 'e', ' ', 'e', 'a', 'e', 'c', 'a', 'g', 'n', ' ', 't', 't', 'c', 'a', 'n', 'd', 'l', 's', 'd', 'c', 'e', 'e', 'r', 'm', 'i', 'e', 'l', ' ', 'g', 'a', ' ', 'c', 'c', ' ', 'e', 'e', 'l', 'i', 'a', ' ', 'v', ' ', 'g', 'x', 'l', 'A', ' ', 'h', 'r', 't', 'A', 'd', 'l', ',', 'c', 't', 'e', ' ', 'y', 'c', 's', 'n', 'd', 'n', 'e', 'k', 'n', ' ', 'i', 'i', 't', 'i', 'v', 'c', 'n', 'i', 't', 't', 'x', 'i', 'i', 't', 's', 'e', 'v', ',', 'n', 'l', 'r', 'y', 't', 'g', 'd', 'm', 'c', ' ', 'a', 'i', 'n', 'n', 'i', 'd', 'u', 'e', 'r', 'l', 'e', 'i', 'i', 'e', 'i', ' ', 'f', 'I', 's', ' ', 'y', 'k', 't', 'y', ' ', 'L', 'n', 's', 'd', 'g', 'i', 't', ' ', ' ', 's', 'a', 'v', 'h', 'a', 'n', 't', 'e', ' ', 'o', 'e', ',', 'g', 'l', ' ', ' ', ' ', 'n', 'i', 'e', ' ', 'e', 'n', 't', 'a', 'e', 'y', ' ', 'l', 'e', 'i', 't', '.', 'g', 'e', 'l', 'o', 'e', 'i', 'g', 'e', 'e', 'o', 'e', ' ', '\"', ' ', ' ', ' ', 'i', 'l', 'a', 't', 'n', 'h', 'm', 's', 'l', 'h', 'i', 'f', 'l', 'e', 't', 'l', 'i', 'd', 'i', 'o', 'n', 'd', 's', 'd', 'd', 'I', 't', 'n', 'e', 'n', 'e', 'm', 't', 'i', 'e', 't', 'l', 'a', ' ', 's', 'i', 't', 'm', 'n', ' ', 'I', 'e', 'a', ' ', 'n', ' ', 'a', 'k', 'n', 'i', 'm', 'l', 't', 'm', 'n', 's', 'b', 'i', 'i', 't', 'k', 'y', ' ', 'f', 'e', 'r', 'g', ' ', 'e', 'l', 'n', 'k', 'o', ' ', 'c', 's', 'e', 'n', 'd']\n"
     ]
    }
   ],
   "source": [
    "y_train_predict_char = [int_to_char[char] for char in y_train_predict]\n",
    "print(y_train_predict_char)"
   ]
  },
  {
   "cell_type": "code",
   "execution_count": 77,
   "id": "entertaining-error",
   "metadata": {},
   "outputs": [
    {
     "data": {
      "text/plain": [
       "1.0"
      ]
     },
     "execution_count": 77,
     "metadata": {},
     "output_type": "execute_result"
    }
   ],
   "source": [
    "# 准确率\n",
    "train_score = accuracy_score(y_train_predict, y_train)\n",
    "train_score"
   ]
  },
  {
   "cell_type": "code",
   "execution_count": 78,
   "id": "necessary-warrant",
   "metadata": {},
   "outputs": [],
   "source": [
    "# 测试数据的预测\n",
    "y_test_predict = np.argmax(lstm_model.predict(x_test), axis=-1)"
   ]
  },
  {
   "cell_type": "code",
   "execution_count": 79,
   "id": "velvet-license",
   "metadata": {},
   "outputs": [],
   "source": [
    "y_test_predict_char = [int_to_char[char] for char in y_test_predict]"
   ]
  },
  {
   "cell_type": "code",
   "execution_count": 80,
   "id": "every-payment",
   "metadata": {},
   "outputs": [],
   "source": [
    "test_score = accuracy_score(y_test, y_test_predict)"
   ]
  },
  {
   "cell_type": "code",
   "execution_count": 81,
   "id": "vocational-donor",
   "metadata": {},
   "outputs": [
    {
     "data": {
      "text/plain": [
       "1.0"
      ]
     },
     "execution_count": 81,
     "metadata": {},
     "output_type": "execute_result"
    }
   ],
   "source": [
    "test_score"
   ]
  },
  {
   "cell_type": "code",
   "execution_count": 82,
   "id": "joined-eclipse",
   "metadata": {},
   "outputs": [
    {
     "name": "stdout",
     "output_type": "stream",
     "text": [
      "(79, 30, 33) 79\n"
     ]
    }
   ],
   "source": [
    "# 新字符串的预测\n",
    "new_letters = \"Artificial intelligence (AI), sometimes called machine intelligence, is intelligence demonstrated by machines\"\n",
    "x_new,y_new = data_preprocessing(new_letters, time_step, features, char_to_int)\n",
    "print(x_new.shape, len(y_new))"
   ]
  },
  {
   "cell_type": "code",
   "execution_count": 83,
   "id": "formed-viewer",
   "metadata": {},
   "outputs": [
    {
     "name": "stdout",
     "output_type": "stream",
     "text": [
      "[18 20 12 24  7 30 12 24 18  5 27 13 25 25 24  8  5 12 13 27 19 30 22 24\n",
      "  5 30 22  7 24 25 25 30 29 24 22 27 24 23  5 30 18  5 30 22  7 24 25 25\n",
      " 30 29 24 22 27 24  5  8 24 12 20 22 18  7 16 13  7 24  8  5 21 11  5 12\n",
      " 13 27 19 30 22 24 18]\n"
     ]
    },
    {
     "name": "stderr",
     "output_type": "stream",
     "text": [
      "/Users/mac/workspaces/deep-learning-practise-venv/lib/python3.7/site-packages/tensorflow/python/keras/engine/sequential.py:450: UserWarning: `model.predict_classes()` is deprecated and will be removed after 2021-01-01. Please use instead:* `np.argmax(model.predict(x), axis=-1)`,   if your model does multi-class classification   (e.g. if it uses a `softmax` last-layer activation).* `(model.predict(x) > 0.5).astype(\"int32\")`,   if your model does binary classification   (e.g. if it uses a `sigmoid` last-layer activation).\n",
      "  warnings.warn('`model.predict_classes()` is deprecated and '\n"
     ]
    }
   ],
   "source": [
    "y_new_predict = lstm_model.predict_classes(x_new)\n",
    "print(y_new_predict)"
   ]
  },
  {
   "cell_type": "code",
   "execution_count": 84,
   "id": "stopped-mileage",
   "metadata": {},
   "outputs": [],
   "source": [
    "y_new_predict_char = [int_to_char[char] for char in y_new_predict]"
   ]
  },
  {
   "cell_type": "code",
   "execution_count": 85,
   "id": "touched-mainstream",
   "metadata": {},
   "outputs": [
    {
     "name": "stdout",
     "output_type": "stream",
     "text": [
      "['s', 'o', 'm', 'e', 't', 'i', 'm', 'e', 's', ' ', 'c', 'a', 'l', 'l', 'e', 'd', ' ', 'm', 'a', 'c', 'h', 'i', 'n', 'e', ' ', 'i', 'n', 't', 'e', 'l', 'l', 'i', 'g', 'e', 'n', 'c', 'e', ',', ' ', 'i', 's', ' ', 'i', 'n', 't', 'e', 'l', 'l', 'i', 'g', 'e', 'n', 'c', 'e', ' ', 'd', 'e', 'm', 'o', 'n', 's', 't', 'r', 'a', 't', 'e', 'd', ' ', 'b', 'y', ' ', 'm', 'a', 'c', 'h', 'i', 'n', 'e', 's']\n"
     ]
    }
   ],
   "source": [
    "print(y_new_predict_char)"
   ]
  },
  {
   "cell_type": "code",
   "execution_count": 86,
   "id": "special-brunswick",
   "metadata": {},
   "outputs": [
    {
     "name": "stdout",
     "output_type": "stream",
     "text": [
      "Artificial intelligence (AI),  --- predict new letter is>>> s\n",
      "rtificial intelligence (AI), s --- predict new letter is>>> o\n",
      "tificial intelligence (AI), so --- predict new letter is>>> m\n",
      "ificial intelligence (AI), som --- predict new letter is>>> e\n",
      "ficial intelligence (AI), some --- predict new letter is>>> t\n",
      "icial intelligence (AI), somet --- predict new letter is>>> i\n",
      "cial intelligence (AI), someti --- predict new letter is>>> m\n",
      "ial intelligence (AI), sometim --- predict new letter is>>> e\n",
      "al intelligence (AI), sometime --- predict new letter is>>> s\n",
      "l intelligence (AI), sometimes --- predict new letter is>>>  \n",
      " intelligence (AI), sometimes  --- predict new letter is>>> c\n",
      "intelligence (AI), sometimes c --- predict new letter is>>> a\n",
      "ntelligence (AI), sometimes ca --- predict new letter is>>> l\n",
      "telligence (AI), sometimes cal --- predict new letter is>>> l\n",
      "elligence (AI), sometimes call --- predict new letter is>>> e\n",
      "lligence (AI), sometimes calle --- predict new letter is>>> d\n",
      "ligence (AI), sometimes called --- predict new letter is>>>  \n",
      "igence (AI), sometimes called  --- predict new letter is>>> m\n",
      "gence (AI), sometimes called m --- predict new letter is>>> a\n",
      "ence (AI), sometimes called ma --- predict new letter is>>> c\n",
      "nce (AI), sometimes called mac --- predict new letter is>>> h\n",
      "ce (AI), sometimes called mach --- predict new letter is>>> i\n",
      "e (AI), sometimes called machi --- predict new letter is>>> n\n",
      " (AI), sometimes called machin --- predict new letter is>>> e\n",
      "(AI), sometimes called machine --- predict new letter is>>>  \n",
      "AI), sometimes called machine  --- predict new letter is>>> i\n",
      "I), sometimes called machine i --- predict new letter is>>> n\n",
      "), sometimes called machine in --- predict new letter is>>> t\n",
      ", sometimes called machine int --- predict new letter is>>> e\n",
      " sometimes called machine inte --- predict new letter is>>> l\n",
      "sometimes called machine intel --- predict new letter is>>> l\n",
      "ometimes called machine intell --- predict new letter is>>> i\n",
      "metimes called machine intelli --- predict new letter is>>> g\n",
      "etimes called machine intellig --- predict new letter is>>> e\n",
      "times called machine intellige --- predict new letter is>>> n\n",
      "imes called machine intelligen --- predict new letter is>>> c\n",
      "mes called machine intelligenc --- predict new letter is>>> e\n",
      "es called machine intelligence --- predict new letter is>>> ,\n",
      "s called machine intelligence, --- predict new letter is>>>  \n",
      " called machine intelligence,  --- predict new letter is>>> i\n",
      "called machine intelligence, i --- predict new letter is>>> s\n",
      "alled machine intelligence, is --- predict new letter is>>>  \n",
      "lled machine intelligence, is  --- predict new letter is>>> i\n",
      "led machine intelligence, is i --- predict new letter is>>> n\n",
      "ed machine intelligence, is in --- predict new letter is>>> t\n",
      "d machine intelligence, is int --- predict new letter is>>> e\n",
      " machine intelligence, is inte --- predict new letter is>>> l\n",
      "machine intelligence, is intel --- predict new letter is>>> l\n",
      "achine intelligence, is intell --- predict new letter is>>> i\n"
     ]
    }
   ],
   "source": [
    "for i in range(0, x_new.shape[0] - 30):\n",
    "    print(new_letters[i:i+30],\"--- predict new letter is>>>\", y_new_predict_char[i])"
   ]
  },
  {
   "cell_type": "raw",
   "id": "measured-frontier",
   "metadata": {},
   "source": [
    "LSTM文本生成实战summary：\n",
    "\n",
    "1、通过搭建LSTM模型，实现了英文字符文本生成；\n",
    "2、掌握了文本加载、字典生成方法；\n",
    "3、掌握了文本的数据预处理方法：字符转化、onehot格式转化、切片提取；\n",
    "4、完成了基于新文本的字符预测\n",
    "\n",
    "LSTM模型参考资料：https://keras.io/zh/layers/recurrent/#lstm"
   ]
  }
 ],
 "metadata": {
  "kernelspec": {
   "display_name": "Python 3",
   "language": "python",
   "name": "python3"
  },
  "language_info": {
   "codemirror_mode": {
    "name": "ipython",
    "version": 3
   },
   "file_extension": ".py",
   "mimetype": "text/x-python",
   "name": "python",
   "nbconvert_exporter": "python",
   "pygments_lexer": "ipython3",
   "version": "3.7.8"
  }
 },
 "nbformat": 4,
 "nbformat_minor": 5
}
