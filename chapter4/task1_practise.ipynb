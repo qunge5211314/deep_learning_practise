{
 "cells": [
  {
   "cell_type": "markdown",
   "id": "painful-hampton",
   "metadata": {},
   "source": [
    "# RNN预测股价"
   ]
  },
  {
   "cell_type": "raw",
   "id": "every-manchester",
   "metadata": {},
   "source": [
    "任务：基于task1_data数据，建立rnn模型，使用收盘价格预测贵州茅台次日收盘股价。：\n",
    "\n",
    "1、完成基本的数据加载、可视化工作；\n",
    "2、数据预处理：将数据转化为符合RNN模型输入要求的数据；\n",
    "3、建立RNN模型并训练模型，计算训练集、测试集模型预测r2分数；\n",
    "4、可视化预测表现；\n",
    "5、将测试数据预测结果保存到本地csv文件\n",
    "\n",
    "模型结构：单层RNN，输出有5个神经元\n",
    "每次使用前10个数据预测第11个数据"
   ]
  },
  {
   "cell_type": "code",
   "execution_count": null,
   "id": "bound-setting",
   "metadata": {},
   "outputs": [],
   "source": [
    "# 依赖导入\n",
    "import pandas as pd\n"
   ]
  }
 ],
 "metadata": {
  "kernelspec": {
   "display_name": "Python 3",
   "language": "python",
   "name": "python3"
  },
  "language_info": {
   "codemirror_mode": {
    "name": "ipython",
    "version": 3
   },
   "file_extension": ".py",
   "mimetype": "text/x-python",
   "name": "python",
   "nbconvert_exporter": "python",
   "pygments_lexer": "ipython3",
   "version": "3.7.8"
  }
 },
 "nbformat": 4,
 "nbformat_minor": 5
}
