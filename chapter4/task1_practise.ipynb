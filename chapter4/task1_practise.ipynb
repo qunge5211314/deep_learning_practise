{
 "cells": [
  {
   "cell_type": "markdown",
   "id": "painful-hampton",
   "metadata": {},
   "source": [
    "# RNN预测股价"
   ]
  },
  {
   "cell_type": "raw",
   "id": "every-manchester",
   "metadata": {},
   "source": [
    "任务：基于task1_data数据，建立rnn模型，使用收盘价格预测贵州茅台次日收盘股价。：\n",
    "\n",
    "1、完成基本的数据加载、可视化工作；\n",
    "2、数据预处理：将数据转化为符合RNN模型输入要求的数据；\n",
    "3、建立RNN模型并训练模型，计算训练集、测试集模型预测r2分数；\n",
    "4、可视化预测表现；\n",
    "5、将测试数据预测结果保存到本地csv文件\n",
    "\n",
    "模型结构：单层RNN，输出有5个神经元\n",
    "每次使用前10个数据预测第11个数据"
   ]
  },
  {
   "cell_type": "code",
   "execution_count": 1,
   "id": "bound-setting",
   "metadata": {},
   "outputs": [],
   "source": [
    "# 依赖导入\n",
    "import pandas as pd\n",
    "import matplotlib.pyplot as plt\n",
    "import numpy as np\n",
    "from tensorflow.keras.models import Sequential\n",
    "from tensorflow.keras.layers import Dense, SimpleRNN\n",
    "from sklearn.metrics import r2_score"
   ]
  },
  {
   "cell_type": "code",
   "execution_count": 2,
   "id": "formed-novelty",
   "metadata": {},
   "outputs": [],
   "source": [
    "plt.rcParams['font.sans-serif'] = ['Songti SC']"
   ]
  },
  {
   "cell_type": "code",
   "execution_count": 3,
   "id": "applied-density",
   "metadata": {},
   "outputs": [
    {
     "data": {
      "text/plain": [
       "0    167.5400\n",
       "1    163.6601\n",
       "2    159.6147\n",
       "3    158.6385\n",
       "4    157.4390\n",
       "Name: close, dtype: float64"
      ]
     },
     "execution_count": 3,
     "metadata": {},
     "output_type": "execute_result"
    }
   ],
   "source": [
    "# 加载数据\n",
    "raw_train_data = pd.read_csv(\"./task1_data_train.csv\")\n",
    "raw_train_data.head()\n",
    "train_data = raw_train_data.loc[:, \"close\"]\n",
    "train_data.head()"
   ]
  },
  {
   "cell_type": "code",
   "execution_count": 4,
   "id": "adolescent-bangladesh",
   "metadata": {},
   "outputs": [
    {
     "data": {
      "image/png": "[encoded data removed]",
      "text/plain": [
       "<Figure size 432x288 with 1 Axes>"
      ]
     },
     "metadata": {
      "needs_background": "light"
     },
     "output_type": "display_data"
    }
   ],
   "source": [
    "# 数据可视化\n",
    "fig1 = plt.figure()\n",
    "plt.plot(train_data)\n",
    "plt.title(\"贵州茅台每日收盘价\")\n",
    "plt.xlabel(\"时间序列\")\n",
    "plt.ylabel(\"收盘价\")\n",
    "plt.show()"
   ]
  },
  {
   "cell_type": "code",
   "execution_count": 5,
   "id": "incorporated-pierre",
   "metadata": {},
   "outputs": [
    {
     "data": {
      "text/plain": [
       "0    0.137384\n",
       "1    0.134202\n",
       "2    0.130885\n",
       "3    0.130085\n",
       "4    0.129101\n",
       "Name: close, dtype: float64"
      ]
     },
     "execution_count": 5,
     "metadata": {},
     "output_type": "execute_result"
    }
   ],
   "source": [
    "# 数据预处理 归一化\n",
    "train_data_normal = train_data/max(train_data)\n",
    "train_data_normal.head()"
   ]
  },
  {
   "cell_type": "code",
   "execution_count": 6,
   "id": "available-angola",
   "metadata": {},
   "outputs": [],
   "source": [
    "# 数据序列提取方法\n",
    "def extract_data(data, time_step=10):\n",
    "    x = []\n",
    "    y = []\n",
    "    for i in range(len(data)-time_step):\n",
    "        x.append([a for a in data[i: i+time_step]])\n",
    "        y.append(data[i+time_step])\n",
    "    x = np.array(x)\n",
    "    x.resize(x.shape[0],x.shape[1], 1)\n",
    "    y = np.array(y)\n",
    "    return x,y"
   ]
  },
  {
   "cell_type": "code",
   "execution_count": 7,
   "id": "laden-conspiracy",
   "metadata": {},
   "outputs": [
    {
     "name": "stdout",
     "output_type": "stream",
     "text": [
      "[[[1]\n",
      "  [2]\n",
      "  [3]\n",
      "  [4]\n",
      "  [5]]\n",
      "\n",
      " [[2]\n",
      "  [3]\n",
      "  [4]\n",
      "  [5]\n",
      "  [6]]\n",
      "\n",
      " [[3]\n",
      "  [4]\n",
      "  [5]\n",
      "  [6]\n",
      "  [7]]\n",
      "\n",
      " [[4]\n",
      "  [5]\n",
      "  [6]\n",
      "  [7]\n",
      "  [8]]]\n",
      "[6 7 8 9]\n"
     ]
    }
   ],
   "source": [
    "# 方法测试\n",
    "test_data = [i for i in range(1, 10)]\n",
    "test_step = 5\n",
    "x,y = extract_data(test_data, test_step)\n",
    "print(x)\n",
    "print(y)"
   ]
  },
  {
   "cell_type": "code",
   "execution_count": 8,
   "id": "manual-shirt",
   "metadata": {},
   "outputs": [
    {
     "name": "stdout",
     "output_type": "stream",
     "text": [
      "[[[0.13738403]\n",
      "  [0.13420248]\n",
      "  [0.13088522]\n",
      "  [0.13008473]\n",
      "  [0.12910113]\n",
      "  [0.12646899]\n",
      "  [0.12541758]\n",
      "  [0.12426432]\n",
      "  [0.12622479]\n",
      "  [0.12625194]]\n",
      "\n",
      " [[0.13420248]\n",
      "  [0.13088522]\n",
      "  [0.13008473]\n",
      "  [0.12910113]\n",
      "  [0.12646899]\n",
      "  [0.12541758]\n",
      "  [0.12426432]\n",
      "  [0.12622479]\n",
      "  [0.12625194]\n",
      "  [0.11904087]]]\n",
      "[0.11904087 0.12080463]\n"
     ]
    }
   ],
   "source": [
    "# 股票价格数据处理\n",
    "time_step = 10\n",
    "x, y = extract_data(train_data_normal, time_step)\n",
    "print(x[:2])\n",
    "print(y[:2])"
   ]
  },
  {
   "cell_type": "code",
   "execution_count": 9,
   "id": "exact-composite",
   "metadata": {},
   "outputs": [
    {
     "name": "stdout",
     "output_type": "stream",
     "text": [
      "(1209, 10, 1) 1209\n"
     ]
    }
   ],
   "source": [
    "# 确认数据维度\n",
    "print(x.shape, len(y))"
   ]
  },
  {
   "cell_type": "code",
   "execution_count": 10,
   "id": "permanent-shoot",
   "metadata": {},
   "outputs": [
    {
     "name": "stdout",
     "output_type": "stream",
     "text": [
      "Model: \"sequential\"\n",
      "_________________________________________________________________\n",
      "Layer (type)                 Output Shape              Param #   \n",
      "=================================================================\n",
      "simple_rnn (SimpleRNN)       (None, 5)                 35        \n",
      "_________________________________________________________________\n",
      "dense (Dense)                (None, 1)                 6         \n",
      "=================================================================\n",
      "Total params: 41\n",
      "Trainable params: 41\n",
      "Non-trainable params: 0\n",
      "_________________________________________________________________\n"
     ]
    }
   ],
   "source": [
    "# 建立模型\n",
    "rnn_model = Sequential()\n",
    "# 添加rnn层\n",
    "rnn_model.add(SimpleRNN(units=5, input_shape=(10,1), activation=\"relu\"))\n",
    "rnn_model.add(Dense(units=1, activation=\"linear\"))\n",
    "rnn_model.summary()"
   ]
  },
  {
   "cell_type": "code",
   "execution_count": 11,
   "id": "loved-there",
   "metadata": {},
   "outputs": [],
   "source": [
    "# 模型配置\n",
    "rnn_model.compile(optimizer=\"adam\", loss=\"mean_squared_error\")"
   ]
  },
  {
   "cell_type": "code",
   "execution_count": 12,
   "id": "corresponding-location",
   "metadata": {},
   "outputs": [
    {
     "name": "stdout",
     "output_type": "stream",
     "text": [
      "Epoch 1/200\n",
      "41/41 [==============================] - 1s 2ms/step - loss: 0.2529\n",
      "Epoch 2/200\n",
      "41/41 [==============================] - 0s 2ms/step - loss: 0.1918\n",
      "Epoch 3/200\n",
      "41/41 [==============================] - 0s 2ms/step - loss: 0.1451\n",
      "Epoch 4/200\n",
      "41/41 [==============================] - 0s 1ms/step - loss: 0.1118\n",
      "Epoch 5/200\n",
      "41/41 [==============================] - 0s 1ms/step - loss: 0.0623\n",
      "Epoch 6/200\n",
      "41/41 [==============================] - 0s 2ms/step - loss: 0.0246\n",
      "Epoch 7/200\n",
      "41/41 [==============================] - 0s 2ms/step - loss: 0.0160\n",
      "Epoch 8/200\n",
      "41/41 [==============================] - 0s 1ms/step - loss: 0.0135\n",
      "Epoch 9/200\n",
      "41/41 [==============================] - 0s 2ms/step - loss: 0.0108\n",
      "Epoch 10/200\n",
      "41/41 [==============================] - 0s 1ms/step - loss: 0.0088\n",
      "Epoch 11/200\n",
      "41/41 [==============================] - 0s 1ms/step - loss: 0.0061\n",
      "Epoch 12/200\n",
      "41/41 [==============================] - 0s 2ms/step - loss: 0.0041\n",
      "Epoch 13/200\n",
      "41/41 [==============================] - 0s 2ms/step - loss: 0.0026\n",
      "Epoch 14/200\n",
      "41/41 [==============================] - 0s 2ms/step - loss: 0.0014\n",
      "Epoch 15/200\n",
      "41/41 [==============================] - 0s 2ms/step - loss: 6.6532e-04\n",
      "Epoch 16/200\n",
      "41/41 [==============================] - 0s 2ms/step - loss: 3.4085e-04\n",
      "Epoch 17/200\n",
      "41/41 [==============================] - 0s 2ms/step - loss: 2.4139e-04\n",
      "Epoch 18/200\n",
      "41/41 [==============================] - 0s 2ms/step - loss: 2.0024e-04\n",
      "Epoch 19/200\n",
      "41/41 [==============================] - 0s 2ms/step - loss: 2.2268e-04\n",
      "Epoch 20/200\n",
      "41/41 [==============================] - 0s 2ms/step - loss: 1.9294e-04\n",
      "Epoch 21/200\n",
      "41/41 [==============================] - 0s 2ms/step - loss: 1.8015e-04\n",
      "Epoch 22/200\n",
      "41/41 [==============================] - 0s 1ms/step - loss: 2.1772e-04\n",
      "Epoch 23/200\n",
      "41/41 [==============================] - 0s 1ms/step - loss: 2.1793e-04\n",
      "Epoch 24/200\n",
      "41/41 [==============================] - 0s 1ms/step - loss: 2.1582e-04\n",
      "Epoch 25/200\n",
      "41/41 [==============================] - 0s 1ms/step - loss: 1.9849e-04\n",
      "Epoch 26/200\n",
      "41/41 [==============================] - 0s 1ms/step - loss: 2.1234e-04\n",
      "Epoch 27/200\n",
      "41/41 [==============================] - 0s 1ms/step - loss: 1.8175e-04\n",
      "Epoch 28/200\n",
      "41/41 [==============================] - 0s 1ms/step - loss: 2.0135e-04\n",
      "Epoch 29/200\n",
      "41/41 [==============================] - 0s 1ms/step - loss: 1.9712e-04\n",
      "Epoch 30/200\n",
      "41/41 [==============================] - 0s 1ms/step - loss: 2.0079e-04\n",
      "Epoch 31/200\n",
      "41/41 [==============================] - 0s 1ms/step - loss: 2.0700e-04\n",
      "Epoch 32/200\n",
      "41/41 [==============================] - 0s 1ms/step - loss: 1.9994e-04\n",
      "Epoch 33/200\n",
      "41/41 [==============================] - 0s 1ms/step - loss: 2.0774e-04\n",
      "Epoch 34/200\n",
      "41/41 [==============================] - 0s 1ms/step - loss: 1.7709e-04\n",
      "Epoch 35/200\n",
      "41/41 [==============================] - 0s 1ms/step - loss: 1.9600e-04\n",
      "Epoch 36/200\n",
      "41/41 [==============================] - 0s 1ms/step - loss: 2.0204e-04\n",
      "Epoch 37/200\n",
      "41/41 [==============================] - 0s 1ms/step - loss: 1.9468e-04\n",
      "Epoch 38/200\n",
      "41/41 [==============================] - 0s 1ms/step - loss: 1.8163e-04\n",
      "Epoch 39/200\n",
      "41/41 [==============================] - 0s 2ms/step - loss: 1.9793e-04\n",
      "Epoch 40/200\n",
      "41/41 [==============================] - 0s 1ms/step - loss: 1.7017e-04\n",
      "Epoch 41/200\n",
      "41/41 [==============================] - 0s 1ms/step - loss: 2.2324e-04\n",
      "Epoch 42/200\n",
      "41/41 [==============================] - 0s 1ms/step - loss: 2.0409e-04\n",
      "Epoch 43/200\n",
      "41/41 [==============================] - 0s 1ms/step - loss: 2.1689e-04\n",
      "Epoch 44/200\n",
      "41/41 [==============================] - 0s 1ms/step - loss: 2.0245e-04\n",
      "Epoch 45/200\n",
      "41/41 [==============================] - 0s 1ms/step - loss: 1.8656e-04\n",
      "Epoch 46/200\n",
      "41/41 [==============================] - 0s 1ms/step - loss: 1.8081e-04\n",
      "Epoch 47/200\n",
      "41/41 [==============================] - 0s 2ms/step - loss: 2.2201e-04\n",
      "Epoch 48/200\n",
      "41/41 [==============================] - 0s 1ms/step - loss: 1.9804e-04\n",
      "Epoch 49/200\n",
      "41/41 [==============================] - 0s 1ms/step - loss: 2.2410e-04\n",
      "Epoch 50/200\n",
      "41/41 [==============================] - 0s 1ms/step - loss: 1.9893e-04\n",
      "Epoch 51/200\n",
      "41/41 [==============================] - 0s 1ms/step - loss: 2.0037e-04\n",
      "Epoch 52/200\n",
      "41/41 [==============================] - 0s 1ms/step - loss: 2.2648e-04\n",
      "Epoch 53/200\n",
      "41/41 [==============================] - 0s 1ms/step - loss: 1.9484e-04\n",
      "Epoch 54/200\n",
      "41/41 [==============================] - 0s 1ms/step - loss: 1.8448e-04\n",
      "Epoch 55/200\n",
      "41/41 [==============================] - 0s 1ms/step - loss: 2.0855e-04\n",
      "Epoch 56/200\n",
      "41/41 [==============================] - 0s 1ms/step - loss: 2.0362e-04\n",
      "Epoch 57/200\n",
      "41/41 [==============================] - 0s 1ms/step - loss: 2.1189e-04\n",
      "Epoch 58/200\n",
      "41/41 [==============================] - 0s 1ms/step - loss: 2.0655e-04\n",
      "Epoch 59/200\n",
      "41/41 [==============================] - 0s 1ms/step - loss: 1.9752e-04\n",
      "Epoch 60/200\n",
      "41/41 [==============================] - 0s 1ms/step - loss: 1.7986e-04\n",
      "Epoch 61/200\n",
      "41/41 [==============================] - 0s 1ms/step - loss: 2.0331e-04\n",
      "Epoch 62/200\n",
      "41/41 [==============================] - 0s 1ms/step - loss: 1.9609e-04\n",
      "Epoch 63/200\n",
      "41/41 [==============================] - 0s 1ms/step - loss: 1.9547e-04\n",
      "Epoch 64/200\n",
      "41/41 [==============================] - 0s 1ms/step - loss: 1.8156e-04\n",
      "Epoch 65/200\n",
      "41/41 [==============================] - 0s 1ms/step - loss: 2.0908e-04\n",
      "Epoch 66/200\n",
      "41/41 [==============================] - 0s 1ms/step - loss: 1.8398e-04\n",
      "Epoch 67/200\n",
      "41/41 [==============================] - 0s 1ms/step - loss: 2.0208e-04\n",
      "Epoch 68/200\n",
      "41/41 [==============================] - 0s 1ms/step - loss: 2.0665e-04\n",
      "Epoch 69/200\n",
      "41/41 [==============================] - 0s 1ms/step - loss: 1.8680e-04\n",
      "Epoch 70/200\n",
      "41/41 [==============================] - 0s 1ms/step - loss: 1.8737e-04\n",
      "Epoch 71/200\n",
      "41/41 [==============================] - 0s 1ms/step - loss: 1.9208e-04\n",
      "Epoch 72/200\n",
      "41/41 [==============================] - 0s 1ms/step - loss: 2.0562e-04\n",
      "Epoch 73/200\n",
      "41/41 [==============================] - 0s 1ms/step - loss: 1.9465e-04\n",
      "Epoch 74/200\n",
      "41/41 [==============================] - 0s 1ms/step - loss: 1.9745e-04\n",
      "Epoch 75/200\n",
      "41/41 [==============================] - 0s 1ms/step - loss: 2.0014e-04\n",
      "Epoch 76/200\n",
      "41/41 [==============================] - 0s 1ms/step - loss: 1.9752e-04\n",
      "Epoch 77/200\n",
      "41/41 [==============================] - 0s 1ms/step - loss: 1.9659e-04\n",
      "Epoch 78/200\n",
      "41/41 [==============================] - 0s 1ms/step - loss: 1.8836e-04\n",
      "Epoch 79/200\n",
      "41/41 [==============================] - 0s 1ms/step - loss: 2.0561e-04\n",
      "Epoch 80/200\n",
      "41/41 [==============================] - 0s 1ms/step - loss: 1.7992e-04\n",
      "Epoch 81/200\n",
      "41/41 [==============================] - 0s 1ms/step - loss: 1.6472e-04\n",
      "Epoch 82/200\n",
      "41/41 [==============================] - 0s 1ms/step - loss: 1.9976e-04\n",
      "Epoch 83/200\n",
      "41/41 [==============================] - 0s 1ms/step - loss: 1.8790e-04\n",
      "Epoch 84/200\n",
      "41/41 [==============================] - 0s 1ms/step - loss: 2.0089e-04\n",
      "Epoch 85/200\n",
      "41/41 [==============================] - 0s 1ms/step - loss: 1.8412e-04\n",
      "Epoch 86/200\n",
      "41/41 [==============================] - 0s 1ms/step - loss: 2.0461e-04\n",
      "Epoch 87/200\n",
      "41/41 [==============================] - 0s 1ms/step - loss: 1.8181e-04\n",
      "Epoch 88/200\n",
      "41/41 [==============================] - 0s 1ms/step - loss: 1.7459e-04\n",
      "Epoch 89/200\n",
      "41/41 [==============================] - 0s 1ms/step - loss: 2.0831e-04\n",
      "Epoch 90/200\n",
      "41/41 [==============================] - 0s 1ms/step - loss: 1.9756e-04\n",
      "Epoch 91/200\n",
      "41/41 [==============================] - 0s 1ms/step - loss: 1.7698e-04\n",
      "Epoch 92/200\n",
      "41/41 [==============================] - 0s 1ms/step - loss: 1.9529e-04\n",
      "Epoch 93/200\n",
      "41/41 [==============================] - 0s 1ms/step - loss: 1.9905e-04\n",
      "Epoch 94/200\n",
      "41/41 [==============================] - 0s 1ms/step - loss: 1.9633e-04\n",
      "Epoch 95/200\n",
      "41/41 [==============================] - 0s 1ms/step - loss: 1.8487e-04\n",
      "Epoch 96/200\n",
      "41/41 [==============================] - 0s 1ms/step - loss: 1.8434e-04\n",
      "Epoch 97/200\n",
      "41/41 [==============================] - 0s 1ms/step - loss: 2.1332e-04\n",
      "Epoch 98/200\n"
     ]
    },
    {
     "name": "stdout",
     "output_type": "stream",
     "text": [
      "41/41 [==============================] - 0s 1ms/step - loss: 1.8944e-04\n",
      "Epoch 99/200\n",
      "41/41 [==============================] - 0s 1ms/step - loss: 1.8162e-04\n",
      "Epoch 100/200\n",
      "41/41 [==============================] - 0s 1ms/step - loss: 1.6796e-04\n",
      "Epoch 101/200\n",
      "41/41 [==============================] - 0s 1ms/step - loss: 1.8545e-04\n",
      "Epoch 102/200\n",
      "41/41 [==============================] - 0s 1ms/step - loss: 1.8431e-04\n",
      "Epoch 103/200\n",
      "41/41 [==============================] - 0s 1ms/step - loss: 1.8264e-04\n",
      "Epoch 104/200\n",
      "41/41 [==============================] - 0s 1ms/step - loss: 1.8574e-04\n",
      "Epoch 105/200\n",
      "41/41 [==============================] - 0s 1ms/step - loss: 1.9337e-04\n",
      "Epoch 106/200\n",
      "41/41 [==============================] - 0s 1ms/step - loss: 1.9550e-04\n",
      "Epoch 107/200\n",
      "41/41 [==============================] - 0s 1ms/step - loss: 1.9539e-04\n",
      "Epoch 108/200\n",
      "41/41 [==============================] - 0s 1ms/step - loss: 1.8991e-04\n",
      "Epoch 109/200\n",
      "41/41 [==============================] - 0s 1ms/step - loss: 1.8710e-04\n",
      "Epoch 110/200\n",
      "41/41 [==============================] - 0s 1ms/step - loss: 1.8245e-04\n",
      "Epoch 111/200\n",
      "41/41 [==============================] - 0s 1ms/step - loss: 1.7925e-04\n",
      "Epoch 112/200\n",
      "41/41 [==============================] - 0s 1ms/step - loss: 1.9553e-04\n",
      "Epoch 113/200\n",
      "41/41 [==============================] - 0s 1ms/step - loss: 1.7355e-04\n",
      "Epoch 114/200\n",
      "41/41 [==============================] - 0s 1ms/step - loss: 1.8852e-04\n",
      "Epoch 115/200\n",
      "41/41 [==============================] - 0s 1ms/step - loss: 1.7999e-04\n",
      "Epoch 116/200\n",
      "41/41 [==============================] - 0s 1ms/step - loss: 1.8861e-04\n",
      "Epoch 117/200\n",
      "41/41 [==============================] - 0s 1ms/step - loss: 1.6742e-04\n",
      "Epoch 118/200\n",
      "41/41 [==============================] - 0s 1ms/step - loss: 1.7489e-04\n",
      "Epoch 119/200\n",
      "41/41 [==============================] - 0s 1ms/step - loss: 1.6395e-04\n",
      "Epoch 120/200\n",
      "41/41 [==============================] - 0s 1ms/step - loss: 1.7340e-04\n",
      "Epoch 121/200\n",
      "41/41 [==============================] - 0s 1ms/step - loss: 1.8055e-04\n",
      "Epoch 122/200\n",
      "41/41 [==============================] - 0s 1ms/step - loss: 1.9875e-04\n",
      "Epoch 123/200\n",
      "41/41 [==============================] - 0s 1ms/step - loss: 1.8240e-04\n",
      "Epoch 124/200\n",
      "41/41 [==============================] - 0s 1ms/step - loss: 2.3408e-04\n",
      "Epoch 125/200\n",
      "41/41 [==============================] - 0s 1ms/step - loss: 1.8632e-04\n",
      "Epoch 126/200\n",
      "41/41 [==============================] - 0s 1ms/step - loss: 1.6121e-04\n",
      "Epoch 127/200\n",
      "41/41 [==============================] - 0s 1ms/step - loss: 1.9207e-04\n",
      "Epoch 128/200\n",
      "41/41 [==============================] - 0s 1ms/step - loss: 1.9856e-04\n",
      "Epoch 129/200\n",
      "41/41 [==============================] - 0s 1ms/step - loss: 2.0240e-04\n",
      "Epoch 130/200\n",
      "41/41 [==============================] - 0s 1ms/step - loss: 1.8260e-04\n",
      "Epoch 131/200\n",
      "41/41 [==============================] - 0s 1ms/step - loss: 1.6547e-04\n",
      "Epoch 132/200\n",
      "41/41 [==============================] - 0s 1ms/step - loss: 1.9042e-04\n",
      "Epoch 133/200\n",
      "41/41 [==============================] - 0s 1ms/step - loss: 1.8815e-04\n",
      "Epoch 134/200\n",
      "41/41 [==============================] - 0s 1ms/step - loss: 1.5828e-04\n",
      "Epoch 135/200\n",
      "41/41 [==============================] - 0s 1ms/step - loss: 1.7719e-04\n",
      "Epoch 136/200\n",
      "41/41 [==============================] - 0s 1ms/step - loss: 1.7232e-04\n",
      "Epoch 137/200\n",
      "41/41 [==============================] - 0s 1ms/step - loss: 1.7189e-04\n",
      "Epoch 138/200\n",
      "41/41 [==============================] - 0s 1ms/step - loss: 1.7518e-04\n",
      "Epoch 139/200\n",
      "41/41 [==============================] - 0s 1ms/step - loss: 1.7246e-04\n",
      "Epoch 140/200\n",
      "41/41 [==============================] - 0s 1ms/step - loss: 1.8142e-04\n",
      "Epoch 141/200\n",
      "41/41 [==============================] - 0s 1ms/step - loss: 1.7002e-04\n",
      "Epoch 142/200\n",
      "41/41 [==============================] - 0s 1ms/step - loss: 1.7295e-04\n",
      "Epoch 143/200\n",
      "41/41 [==============================] - 0s 1ms/step - loss: 1.8486e-04\n",
      "Epoch 144/200\n",
      "41/41 [==============================] - 0s 1ms/step - loss: 1.8805e-04\n",
      "Epoch 145/200\n",
      "41/41 [==============================] - 0s 1ms/step - loss: 1.8460e-04\n",
      "Epoch 146/200\n",
      "41/41 [==============================] - 0s 1ms/step - loss: 1.5988e-04\n",
      "Epoch 147/200\n",
      "41/41 [==============================] - 0s 1ms/step - loss: 1.6848e-04\n",
      "Epoch 148/200\n",
      "41/41 [==============================] - 0s 1ms/step - loss: 2.0434e-04\n",
      "Epoch 149/200\n",
      "41/41 [==============================] - 0s 1ms/step - loss: 1.6568e-04\n",
      "Epoch 150/200\n",
      "41/41 [==============================] - 0s 1ms/step - loss: 1.9035e-04\n",
      "Epoch 151/200\n",
      "41/41 [==============================] - 0s 1ms/step - loss: 1.8216e-04\n",
      "Epoch 152/200\n",
      "41/41 [==============================] - 0s 1ms/step - loss: 1.9233e-04\n",
      "Epoch 153/200\n",
      "41/41 [==============================] - 0s 1ms/step - loss: 1.7745e-04\n",
      "Epoch 154/200\n",
      "41/41 [==============================] - 0s 1ms/step - loss: 1.6283e-04\n",
      "Epoch 155/200\n",
      "41/41 [==============================] - 0s 1ms/step - loss: 1.5751e-04\n",
      "Epoch 156/200\n",
      "41/41 [==============================] - 0s 1ms/step - loss: 1.8394e-04\n",
      "Epoch 157/200\n",
      "41/41 [==============================] - 0s 2ms/step - loss: 1.6631e-04\n",
      "Epoch 158/200\n",
      "41/41 [==============================] - 0s 1ms/step - loss: 1.7859e-04\n",
      "Epoch 159/200\n",
      "41/41 [==============================] - 0s 1ms/step - loss: 1.7125e-04\n",
      "Epoch 160/200\n",
      "41/41 [==============================] - 0s 1ms/step - loss: 1.6051e-04\n",
      "Epoch 161/200\n",
      "41/41 [==============================] - 0s 1ms/step - loss: 1.7425e-04\n",
      "Epoch 162/200\n",
      "41/41 [==============================] - 0s 1ms/step - loss: 1.8252e-04\n",
      "Epoch 163/200\n",
      "41/41 [==============================] - 0s 1ms/step - loss: 1.7101e-04\n",
      "Epoch 164/200\n",
      "41/41 [==============================] - 0s 1ms/step - loss: 1.7782e-04\n",
      "Epoch 165/200\n",
      "41/41 [==============================] - 0s 1ms/step - loss: 1.5811e-04\n",
      "Epoch 166/200\n",
      "41/41 [==============================] - 0s 1ms/step - loss: 1.8181e-04\n",
      "Epoch 167/200\n",
      "41/41 [==============================] - 0s 1ms/step - loss: 1.7131e-04\n",
      "Epoch 168/200\n",
      "41/41 [==============================] - 0s 1ms/step - loss: 1.5341e-04\n",
      "Epoch 169/200\n",
      "41/41 [==============================] - 0s 1ms/step - loss: 1.7623e-04\n",
      "Epoch 170/200\n",
      "41/41 [==============================] - 0s 1ms/step - loss: 1.6501e-04\n",
      "Epoch 171/200\n",
      "41/41 [==============================] - 0s 1ms/step - loss: 1.8195e-04\n",
      "Epoch 172/200\n",
      "41/41 [==============================] - 0s 1ms/step - loss: 1.7158e-04\n",
      "Epoch 173/200\n",
      "41/41 [==============================] - 0s 1ms/step - loss: 1.6606e-04\n",
      "Epoch 174/200\n",
      "41/41 [==============================] - 0s 1ms/step - loss: 1.5661e-04\n",
      "Epoch 175/200\n",
      "41/41 [==============================] - 0s 1ms/step - loss: 1.6241e-04\n",
      "Epoch 176/200\n",
      "41/41 [==============================] - 0s 1ms/step - loss: 1.8076e-04\n",
      "Epoch 177/200\n",
      "41/41 [==============================] - 0s 1ms/step - loss: 1.7128e-04\n",
      "Epoch 178/200\n",
      "41/41 [==============================] - 0s 1ms/step - loss: 1.5948e-04\n",
      "Epoch 179/200\n",
      "41/41 [==============================] - 0s 1ms/step - loss: 1.6948e-04\n",
      "Epoch 180/200\n",
      "41/41 [==============================] - 0s 1ms/step - loss: 1.6922e-04\n",
      "Epoch 181/200\n",
      "41/41 [==============================] - 0s 1ms/step - loss: 1.6619e-04\n",
      "Epoch 182/200\n",
      "41/41 [==============================] - 0s 1ms/step - loss: 1.4826e-04\n",
      "Epoch 183/200\n",
      "41/41 [==============================] - 0s 1ms/step - loss: 1.5051e-04\n",
      "Epoch 184/200\n",
      "41/41 [==============================] - 0s 1ms/step - loss: 1.6921e-04\n",
      "Epoch 185/200\n",
      "41/41 [==============================] - 0s 1ms/step - loss: 1.6790e-04\n",
      "Epoch 186/200\n",
      "41/41 [==============================] - 0s 1ms/step - loss: 1.6204e-04\n",
      "Epoch 187/200\n",
      "41/41 [==============================] - 0s 1ms/step - loss: 1.7296e-04\n",
      "Epoch 188/200\n",
      "41/41 [==============================] - 0s 1ms/step - loss: 1.6689e-04\n",
      "Epoch 189/200\n",
      "41/41 [==============================] - 0s 1ms/step - loss: 1.6841e-04\n",
      "Epoch 190/200\n",
      "41/41 [==============================] - 0s 1ms/step - loss: 1.7170e-04\n",
      "Epoch 191/200\n",
      "41/41 [==============================] - 0s 1ms/step - loss: 1.5480e-04\n",
      "Epoch 192/200\n",
      "41/41 [==============================] - 0s 1ms/step - loss: 1.4883e-04\n",
      "Epoch 193/200\n"
     ]
    },
    {
     "name": "stdout",
     "output_type": "stream",
     "text": [
      "41/41 [==============================] - 0s 1ms/step - loss: 1.7141e-04\n",
      "Epoch 194/200\n",
      "41/41 [==============================] - 0s 1ms/step - loss: 1.7585e-04\n",
      "Epoch 195/200\n",
      "41/41 [==============================] - 0s 1ms/step - loss: 1.7698e-04\n",
      "Epoch 196/200\n",
      "41/41 [==============================] - 0s 1ms/step - loss: 1.8696e-04\n",
      "Epoch 197/200\n",
      "41/41 [==============================] - 0s 2ms/step - loss: 1.6754e-04\n",
      "Epoch 198/200\n",
      "41/41 [==============================] - 0s 2ms/step - loss: 1.6357e-04\n",
      "Epoch 199/200\n",
      "41/41 [==============================] - 0s 1ms/step - loss: 1.7929e-04\n",
      "Epoch 200/200\n",
      "41/41 [==============================] - 0s 1ms/step - loss: 1.7841e-04\n"
     ]
    },
    {
     "data": {
      "text/plain": [
       "<tensorflow.python.keras.callbacks.History at 0x7f9faa9a15d0>"
      ]
     },
     "execution_count": 12,
     "metadata": {},
     "output_type": "execute_result"
    }
   ],
   "source": [
    "# 模型训练\n",
    "rnn_model.fit(x, y, batch_size=30, epochs=200)"
   ]
  },
  {
   "cell_type": "code",
   "execution_count": 13,
   "id": "removed-villa",
   "metadata": {},
   "outputs": [
    {
     "name": "stdout",
     "output_type": "stream",
     "text": [
      "[[ 154.90364]\n",
      " [ 152.05481]\n",
      " [ 150.66875]\n",
      " ...\n",
      " [1134.0139 ]\n",
      " [1139.4058 ]\n",
      " [1150.0137 ]]\n"
     ]
    }
   ],
   "source": [
    "# 结果预测\n",
    "y_train_predict = rnn_model.predict(x)\n",
    "y_train_predict = y_train_predict * max(train_data)\n",
    "print(y_train_predict)"
   ]
  },
  {
   "cell_type": "code",
   "execution_count": 14,
   "id": "featured-obligation",
   "metadata": {},
   "outputs": [
    {
     "data": {
      "text/plain": [
       "array([ 145.1705,  147.3214,  150.8621, ..., 1149.5684, 1172.1051,\n",
       "       1169.3375])"
      ]
     },
     "execution_count": 14,
     "metadata": {},
     "output_type": "execute_result"
    }
   ],
   "source": [
    "y = y * max(train_data)\n",
    "y"
   ]
  },
  {
   "cell_type": "code",
   "execution_count": 15,
   "id": "imported-alcohol",
   "metadata": {},
   "outputs": [
    {
     "data": {
      "image/png": "[encoded data removed]",
      "text/plain": [
       "<Figure size 720x720 with 1 Axes>"
      ]
     },
     "metadata": {
      "needs_background": "light"
     },
     "output_type": "display_data"
    }
   ],
   "source": [
    "# 数据可视化\n",
    "fig2 = plt.figure(figsize=(10,10))\n",
    "plt.plot(y, label=\"实际价格\")\n",
    "plt.plot(y_train_predict, label=\"预测价格\")\n",
    "plt.title(\"贵州茅台每日收盘价\")\n",
    "plt.xlabel(\"时间序列\")\n",
    "plt.ylabel(\"收盘价\")\n",
    "plt.legend()\n",
    "plt.show()"
   ]
  },
  {
   "cell_type": "code",
   "execution_count": 16,
   "id": "current-payment",
   "metadata": {},
   "outputs": [
    {
     "name": "stdout",
     "output_type": "stream",
     "text": [
      "0.9973257654878939\n"
     ]
    }
   ],
   "source": [
    "r2_train_score = r2_score(y, y_train_predict)\n",
    "print(r2_train_score)"
   ]
  },
  {
   "cell_type": "code",
   "execution_count": 17,
   "id": "chronic-birthday",
   "metadata": {},
   "outputs": [],
   "source": [
    "#有的小伙伴训练一次以后发现预测出来的结果不理想，很可能是模型进行初始化的时候选取的随机系数不合适，导致梯度下降搜索时遇到了局部极小值\n",
    "#解决办法：尝试再次建立模型并训练\n",
    "#多层感知机结构在进行模型求解时，会给定一组随机的初始化权重系数，这种情况是正常的。通常我们可以观察损失函数是否在变小来发现模型求解是否正常"
   ]
  },
  {
   "cell_type": "code",
   "execution_count": 18,
   "id": "equal-theme",
   "metadata": {},
   "outputs": [
    {
     "name": "stdout",
     "output_type": "stream",
     "text": [
      "       date       open       high        low      close  volume\n",
      "0  2020/1/2  1114.9727  1131.8356  1103.1112  1116.9496  148099\n",
      "1  2020/1/3  1104.0997  1104.0997  1064.4628  1066.1036  130318\n",
      "2  2020/1/6  1058.4926  1080.2780  1054.9737  1065.5402   63414\n",
      "3  2020/1/7  1065.0559  1086.3076  1063.9686  1081.8892   47853\n",
      "4  2020/1/8  1072.5187  1082.8480  1070.0772  1075.5730   25008\n",
      "0      0.915907\n",
      "1      0.874213\n",
      "2      0.873751\n",
      "3      0.887157\n",
      "4      0.881978\n",
      "         ...   \n",
      "163    1.470273\n",
      "164    1.451413\n",
      "165    1.413283\n",
      "166    1.403361\n",
      "167    1.384172\n",
      "Name: close, Length: 168, dtype: float64\n",
      "[[[0.91590685]\n",
      "  [0.87421276]\n",
      "  [0.87375077]\n",
      "  [0.88715707]\n",
      "  [0.88197774]\n",
      "  [0.8937792 ]\n",
      "  [0.90172245]\n",
      "  [0.91126242]\n",
      "  [0.89758871]\n",
      "  [0.90142249]]\n",
      "\n",
      " [[0.87421276]\n",
      "  [0.87375077]\n",
      "  [0.88715707]\n",
      "  [0.88197774]\n",
      "  [0.8937792 ]\n",
      "  [0.90172245]\n",
      "  [0.91126242]\n",
      "  [0.89758871]\n",
      "  [0.90142249]\n",
      "  [0.89726448]]]\n",
      "[0.89726448 0.89766973]\n"
     ]
    }
   ],
   "source": [
    "# 测试集数据\n",
    "raw_test_data = pd.read_csv(\"./task1_data_test.csv\")\n",
    "print(raw_test_data.head())\n",
    "test_data = raw_test_data.loc[:, \"close\"]\n",
    "\n",
    "# 归一化\n",
    "test_data_normal = test_data/max(train_data)\n",
    "print(test_data_normal)\n",
    "# 测试数据序列的提取\n",
    "x_test, y_test = extract_data(test_data_normal, time_step)\n",
    "print(x_test[:2])\n",
    "print(y_test[:2])"
   ]
  },
  {
   "cell_type": "code",
   "execution_count": 19,
   "id": "pretty-stuff",
   "metadata": {},
   "outputs": [
    {
     "name": "stdout",
     "output_type": "stream",
     "text": [
      "[[1099.5538]\n",
      " [1098.8168]\n",
      " [1098.9918]\n",
      " [1094.3811]\n",
      " [1086.3617]\n",
      " [1080.7085]\n",
      " [1069.9438]\n",
      " [1048.0221]\n",
      " [1041.8834]\n",
      " [1041.0848]\n",
      " [1046.4968]\n",
      " [1051.8931]\n",
      " [1053.0458]\n",
      " [1063.1156]\n",
      " [1070.3396]\n",
      " [1073.7448]\n",
      " [1075.5864]\n",
      " [1079.1224]\n",
      " [1078.4768]\n",
      " [1081.4734]\n",
      " [1089.5853]\n",
      " [1093.9088]\n",
      " [1089.7429]\n",
      " [1082.8379]\n",
      " [1077.5471]\n",
      " [1077.7355]\n",
      " [1069.1678]\n",
      " [1071.2649]\n",
      " [1080.6436]\n",
      " [1091.8469]\n",
      " [1111.7878]\n",
      " [1121.7692]\n",
      " [1117.3215]\n",
      " [1126.3203]\n",
      " [1133.5465]\n",
      " [1132.8529]\n",
      " [1125.0762]\n",
      " [1106.2057]\n",
      " [1086.0057]\n",
      " [1060.596 ]\n",
      " [1038.3638]\n",
      " [1033.7916]\n",
      " [1026.2682]\n",
      " [1031.0193]\n",
      " [1041.3462]\n",
      " [1044.6489]\n",
      " [1050.3618]\n",
      " [1053.9684]\n",
      " [1068.0203]\n",
      " [1076.2605]\n",
      " [1094.4077]\n",
      " [1105.568 ]\n",
      " [1119.5897]\n",
      " [1129.2427]\n",
      " [1135.5784]\n",
      " [1142.182 ]\n",
      " [1146.0526]\n",
      " [1155.4365]\n",
      " [1163.071 ]\n",
      " [1170.8203]\n",
      " [1184.2573]\n",
      " [1194.3785]\n",
      " [1193.6094]\n",
      " [1205.8491]\n",
      " [1216.9205]\n",
      " [1224.3452]\n",
      " [1237.0426]\n",
      " [1246.8499]\n",
      " [1252.6577]\n",
      " [1254.1193]\n",
      " [1264.7173]\n",
      " [1275.7957]\n",
      " [1284.8342]\n",
      " [1293.2805]\n",
      " [1302.1587]\n",
      " [1309.4281]\n",
      " [1311.7018]\n",
      " [1309.4005]\n",
      " [1317.3337]\n",
      " [1323.1271]\n",
      " [1328.3358]\n",
      " [1336.3014]\n",
      " [1331.1227]\n",
      " [1337.2709]\n",
      " [1340.187 ]\n",
      " [1336.5085]\n",
      " [1335.683 ]\n",
      " [1341.7329]\n",
      " [1360.9398]\n",
      " [1372.2656]\n",
      " [1377.1001]\n",
      " [1382.9196]\n",
      " [1392.421 ]\n",
      " [1393.4603]\n",
      " [1397.2675]\n",
      " [1402.276 ]\n",
      " [1399.1528]\n",
      " [1401.2272]\n",
      " [1392.5514]\n",
      " [1392.3933]\n",
      " [1392.7258]\n",
      " [1395.1705]\n",
      " [1404.4629]\n",
      " [1411.1298]\n",
      " [1426.0286]\n",
      " [1437.434 ]\n",
      " [1446.832 ]\n",
      " [1453.3514]\n",
      " [1467.5472]\n",
      " [1492.0194]\n",
      " [1509.0132]\n",
      " [1538.1101]\n",
      " [1584.3932]\n",
      " [1615.8442]\n",
      " [1645.3093]\n",
      " [1668.8138]\n",
      " [1705.5469]\n",
      " [1726.2278]\n",
      " [1738.0405]\n",
      " [1705.7213]\n",
      " [1692.3403]\n",
      " [1678.8207]\n",
      " [1677.124 ]\n",
      " [1678.9054]\n",
      " [1679.3124]\n",
      " [1656.0493]\n",
      " [1646.4432]\n",
      " [1653.5365]\n",
      " [1659.3384]\n",
      " [1667.3827]\n",
      " [1672.2777]\n",
      " [1672.97  ]\n",
      " [1673.7047]\n",
      " [1673.5443]\n",
      " [1664.7148]\n",
      " [1657.2166]\n",
      " [1652.3768]\n",
      " [1650.8391]\n",
      " [1645.1826]\n",
      " [1643.3562]\n",
      " [1649.6204]\n",
      " [1662.6847]\n",
      " [1676.447 ]\n",
      " [1681.1588]\n",
      " [1678.2008]\n",
      " [1679.6344]\n",
      " [1686.5533]\n",
      " [1700.3628]\n",
      " [1710.4939]\n",
      " [1718.8745]\n",
      " [1732.1923]\n",
      " [1750.0553]\n",
      " [1767.2734]\n",
      " [1777.8604]\n",
      " [1785.1682]\n",
      " [1783.6166]\n",
      " [1768.7491]\n",
      " [1754.1688]]\n"
     ]
    }
   ],
   "source": [
    "# 测试数据的预测\n",
    "y_test_predict = rnn_model.predict(x_test)\n",
    "y_test_predict = y_test_predict * max(train_data)\n",
    "print(y_test_predict)"
   ]
  },
  {
   "cell_type": "code",
   "execution_count": 20,
   "id": "sharing-quilt",
   "metadata": {},
   "outputs": [],
   "source": [
    "y_test = max(train_data) * y_test"
   ]
  },
  {
   "cell_type": "code",
   "execution_count": 21,
   "id": "russian-amateur",
   "metadata": {},
   "outputs": [
    {
     "name": "stdout",
     "output_type": "stream",
     "text": [
      "[1094.2152 1094.7094 1078.4    1062.8813 1063.0889 1040.6411  992.3257\n",
      " 1026.022  1037.8636 1058.631  1063.5732 1054.173  1085.3191 1084.5976\n",
      " 1078.4    1075.4346 1081.1874 1071.4808 1083.8365 1105.0882 1100.0273\n",
      " 1074.6241 1062.397  1061.2998 1074.8317 1044.7926 1073.4676 1100.1459\n",
      " 1115.882  1157.476  1142.1551 1101.1442 1142.6493 1145.1402 1125.3514\n",
      " 1099.1871 1054.6772 1033.0301  996.3487  984.4971 1023.3235 1007.2315\n",
      " 1043.8042 1067.6259 1052.6212 1063.079  1059.6194 1098.169  1090.2614\n",
      " 1131.7763 1126.6265 1146.5537 1146.3659 1145.1204 1151.5453 1148.8765\n",
      " 1171.4132 1175.8612 1183.2746 1211.8409 1213.1258 1186.1411 1230.1272\n",
      " 1237.7976 1236.1172 1261.2634 1264.3572 1260.1761 1251.0824 1284.9862\n",
      " 1296.8476 1299.4275 1307.7305 1317.6051 1320.521  1311.2691 1297.8361\n",
      " 1330.6625 1330.5637 1335.3972 1350.3228 1312.8605 1347.1598 1342.3164\n",
      " 1322.5474 1328.4781 1350.8171 1403.1061 1394.4176 1383.1394 1391.729\n",
      " 1408.5426 1389.8609 1400.1902 1407.2181 1384.286  1400.0123 1367.0276\n",
      " 1387.6665 1388.7736 1396.6812 1423.2112 1422.3809 1457.4709 1460.01\n",
      " 1463.17   1462.88   1494.27   1544.     1541.79   1600.     1688.\n",
      " 1681.34   1706.     1713.85   1781.99   1762.     1752.53   1614.\n",
      " 1648.05   1636.96   1668.     1678.08   1676.     1595.3    1622.55\n",
      " 1670.     1672.     1680.     1678.18   1668.     1669.99   1668.\n",
      " 1637.96   1631.     1633.99   1642.51   1626.95   1635.     1661.\n",
      " 1690.     1705.     1687.     1664.     1676.     1696.35   1727.\n",
      " 1727.     1731.     1757.     1786.5    1801.98   1795.     1793.\n",
      " 1770.     1723.5    1711.4    1688.    ]\n"
     ]
    }
   ],
   "source": [
    "print(y_test)"
   ]
  },
  {
   "cell_type": "code",
   "execution_count": 22,
   "id": "worst-symbol",
   "metadata": {},
   "outputs": [],
   "source": [
    "# r2分数\n",
    "r2_test_score = r2_score(y_test_predict, y_test)"
   ]
  },
  {
   "cell_type": "code",
   "execution_count": 23,
   "id": "bridal-subscriber",
   "metadata": {},
   "outputs": [
    {
     "name": "stdout",
     "output_type": "stream",
     "text": [
      "0.9765404924057063\n"
     ]
    }
   ],
   "source": [
    "print(r2_test_score)"
   ]
  },
  {
   "cell_type": "code",
   "execution_count": 24,
   "id": "neutral-intensity",
   "metadata": {},
   "outputs": [
    {
     "data": {
      "image/png": "[encoded data removed]",
      "text/plain": [
       "<Figure size 720x720 with 1 Axes>"
      ]
     },
     "metadata": {
      "needs_background": "light"
     },
     "output_type": "display_data"
    }
   ],
   "source": [
    "# 数据可视化\n",
    "fig3 = plt.figure(figsize=(10,10))\n",
    "plt.plot(y_test, label=\"实际价格\")\n",
    "plt.plot(y_test_predict, label=\"预测价格\")\n",
    "plt.title(\"贵州茅台每日收盘价\")\n",
    "plt.xlabel(\"时间序列\")\n",
    "plt.ylabel(\"收盘价\")\n",
    "plt.legend()\n",
    "plt.show()"
   ]
  },
  {
   "cell_type": "code",
   "execution_count": 30,
   "id": "advised-corruption",
   "metadata": {
    "scrolled": false
   },
   "outputs": [
    {
     "name": "stdout",
     "output_type": "stream",
     "text": [
      "(158, 1)\n",
      "(158, 1)\n"
     ]
    }
   ],
   "source": [
    "# 数据存储\n",
    "y_test_r = y_test.reshape(-1,1)\n",
    "print(y_test_r.shape)\n",
    "print(y_test_predict.shape)"
   ]
  },
  {
   "cell_type": "code",
   "execution_count": 31,
   "id": "bibliographic-mainstream",
   "metadata": {},
   "outputs": [],
   "source": [
    "final_result = np.concatenate((y_test_r,y_test_predict), axis=1)"
   ]
  },
  {
   "cell_type": "code",
   "execution_count": 33,
   "id": "shared-surveillance",
   "metadata": {},
   "outputs": [],
   "source": [
    "final_result_df = pd.DataFrame(final_result, columns=[\"y_test\", \"y_test_predict\"])\n",
    "final_result_df.to_csv(\"predict_test.csv\")"
   ]
  },
  {
   "cell_type": "raw",
   "id": "aware-edition",
   "metadata": {},
   "source": [
    "RNN预测股价实战summary：\n",
    "\n",
    "1、通过搭建RNN模型，完成了基于时间序列的股价预测任务；\n",
    "2、在熟悉RNN模型输入数据结构的同时，实现了数字序列数据的预处理；\n",
    "3、实现了数据存储，通过可视化数据局部细节了解了RNN用于股价预测的局限性：信息延迟\n",
    "\n",
    "RNN模型参考资料：https://keras.io/zh/layers/recurrent/#rnn"
   ]
  }
 ],
 "metadata": {
  "kernelspec": {
   "display_name": "Python 3",
   "language": "python",
   "name": "python3"
  },
  "language_info": {
   "codemirror_mode": {
    "name": "ipython",
    "version": 3
   },
   "file_extension": ".py",
   "mimetype": "text/x-python",
   "name": "python",
   "nbconvert_exporter": "python",
   "pygments_lexer": "ipython3",
   "version": "3.7.8"
  }
 },
 "nbformat": 4,
 "nbformat_minor": 5
}
