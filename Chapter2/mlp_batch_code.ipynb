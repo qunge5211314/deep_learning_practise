{
 "cells": [
  {
   "cell_type": "code",
   "execution_count": null,
   "metadata": {},
   "outputs": [],
   "source": [
    "#逐步迭代及结果可视化\n",
    "accuracy_train = []\n",
    "accuracy_test = []\n",
    "for i in range(0,21):\n",
    "    #train the model\n",
    "    if i == 0:\n",
    "        mlp.fit(X_train,y_train,epochs=1)\n",
    "    else:\n",
    "        mlp.fit(X_train,y_train,epochs=500)\n",
    "    #make prediction and calculate the accuracy\n",
    "    y_train_predict = mlp.predict_classes(X_train)\n",
    "    accuracy_train_i = accuracy_score(y_train,y_train_predict)\n",
    "    #make prediction based on the test data\n",
    "    y_test_predict = mlp.predict_classes(X_test)\n",
    "    accuracy_test_i = accuracy_score(y_test,y_test_predict)  \n",
    "    accuracy_train.append(accuracy_train_i)\n",
    "    accuracy_test.append(accuracy_test_i)\n",
    "    \n",
    "    #generate new data for plot\n",
    "    xx, yy = np.meshgrid(np.arange(0,100,1),np.arange(0,100,1))\n",
    "    x_range = np.c_[xx.ravel(),yy.ravel()]\n",
    "    y_range_predict = mlp.predict_classes(x_range)\n",
    "    #format the output\n",
    "    y_range_predict_form = pd.Series(i[0] for i in y_range_predict)\n",
    "\n",
    "    fig_i = plt.figure(figsize=(5,5))\n",
    "    label1_predict=plt.scatter(x_range[:,0][y_range_predict_form==1],x_range[:,1][y_range_predict_form==1])\n",
    "    label0_predict=plt.scatter(x_range[:,0][y_range_predict_form==0],x_range[:,1][y_range_predict_form==0])\n",
    "    label1=plt.scatter(X.loc[:,'x1'][y==1],X.loc[:,'x2'][y==1])\n",
    "    label0=plt.scatter(X.loc[:,'x1'][y==0],X.loc[:,'x2'][y==0])\n",
    "    plt.legend((label1,label0,label1_predict,label0_predict),('label1','label0','label1_predict','label0_predict'))\n",
    "    plt.xlabel('x1')\n",
    "    plt.ylabel('x2')\n",
    "    plt.title('epochs={}'.format(1+i*500))\n",
    "    plt.show()\n",
    "    fig_i.savefig('2d_output/{}.png'.format(i),dpi=500,bbox_inches = 'tight')    "
   ]
  }
 ],
 "metadata": {
  "kernelspec": {
   "display_name": "Python 3",
   "language": "python",
   "name": "python3"
  },
  "language_info": {
   "codemirror_mode": {
    "name": "ipython",
    "version": 3
   },
   "file_extension": ".py",
   "mimetype": "text/x-python",
   "name": "python",
   "nbconvert_exporter": "python",
   "pygments_lexer": "ipython3",
   "version": "3.6.10"
  }
 },
 "nbformat": 4,
 "nbformat_minor": 2
}
